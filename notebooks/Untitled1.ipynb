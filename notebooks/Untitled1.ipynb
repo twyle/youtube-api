{
 "cells": [
  {
   "cell_type": "code",
   "execution_count": 11,
   "id": "4e3f74ac",
   "metadata": {},
   "outputs": [],
   "source": [
    "from googleapiclient.discovery import build\n",
    "from google_auth_oauthlib.flow import InstalledAppFlow\n",
    "from google.auth.transport.requests import Request\n",
    "from google.auth.exceptions import RefreshError\n",
    "\n",
    "import re\n",
    "import os\n",
    "import pickle\n",
    "from enum import Enum"
   ]
  },
  {
   "cell_type": "code",
   "execution_count": null,
   "id": "48f72dd8",
   "metadata": {},
   "outputs": [],
   "source": [
    "\"\"\"\n",
    "Oauth consent https://console.cloud.google.com/apis/credentials/consent?project=potent-ripple-377913\n",
    "youtube = YouTube(credentials_file='', token_path='')\n",
    "youtube.authenticate()\n",
    "youtube.search_video(): query -> List[YouTubeVideo]\n",
    "youtube.search_channel(): query -> List[YouTubeChannel]\n",
    "youtube.search_playlist(): query -> List[PlayList]\n",
    "youtube.find_video_by_id(): video_id -> YouTubeVideo\n",
    "youtube.find_video_by_url(): video_url -> YouTubeVideo\n",
    "youtube.utils\n",
    "\"\"\""
   ]
  },
  {
   "cell_type": "code",
   "execution_count": 2,
   "id": "f7c00058",
   "metadata": {},
   "outputs": [],
   "source": [
    "class YouTubeAPIConstants:\n",
    "    TOKEN_FILE = 'token.pickle'\n",
    "    API_SERVICE_NAME = 'youtube'\n",
    "    API_VERSION = 'v3'\n",
    "    SCOPES = [\"https://www.googleapis.com/auth/youtube.force-ssl\"]"
   ]
  },
  {
   "cell_type": "code",
   "execution_count": 3,
   "id": "86afc950",
   "metadata": {},
   "outputs": [],
   "source": [
    "class Authenticate:\n",
    "    \"\"\"Handle the YouTube authentication process.\"\"\"\n",
    "    os.environ[\"OAUTHLIB_INSECURE_TRANSPORT\"] = \"1\"\n",
    "    __TOKEN_FILE = YouTubeAPIConstants.TOKEN_FILE\n",
    "    __API_SERVICE_NAME = YouTubeAPIConstants.API_SERVICE_NAME\n",
    "    __API_VERSION = YouTubeAPIConstants.API_VERSION\n",
    "    __SCOPES = YouTubeAPIConstants.SCOPES\n",
    "    \n",
    "    def __init__(self, client_secrets_file: str , api_token_path: str = ''):\n",
    "        \"\"\"Create the auth object.\"\"\"\n",
    "        self.__credentials = None\n",
    "        \n",
    "        self.__verify_client_secret_file(client_secrets_file)\n",
    "        self.__client_secrets_file = client_secrets_file\n",
    "        \n",
    "        if not api_token_path or not os.path.exists(api_token_path):\n",
    "            self.__api_token_path = self.__get_default_api_token_path()\n",
    "        else:\n",
    "            self.__api_token_path = api_token_path\n",
    "            \n",
    "    def __verify_client_secret_file(self, client_secrets_file: str) -> None:\n",
    "        \"\"\"Verfy the client secret file.\"\"\"\n",
    "        if not client_secrets_file:\n",
    "            raise ValueError('The clients secret file path has to be provided.')\n",
    "        if not isinstance(client_secrets_file, str):\n",
    "            raise TypeError('The clients secret file should be a string.')\n",
    "        if not os.path.exists(client_secrets_file):\n",
    "            raise ValueError(f'The path {client_secrets_file} does not exist!')\n",
    "        \n",
    "    def __get_default_api_token_path(self):\n",
    "        \"\"\"Generate the default api token file location.\"\"\"\n",
    "        current_user_home_dir = os.path.expanduser('~')\n",
    "        api_token_path = os.path.join(current_user_home_dir, self.__TOKEN_FILE)\n",
    "        return api_token_path\n",
    "    \n",
    "    def __authenticate_youtube(self):\n",
    "        \"\"\"Authenticate the YouTube API.\"\"\"\n",
    "        if os.path.exists(self.__api_token_path):\n",
    "            with open(self.__api_token_path, \"rb\") as token:\n",
    "                self.__credentials = pickle.load(token)\n",
    "        # if there are no (valid) credentials availablle, let the user log in.\n",
    "        if not self.__credentials or not self.__credentials.valid:\n",
    "            if self.__credentials and self.__credentials.expired and self.__credentials.refresh_token:\n",
    "                self.__credentials.refresh(Request())\n",
    "            else:\n",
    "                flow = InstalledAppFlow.from_client_secrets_file(self.__client_secrets_file, self.__SCOPES)\n",
    "                self.__credentials = flow.run_local_server(port=0)\n",
    "            # save the credentials for the next run\n",
    "            with open(self.__api_token_path, \"wb\") as token:\n",
    "                pickle.dump(self.__credentials, token)\n",
    "\n",
    "        return build(self.__API_SERVICE_NAME, self.__API_VERSION, credentials=self.__credentials)\n",
    "    \n",
    "    def authenticate(self):\n",
    "        try:\n",
    "            youtube_client =  self.__authenticate_youtube()\n",
    "        except RefreshError as e:\n",
    "            #delete token\n",
    "            raise Exception('The token is expired. Kindly generate a new one.')\n",
    "        else:\n",
    "            return youtube_client"
   ]
  },
  {
   "cell_type": "code",
   "execution_count": 4,
   "id": "1607ddb1",
   "metadata": {},
   "outputs": [],
   "source": [
    "class YouTubeSearchQuery:\n",
    "    \"\"\"A query to pass to the search resource.\"\"\"\n",
    "    \n",
    "    def __init__(self, query_string: str):\n",
    "        self.__query_string = query_string\n",
    "        \n",
    "    @property\n",
    "    def query_string(self):\n",
    "        return self.__query_string\n",
    "    \n",
    "    @query_string.setter\n",
    "    def query_string(self, query_str: str):\n",
    "        if not query_str:\n",
    "            raise ValueError('The query string has to be provided')\n",
    "        if not isinstance(query_str, str):\n",
    "            raise TypeError('The query string has to be a string')\n",
    "        self.__query_string = query_str\n",
    "\n",
    "        \n",
    "class YouTubeVideoSearchQuery(YouTubeSearchQuery):\n",
    "    pass"
   ]
  },
  {
   "cell_type": "code",
   "execution_count": 5,
   "id": "bfd143cc",
   "metadata": {},
   "outputs": [],
   "source": [
    "class YouTubeSearchType:\n",
    "    VIDEO = 'video'\n",
    "    CHANNEL = 'channel'\n",
    "    PLAYLIST = 'playlist'"
   ]
  },
  {
   "cell_type": "code",
   "execution_count": 15,
   "id": "d1904642",
   "metadata": {},
   "outputs": [],
   "source": [
    "class YouTubeSearch:\n",
    "    __MAX_RESULTS = 10\n",
    "    __REGION_CODE = 'US'\n",
    "    \n",
    "    def __init__(self, *args, **kwargs):\n",
    "        pass"
   ]
  },
  {
   "cell_type": "code",
   "execution_count": 102,
   "id": "3bf0cc7d",
   "metadata": {},
   "outputs": [],
   "source": [
    "class YouTubeVideoStats:\n",
    "    def __init__(self, viewCount: int, likeCount: int, commentCount: int):\n",
    "        self.__view_count = int(viewCount)\n",
    "        self.__like_count = int(likeCount)\n",
    "        self.__comment_count = int(commentCount)\n",
    "        \n",
    "    def get_video_stats(self):\n",
    "        video_stats = {\n",
    "            'view_count': self.__view_count,\n",
    "            'like_count': self.__like_count,\n",
    "            'comment_count': self.__comment_count\n",
    "        }\n",
    "        return video_stats"
   ]
  },
  {
   "cell_type": "code",
   "execution_count": 103,
   "id": "61d4b18a",
   "metadata": {},
   "outputs": [],
   "source": [
    "class YouTubeVideoDetails:\n",
    "    def __init__(self, id: str, channelId: str, title: str, channelTitle: str, \n",
    "                 description: str, tags: list[str], duration: str, licensedContent: bool):\n",
    "        self.__id = id\n",
    "        self.__channel_id = channelId\n",
    "        self.__title = title\n",
    "        self.__channel_title = channelTitle\n",
    "        self.__description = description\n",
    "        self.__tags = tags\n",
    "        self.__duration = duration\n",
    "        self.__licensed_content = licensedContent\n",
    "        \n",
    "    def get_video_details(self):\n",
    "        video_details = {\n",
    "            'id': self.__id,\n",
    "            'channel_id': self.__channel_id,\n",
    "            'title': self.__title,\n",
    "            'channel_title': self.__channel_title,\n",
    "            'description': self.__description,\n",
    "            'tags': self.__tags,\n",
    "            'duration': self.__duration,\n",
    "            'licensed_content': self.__licensed_content\n",
    "        }\n",
    "        return video_details\n",
    "    \n",
    "    def get_video_id(self):\n",
    "        return self.__id"
   ]
  },
  {
   "cell_type": "code",
   "execution_count": 104,
   "id": "266423f4",
   "metadata": {},
   "outputs": [],
   "source": [
    "class YouTubeVideo:\n",
    "    \"\"\"A YouTube Video.\"\"\"\n",
    "    def __init__(self, video_details):\n",
    "        self.__video_stats = self.__create_video_stats(video_details)\n",
    "        self.__video_details = self.__create_video_details(video_details)\n",
    "        self.__video_top_level_comments = None\n",
    "        \n",
    "    def get_video_stats_details(self):\n",
    "        video_stats_details = dict()\n",
    "        video_stats_details['details'] = self.get_video_details()\n",
    "        video_stats_details['statistics'] = self.get_video_stats()\n",
    "        return video_stats_details\n",
    "    \n",
    "    def get_video_comments(self, youtube_client):\n",
    "        if not self.__video_top_level_comments:\n",
    "            youtube_commenthread = YouTubeCommentThread(self.get_video_id())\n",
    "            self.__video_top_level_comments = youtube_commenthread.get_video_comments(youtube_client)\n",
    "        return self.__video_top_level_comments\n",
    "        \n",
    "    def __create_video_stats(self, video_details: dict):\n",
    "        video_stats = YouTubeVideoStats(**video_details['statistics'])\n",
    "        return video_stats\n",
    "    \n",
    "    def __create_video_details(self, video_details: dict):\n",
    "        video_details = YouTubeVideoDetails(**video_details['details'])\n",
    "        return video_details\n",
    "        \n",
    "    def get_video_stats(self):\n",
    "        return self.__video_stats.get_video_stats()\n",
    "    \n",
    "    def get_video_details(self):\n",
    "        return self.__video_details.get_video_details()\n",
    "    \n",
    "    def get_video_top_level_comments(self):\n",
    "        pass\n",
    "    \n",
    "    def get_video_id(self):\n",
    "        return self.__video_details.get_video_id()\n",
    "    \n",
    "    def get_video_title(self):\n",
    "        pass"
   ]
  },
  {
   "cell_type": "code",
   "execution_count": 105,
   "id": "98320d37",
   "metadata": {},
   "outputs": [],
   "source": [
    "class VideoSearch(YouTubeSearch):\n",
    "    __MAX_RESULTS = 10\n",
    "    __REGION_CODE = 'US'\n",
    "    \n",
    "    def __init__(self, query_string: str):\n",
    "        self.__type = YouTubeSearchType.VIDEO\n",
    "        self.__query = YouTubeSearchQuery(query_string)\n",
    "        \n",
    "    def __get_query(self):\n",
    "        return self.__query.query_string\n",
    "        \n",
    "    def basic_info(self):\n",
    "        basic_info_params = self.__generate_basic_info_params()\n",
    "        return basic_info_params\n",
    "    \n",
    "    def advanced_info(self):\n",
    "        pass\n",
    "    \n",
    "    def all_info(self):\n",
    "        pass\n",
    "    \n",
    "    def __generate_basic_info_params(self):\n",
    "        basic_info_params = dict(\n",
    "            part='id,snippet',\n",
    "            type=self.__type,\n",
    "            q=self.__get_query(),\n",
    "            maxResults=self.__MAX_RESULTS,\n",
    "            regionCode=self.__REGION_CODE\n",
    "        ) \n",
    "        return basic_info_params\n",
    "    \n",
    "    def search_video(self, youtube_client, search_type='basic'):\n",
    "        search_response = None\n",
    "        if search_type == 'basic':\n",
    "            basic_info_params = self.__generate_basic_info_params()\n",
    "            search_request = youtube_client.search().list(\n",
    "                **basic_info_params\n",
    "            )\n",
    "            search_response = search_request.execute()\n",
    "            videos = self.__parse_basic_response(search_response, youtube_client)\n",
    "        return videos\n",
    "    \n",
    "    def __parse_basic_response(self, search_response, youtube_client):\n",
    "        videos = []\n",
    "        video_results = search_response['items']\n",
    "        for video_result in video_results:\n",
    "            video_id = video_result['id']['videoId']\n",
    "            youtube_video = FindVideo(video_id).find_video(youtube_client)\n",
    "            videos.append(youtube_video)\n",
    "        return videos"
   ]
  },
  {
   "cell_type": "code",
   "execution_count": 106,
   "id": "d5221e79",
   "metadata": {},
   "outputs": [],
   "source": [
    "class FindVideo:\n",
    "    def __init__(self, video_id: str):\n",
    "        \"\"\"Find the video with the given id.\"\"\"\n",
    "        self.__video_id = video_id\n",
    "        \n",
    "    def __generate_basic_info_params(self):\n",
    "        basic_info_params = dict(\n",
    "            id=self.__video_id,\n",
    "            part='snippet,contentDetails,statistics'\n",
    "        ) \n",
    "        return basic_info_params\n",
    "    \n",
    "    def find_video(self, youtube_client):\n",
    "        \"\"\"Find the video.\"\"\"\n",
    "        basic_info_params = self.__generate_basic_info_params()\n",
    "        search_request = youtube_client.videos().list(\n",
    "                **basic_info_params\n",
    "            )\n",
    "        search_response = search_request.execute()\n",
    "        parsed_response = self.__parse_video_details(search_response)\n",
    "        youtube_video = YouTubeVideo(parsed_response)\n",
    "        return youtube_video\n",
    "    \n",
    "    def __parse_video_details(self, video_details: dict):\n",
    "        \"\"\"Parse the video details.\n",
    "\n",
    "        Returns\n",
    "        -------\n",
    "        parsed_video_details: dict\n",
    "            A dictionary of the YouTube video details.\n",
    "        \"\"\"\n",
    "        parsed_video_details = dict()\n",
    "        items = video_details['items'][0]\n",
    "        parsed_video_details['details'] = dict()\n",
    "        parsed_video_details['statistics'] = dict()\n",
    "        parsed_video_details['details']['id'] = items['id']\n",
    "        parsed_video_details['details']['channelId'] = items['snippet']['channelId']\n",
    "        parsed_video_details['details']['title'] = items['snippet']['title']\n",
    "        parsed_video_details['details']['channelTitle'] = items['snippet']['channelTitle']\n",
    "        parsed_video_details['details']['description'] = items['snippet']['description']\n",
    "        if items['snippet'].get('tags'):\n",
    "            parsed_video_details['details']['tags'] = items['snippet']['tags']\n",
    "        else:\n",
    "            parsed_video_details['details']['tags'] = []\n",
    "        parsed_video_details['details']['duration'] = items['contentDetails']['duration']\n",
    "        parsed_video_details['details']['licensedContent'] = items['contentDetails']['licensedContent']\n",
    "        parsed_video_details['statistics']['viewCount'] = items['statistics']['viewCount']\n",
    "        parsed_video_details['statistics']['likeCount'] = items['statistics']['likeCount']\n",
    "        parsed_video_details['statistics']['commentCount'] = items['statistics']['commentCount']\n",
    "        return parsed_video_details"
   ]
  },
  {
   "cell_type": "code",
   "execution_count": 107,
   "id": "3e4fea59",
   "metadata": {},
   "outputs": [],
   "source": [
    "class YouTube:\n",
    "    def __init__(self, credentials_file='', token_path=''):\n",
    "        self.__auth = Authenticate(credentials_file, token_path)\n",
    "        self.__youtube_client = self.__youtube_client = self.__auth.authenticate()\n",
    "\n",
    "    def get_youtube(self):\n",
    "        return self.__youtube_client\n",
    "        \n",
    "    def search_video(self, query_string: str) -> list[str]:\n",
    "        videos = VideoSearch(query_string).search_video(self.__youtube_client)\n",
    "        return videos\n",
    "    \n",
    "    def find_video_by_url(self, video_url: str):\n",
    "        \"\"\"Get a specific video given the video url.\"\"\"\n",
    "        video_id = self.__get_video_id(video_url)\n",
    "        return self.find_video_by_id(video_id)\n",
    "        \n",
    "    def find_video_by_id(self, video_id: str):\n",
    "        \"\"\"Find a video by id.\"\"\"\n",
    "        youtube_video = FindVideo(video_id).find_video(self.__youtube_client)\n",
    "        return youtube_video\n",
    "    \n",
    "    @staticmethod\n",
    "    def __get_video_id(video_url: str) -> str:\n",
    "        \"\"\"Get vdeo ID from video url\"\"\"\n",
    "        if not video_url:\n",
    "            raise ValueError('The video_ur has to be provided.')\n",
    "        if not isinstance(video_url, str):\n",
    "            raise TypeError('Te video_url has to be a string.')\n",
    "        if '=' not in video_url:\n",
    "            url_format = 'https://www.youtube.com/watch?v=Dqdu-FsBk0s'\n",
    "            raise ValueError('Te video_url should be of the format \"{url_format}\"')\n",
    "        video_url = video_url.split('=')[1]\n",
    "        return video_url"
   ]
  },
  {
   "cell_type": "code",
   "execution_count": 44,
   "id": "eb095b8c",
   "metadata": {},
   "outputs": [],
   "source": [
    "youtube = YouTube(credentials_file='/home/lyle/Downloads/client_secret.json', \n",
    "                  token_path='')\n",
    "youtube_client = youtube.get_youtube()"
   ]
  },
  {
   "cell_type": "code",
   "execution_count": 45,
   "id": "f6b6894c",
   "metadata": {},
   "outputs": [],
   "source": [
    "videos = youtube.search_video('python programming')"
   ]
  },
  {
   "cell_type": "code",
   "execution_count": 47,
   "id": "3572cd9a",
   "metadata": {
    "collapsed": true
   },
   "outputs": [
    {
     "data": {
      "text/plain": [
       "{'details': {'id': 'kqtD5dpn9C8',\n",
       "  'channel_id': 'UCWv7vMbMWH4-V0ZXdmDpPBA',\n",
       "  'title': 'Python for Beginners - Learn Python in 1 Hour',\n",
       "  'channel_title': 'Programming with Mosh',\n",
       "  'description': 'This Python tutorial for beginners show how to get started with Python quickly. Learn to code in 1 hour! Watch this tutorial get started! \\n👍 Subscribe for more Python tutorials like this: https://goo.gl/6PYaGF\\n🔥 Want to learn more? Watch my complete Python course: https://youtu.be/_uQrJ0TkZlc\\n\\n📕 Get my FREE Python cheat sheet: http://bit.ly/2Gp80s6\\n\\nCourses: https://codewithmosh.com\\nTwitter: https://twitter.com/moshhamedani\\nFacebook: https://www.facebook.com/programmingwithmosh/\\nBlog: http://programmingwithmosh.com\\n\\n#Python, #MachineLearning, #WebDevelopment\\n\\n📔 Python Exercises for Beginners: https://goo.gl/1XnQB1\\n\\n⭐ My Favorite Python Books\\n- Python Crash Course: https://amzn.to/2GqMdjG\\n- Automate the Boring Stuff with Python: https://amzn.to/2N71d6S\\n- A Smarter Way to Learn Python: https://amzn.to/2UZa6lE\\n- Machine Learning for Absolute Beginners: https://amzn.to/2Gs0koL\\n- Hands-on Machine Learning with scikit-learn and TensorFlow: https://amzn.to/2IdUuJy\\n\\nTABLE OF CONTENT\\n\\n0:00:00 Introduction \\n0:00:30 What You Can Do With Python \\n0:01:15 Your First Python Program \\n0:05:30 Variables\\n0:09:08 Receiving Input\\n0:10:48 Type Conversion\\n0:18:49 Strings\\n0:23:41 Arithmetic Operators \\n0:25:59 Operator Precedence \\n0:27:11 Comparison Operators \\n0:28:52 Logical Operators\\n0:31:06 If Statements\\n0:36:16 Exercise\\n0:41:42 While Loops\\n0:45:11 Lists\\n0:48:47 List Methods\\n0:52:16 For Loops\\n0:54:54 The range() Function \\n0:57:43 Tuples',\n",
       "  'tags': ['code with mosh',\n",
       "   'introduction to python',\n",
       "   'learn python',\n",
       "   'learn python programming',\n",
       "   'mosh hamedani',\n",
       "   'programming',\n",
       "   'programming with mosh',\n",
       "   'python',\n",
       "   'python 2020',\n",
       "   'python 3',\n",
       "   'python basics',\n",
       "   'python course',\n",
       "   'python crash course',\n",
       "   'python for beginners',\n",
       "   'python from scratch',\n",
       "   'python programming',\n",
       "   'python tutorial',\n",
       "   'python tutorial for beginners',\n",
       "   'web development'],\n",
       "  'duration': 'PT1H6S',\n",
       "  'licensed_content': True},\n",
       " 'statistics': {'view_count': 10323890,\n",
       "  'like_count': 261674,\n",
       "  'comment_count': 15371}}"
      ]
     },
     "execution_count": 47,
     "metadata": {},
     "output_type": "execute_result"
    }
   ],
   "source": [
    "videos[0].get_video_stats_details()"
   ]
  },
  {
   "cell_type": "code",
   "execution_count": 131,
   "id": "fca24f06",
   "metadata": {},
   "outputs": [],
   "source": [
    "class YouTubeComment:\n",
    "    def __init__(self, id: str, videoId: str, totalReplyCount: str, textDisplay: str, \n",
    "                authorDisplayName: str, authorProfileImageUrl: str, authorChannelId: str,\n",
    "                likeCount: str, publishedAt: str, updatedAt: str):\n",
    "        self.__id = id\n",
    "        self.__video_id = videoId\n",
    "        self.__total_reply_count = totalReplyCount\n",
    "        self.__text_display = textDisplay\n",
    "        self.__author_display_name = authorDisplayName\n",
    "        self.__author_profile_image_url = authorProfileImageUrl\n",
    "        self.__author_channel_id = authorChannelId\n",
    "        self.__like_count = int(likeCount)\n",
    "        self.__published_at = publishedAt\n",
    "        self.__updated_at = updatedAt\n",
    "        \n",
    "    def get_comment(self):\n",
    "        comment = dict(\n",
    "            id=self.__id,\n",
    "            videoId=self.__video_id,\n",
    "            totalReplyCount=self.__total_reply_count,\n",
    "            textDisplay=self.__text_display,\n",
    "            authorDisplayName = self.__author_display_name,\n",
    "            authorProfileImageUrl = self.__author_profile_image_url,\n",
    "            authorChannelId = self.__author_channel_id,\n",
    "            likeCount = self.__like_count,\n",
    "            publishedAt = self.__published_at,\n",
    "            updatedAt = self.__updated_at\n",
    "        )\n",
    "        return comment\n",
    "    \n",
    "    def get_comment_text(self):\n",
    "        comment_text = self.__text_display\n",
    "        return comment_text\n",
    "    \n",
    "    def __str__(self):\n",
    "        return self.get_comment_text()\n",
    "    \n",
    "    def __repr__(self):\n",
    "        return f\"YouTubeComment(id='{self.__id}', videoId='{self.__video_id}', \\\n",
    "        totalReplyCount={self.__total_reply_count})\""
   ]
  },
  {
   "cell_type": "code",
   "execution_count": 116,
   "id": "a14684ee",
   "metadata": {},
   "outputs": [],
   "source": [
    "class YouTubeCommentThread:\n",
    "    def __init__(self, video_id: str):\n",
    "        self.__video_id = video_id\n",
    "        \n",
    "    def get_video_comments(self, youtube_client):\n",
    "        \"\"\"Get the top level comments for a video.\"\"\"\n",
    "        youtube_comments = self.__find_comments(youtube_client)\n",
    "        youtube_comments = [self.__create_comment(comment) for comment in youtube_comments]\n",
    "        return youtube_comments\n",
    "        \n",
    "    def __generate_basic_info_params(self):\n",
    "        basic_info_params = dict(\n",
    "            videoId=self.__video_id,\n",
    "            part='snippet,replies'\n",
    "        ) \n",
    "        return basic_info_params\n",
    "    \n",
    "    def __find_comments(self, youtube_client):\n",
    "        \"\"\"Find the video comments.\"\"\"\n",
    "        basic_info_params = self.__generate_basic_info_params()\n",
    "        search_request = youtube_client.commentThreads().list(\n",
    "                **basic_info_params\n",
    "            )\n",
    "        search_response = search_request.execute()\n",
    "        comments = self.__parse_comments(search_response)\n",
    "        return comments\n",
    "    \n",
    "    def __create_comment(self, comment_details):\n",
    "        youtube_comment = YouTubeComment(**comment_details)\n",
    "        return youtube_comment\n",
    "\n",
    "    def __parse_comments(self, search_response):\n",
    "        items = search_response['items']\n",
    "        comments = []\n",
    "        for item in items:\n",
    "            comments.append({\n",
    "                'id': item['id'],\n",
    "                'videoId': item['snippet']['videoId'],\n",
    "                'totalReplyCount': item['snippet']['totalReplyCount'],\n",
    "                'textDisplay': item['snippet']['topLevelComment']['snippet']['textDisplay'],\n",
    "                'authorDisplayName': item['snippet']['topLevelComment']['snippet']['authorDisplayName'],\n",
    "                'authorProfileImageUrl': item['snippet']['topLevelComment']['snippet']['authorProfileImageUrl'],\n",
    "                'authorChannelId': item['snippet']['topLevelComment']['snippet']['authorChannelId']['value'],\n",
    "                'likeCount': item['snippet']['topLevelComment']['snippet']['likeCount'],\n",
    "                'publishedAt': item['snippet']['topLevelComment']['snippet']['publishedAt'],\n",
    "                'updatedAt': item['snippet']['topLevelComment']['snippet']['updatedAt']\n",
    "        })\n",
    "        return comments"
   ]
  },
  {
   "cell_type": "code",
   "execution_count": 66,
   "id": "1518e18d",
   "metadata": {},
   "outputs": [],
   "source": [
    "youtube_commenthread = YouTubeCommentThread('kqtD5dpn9C8')\n",
    "youtube_comments = youtube_commenthread.get_video_comments(youtube_client)"
   ]
  },
  {
   "cell_type": "code",
   "execution_count": 67,
   "id": "1c4a18ad",
   "metadata": {
    "collapsed": true
   },
   "outputs": [
    {
     "data": {
      "text/plain": [
       "[{'id': 'Ugzby30dYHdobijJxnF4AaABAg',\n",
       "  'videoId': 'kqtD5dpn9C8',\n",
       "  'totalReplyCount': 46,\n",
       "  'textDisplay': '🔥 Want to master Python? Get my complete Python course: <a href=\"http://bit.ly/35BLHHP\">http://bit.ly/35BLHHP</a><br>👍 Subscribe for more Python tutorials like this: <a href=\"https://goo.gl/6PYaGF\">https://goo.gl/6PYaGF</a>',\n",
       "  'authorDisplayName': 'Programming with Mosh',\n",
       "  'authorProfileImageUrl': 'https://yt3.ggpht.com/tBEPr-zTNXEeae7VZKSZYfiy6azzs9OHowq5ZvogJeHoVtKtEw2PXSwzMBKVR7W0MI7gyND8=s48-c-k-c0x00ffffff-no-rj',\n",
       "  'authorChannelId': 'UCWv7vMbMWH4-V0ZXdmDpPBA',\n",
       "  'likeCount': 224,\n",
       "  'publishedAt': '2022-03-07T23:14:30Z',\n",
       "  'updatedAt': '2022-09-20T17:50:56Z'},\n",
       " {'id': 'UgxwxwZcrMaDg7t4r-J4AaABAg',\n",
       "  'videoId': 'kqtD5dpn9C8',\n",
       "  'totalReplyCount': 0,\n",
       "  'textDisplay': 'weight = float(input (&quot;Weight: &quot;))\\r<br>KG = input(&quot;(K)g or (L)bs: &quot;)\\r<br>if KG.upper() == &quot;K&quot;:\\r<br>    print(&quot;Weight in Kg: &quot;, weight * 0.45)\\r<br>elif KG == &quot;L&quot; or &quot;l&quot;:\\r<br>    print(&quot;Weight in lbs: &quot;, weight / 0.45)',\n",
       "  'authorDisplayName': 'Renaissance Man',\n",
       "  'authorProfileImageUrl': 'https://yt3.ggpht.com/ytc/AL5GRJW5vuLXbfu_P07jdwT6Eebtm5zZB8iw6gsCSPA-RA=s48-c-k-c0x00ffffff-no-rj',\n",
       "  'authorChannelId': 'UCKVRn0yIH_EO5qgRdCb6J5g',\n",
       "  'likeCount': 0,\n",
       "  'publishedAt': '2023-03-12T10:12:36Z',\n",
       "  'updatedAt': '2023-03-12T10:12:36Z'},\n",
       " {'id': 'UgzVmRNNr6yCSctO2DZ4AaABAg',\n",
       "  'videoId': 'kqtD5dpn9C8',\n",
       "  'totalReplyCount': 0,\n",
       "  'textDisplay': '<a href=\"http://www.youtube.com/results?search_query=%23weight\">#Weight</a> Converter<br>weight_unit = input(&quot;In what unit is the weight? K for Kg and L for Lbs &quot;).upper()<br>weight_num = float(input(&quot;Weight in numbers.  &quot;))<br><br>def cal_weight():<br>  if weight_unit == &quot;K&quot;:<br>    converted_weight = weight_num * 2.20462<br>    print(f&quot;{weight_num}Kg is {converted_weight}lbs&quot;)<br>  elif weight_unit == &quot;L&quot;:<br>    converted_weight = weight_num / 2.20462<br>    print(f&quot;{weight_num}lbs is {converted_weight}Kg&quot;)<br>  else: <br>    print(&quot;Error! please rerun program and enter the right unit, L or K&quot;)<br><br>   <br><br>cal_weight()',\n",
       "  'authorDisplayName': 'Ikechukwu Nwankwo',\n",
       "  'authorProfileImageUrl': 'https://yt3.ggpht.com/ytc/AL5GRJVjEa_wIZP8xYDF-cL-BhveMkTWNSArSWb5Mk52UQ=s48-c-k-c0x00ffffff-no-rj',\n",
       "  'authorChannelId': 'UCiSCgMhfW-d7R_n8Ygfql6g',\n",
       "  'likeCount': 0,\n",
       "  'publishedAt': '2023-03-12T00:45:43Z',\n",
       "  'updatedAt': '2023-03-12T00:45:43Z'},\n",
       " {'id': 'Ugwnb4OHB2u1Apczep14AaABAg',\n",
       "  'videoId': 'kqtD5dpn9C8',\n",
       "  'totalReplyCount': 0,\n",
       "  'textDisplay': '<a href=\"http://www.youtube.com/results?search_query=%23calculator\">#Calculator</a> program<br>operator = input(&quot;What do you want to do? (+,-,*,/) select one!&gt;&gt; &quot;)<br>first_num = float(input(&quot;Enter the first number&gt;  &quot;))<br>second_num = float(input(&quot;Enter the second number&gt;  &quot;))<br>def cal():<br>    if operator == &quot;+&quot; :<br>        answer = first_num + second_num<br>        return answer<br>    elif operator == &quot;-&quot;:<br>        answer = first_num - second_num<br>        return answer<br>    elif operator == &quot;*&quot;:<br>        answer = first_num * second_num<br>        return answer<br>    elif operator == &quot;/&quot;:<br>        answer = first_num/second_num<br>        return answer<br>    else:<br>        print(&quot;Error in operator selection, please rerun program and select any of +,-,*,/ &quot;)<br><br>print(cal())',\n",
       "  'authorDisplayName': 'Ikechukwu Nwankwo',\n",
       "  'authorProfileImageUrl': 'https://yt3.ggpht.com/ytc/AL5GRJVjEa_wIZP8xYDF-cL-BhveMkTWNSArSWb5Mk52UQ=s48-c-k-c0x00ffffff-no-rj',\n",
       "  'authorChannelId': 'UCiSCgMhfW-d7R_n8Ygfql6g',\n",
       "  'likeCount': 1,\n",
       "  'publishedAt': '2023-03-11T23:56:29Z',\n",
       "  'updatedAt': '2023-03-11T23:56:29Z'},\n",
       " {'id': 'UgykWB84sBHOdPhSGVV4AaABAg',\n",
       "  'videoId': 'kqtD5dpn9C8',\n",
       "  'totalReplyCount': 0,\n",
       "  'textDisplay': 'name = input(&quot;What is your name? &quot;)<br>age = input(&quot;How old are you? &quot;)<br>new_patient = input (&quot;Are you a new patient?(True/False) &quot;)<br><br>print(f&quot;{name} is {age} years old and new patient status is {new_patient}&quot;)',\n",
       "  'authorDisplayName': 'Ikechukwu Nwankwo',\n",
       "  'authorProfileImageUrl': 'https://yt3.ggpht.com/ytc/AL5GRJVjEa_wIZP8xYDF-cL-BhveMkTWNSArSWb5Mk52UQ=s48-c-k-c0x00ffffff-no-rj',\n",
       "  'authorChannelId': 'UCiSCgMhfW-d7R_n8Ygfql6g',\n",
       "  'likeCount': 0,\n",
       "  'publishedAt': '2023-03-11T23:04:03Z',\n",
       "  'updatedAt': '2023-03-11T23:04:03Z'},\n",
       " {'id': 'Ugy9ePbQKDs3WEcfQjN4AaABAg',\n",
       "  'videoId': 'kqtD5dpn9C8',\n",
       "  'totalReplyCount': 0,\n",
       "  'textDisplay': 'Thank you !! For helping us!!!! I&#39;m just learning!!',\n",
       "  'authorDisplayName': 'Figgie Figueroa',\n",
       "  'authorProfileImageUrl': 'https://yt3.ggpht.com/ytc/AL5GRJXxkv63d2wAgZIOaDgT7bOXRl0YxpjYq5X0Mi_pPA=s48-c-k-c0x00ffffff-no-rj',\n",
       "  'authorChannelId': 'UCPdNmpgqn6J3_tByEM7pxjw',\n",
       "  'likeCount': 0,\n",
       "  'publishedAt': '2023-03-11T21:07:09Z',\n",
       "  'updatedAt': '2023-03-11T21:07:09Z'},\n",
       " {'id': 'UgwQmf-KDnOvx5KvNSl4AaABAg',\n",
       "  'videoId': 'kqtD5dpn9C8',\n",
       "  'totalReplyCount': 0,\n",
       "  'textDisplay': 'patient_name = &quot;John Smith&quot;\\r<br>paitent_age = &quot;20&quot;\\r<br>new_paitent = True\\r<br>if new_paitent:\\r<br>    new_paitent_status = &quot;Yes&quot;\\r<br>else:\\r<br>    new_paitent_status = &quot;No&quot;\\r<br>print(&quot;Name:&quot;, patient_name)\\r<br>print(&quot;Age:&quot;, paitent_age)\\r<br>print(&quot;New Paitent:&quot;, new_paitent_status)',\n",
       "  'authorDisplayName': 'DeandresProduction',\n",
       "  'authorProfileImageUrl': 'https://yt3.ggpht.com/ytc/AL5GRJU5e3LZyRtlCdzhxRLq2yMygi7TuQ6sFCgZfrWx=s48-c-k-c0x00ffffff-no-rj',\n",
       "  'authorChannelId': 'UCsaDNPPUF2tM8HYxTsYPEOg',\n",
       "  'likeCount': 0,\n",
       "  'publishedAt': '2023-03-11T19:32:36Z',\n",
       "  'updatedAt': '2023-03-11T19:32:36Z'},\n",
       " {'id': 'UgzmqcAEzFqZLEVycox4AaABAg',\n",
       "  'videoId': 'kqtD5dpn9C8',\n",
       "  'totalReplyCount': 0,\n",
       "  'textDisplay': 'first_number = input(&quot;Enter the first number: &quot;)<br>second_number = input(&quot;Enter the second number: &quot;)<br>result = int(first_number) + int(second_number)<br>print(&quot;The result is &quot; + str(result))',\n",
       "  'authorDisplayName': 'Design 2 Code',\n",
       "  'authorProfileImageUrl': 'https://yt3.ggpht.com/ytc/AL5GRJXekPlU-HVXJUqetRTFfEQQdD-aUcUeB5rTmusiMX9gqH1GnpgheXiNM_LBpoex=s48-c-k-c0x00ffffff-no-rj',\n",
       "  'authorChannelId': 'UC-WDCOc6fOD3A5552Mzhvaw',\n",
       "  'likeCount': 0,\n",
       "  'publishedAt': '2023-03-11T19:24:30Z',\n",
       "  'updatedAt': '2023-03-11T19:24:30Z'},\n",
       " {'id': 'UgxLQwzb1E6lksW2wAl4AaABAg',\n",
       "  'videoId': 'kqtD5dpn9C8',\n",
       "  'totalReplyCount': 0,\n",
       "  'textDisplay': '<a href=\"https://www.youtube.com/watch?v=kqtD5dpn9C8&amp;t=36m59s\">36:59</a>',\n",
       "  'authorDisplayName': 'Eduardo Dib',\n",
       "  'authorProfileImageUrl': 'https://yt3.ggpht.com/ytc/AL5GRJWAF8-Eal4kUrAZbClXB46RT5GcTZtzonsoPImnlQ=s48-c-k-c0x00ffffff-no-rj',\n",
       "  'authorChannelId': 'UCeec4ee7Up-VvQ3r7T03wng',\n",
       "  'likeCount': 0,\n",
       "  'publishedAt': '2023-03-11T18:19:09Z',\n",
       "  'updatedAt': '2023-03-11T18:19:09Z'},\n",
       " {'id': 'UgzwH17h6Wkj3Gawayl4AaABAg',\n",
       "  'videoId': 'kqtD5dpn9C8',\n",
       "  'totalReplyCount': 0,\n",
       "  'textDisplay': 'It was very informative, thank you so much. Not a complete one but yeah you can start so that you can get a idea 💡',\n",
       "  'authorDisplayName': 'Deleted',\n",
       "  'authorProfileImageUrl': 'https://yt3.ggpht.com/ou4GHuZdcZPLuv2IaTPgixtotWJ4iLQBdMD-dyuYVS5rkyFNte2KqkAmyCPSJNbMcotJUzB6=s48-c-k-c0x00ffffff-no-rj',\n",
       "  'authorChannelId': 'UCiWENKOH4BFmoobh-5GJfmQ',\n",
       "  'likeCount': 0,\n",
       "  'publishedAt': '2023-03-11T17:50:09Z',\n",
       "  'updatedAt': '2023-03-11T17:50:09Z'},\n",
       " {'id': 'Ugz_NxR0Gq6h7jmkppl4AaABAg',\n",
       "  'videoId': 'kqtD5dpn9C8',\n",
       "  'totalReplyCount': 0,\n",
       "  'textDisplay': 'x = input(&#39;x = &#39;)<br>y = input(&#39;y = &#39;)<br><br>sum = float(x) + float(y)<br><br>print (str(sum))',\n",
       "  'authorDisplayName': '_cypheX',\n",
       "  'authorProfileImageUrl': 'https://yt3.ggpht.com/ytc/AL5GRJWp8mtOHARSXjzk_-w4-roYRTpTySqgDkMFWq0=s48-c-k-c0x00ffffff-no-rj',\n",
       "  'authorChannelId': 'UCJTvNR7DCvjR8D7E0UVFCdg',\n",
       "  'likeCount': 0,\n",
       "  'publishedAt': '2023-03-11T17:35:20Z',\n",
       "  'updatedAt': '2023-03-11T17:35:20Z'},\n",
       " {'id': 'UgxXxrFfyQdq3R0pmy94AaABAg',\n",
       "  'videoId': 'kqtD5dpn9C8',\n",
       "  'totalReplyCount': 0,\n",
       "  'textDisplay': '1) first_number= input(&quot;Enter the first number: &quot;)<br>2) second_number= input(&quot;Enter the second number: &quot;)<br><br>3) sum= int(first_number) + int(second_number)<br>4) print= (sum)',\n",
       "  'authorDisplayName': 'Jidaan Sarathe',\n",
       "  'authorProfileImageUrl': 'https://yt3.ggpht.com/ytc/AL5GRJWfoQRQYSYc4DCc8kMJ8TI_ART2pesNLpLlcrCsVjpvEvzsAcmBTKl37HGRT6tG=s48-c-k-c0x00ffffff-no-rj',\n",
       "  'authorChannelId': 'UCmmtjd6DfuQT4yhvoukgPHQ',\n",
       "  'likeCount': 0,\n",
       "  'publishedAt': '2023-03-11T16:35:34Z',\n",
       "  'updatedAt': '2023-03-11T16:35:34Z'},\n",
       " {'id': 'UgzSLB__bA-cxXkL1Ql4AaABAg',\n",
       "  'videoId': 'kqtD5dpn9C8',\n",
       "  'totalReplyCount': 0,\n",
       "  'textDisplay': '<a href=\"https://www.youtube.com/watch?v=kqtD5dpn9C8&amp;t=9m06s\">9:06</a> <br>Name = “John Smith” <br>Age = 20 <br>new_patient = True  <br><br>Print (name) <br>Print (age) <br>Print (new_patient) <br>Please feel free to correct me if I have made any mistake here.',\n",
       "  'authorDisplayName': 'Binod Tharu',\n",
       "  'authorProfileImageUrl': 'https://yt3.ggpht.com/ytc/AL5GRJWDncZsv3Ev-ZNKY59CMQX06t2_Vn2y4yw6x05Bc1E0zzwMt45mZXX67nyva3GW=s48-c-k-c0x00ffffff-no-rj',\n",
       "  'authorChannelId': 'UCg-JyrNZ5z6EzRE8ROGi1GQ',\n",
       "  'likeCount': 2,\n",
       "  'publishedAt': '2023-03-11T12:37:41Z',\n",
       "  'updatedAt': '2023-03-11T12:37:41Z'},\n",
       " {'id': 'UgzI9symrR3nTha8y7N4AaABAg',\n",
       "  'videoId': 'kqtD5dpn9C8',\n",
       "  'totalReplyCount': 0,\n",
       "  'textDisplay': 'I’m going to see if in 1 hour I can Lear what I have been learning at BYU! Online courses. I’m making a self challenge! Thank you for this opportunity! <a href=\"https://www.youtube.com/watch?v=kqtD5dpn9C8&amp;t=1m00s\">1:00</a>',\n",
       "  'authorDisplayName': 'Keith Palmer',\n",
       "  'authorProfileImageUrl': 'https://yt3.ggpht.com/u_Y3f1EckPjWTvHaQ4sygUbZj0pVIGNUYkCz6SEKyEpBnPs_r-HPZB_29mMO9siQq27ukX1c=s48-c-k-c0x00ffffff-no-rj',\n",
       "  'authorChannelId': 'UCM3Q5GrAaN7nl5siDnFRccA',\n",
       "  'likeCount': 0,\n",
       "  'publishedAt': '2023-03-11T12:04:52Z',\n",
       "  'updatedAt': '2023-03-11T12:04:52Z'},\n",
       " {'id': 'Ugw2jGtGr93yPCxi0bd4AaABAg',\n",
       "  'videoId': 'kqtD5dpn9C8',\n",
       "  'totalReplyCount': 1,\n",
       "  'textDisplay': 'weight = input(&quot;Weight: &quot;)\\r<br>convertion = input(&quot;(K)g or (L)bs: &quot;)\\r<br>if convertion == &quot;l&quot; or &quot;L&quot;:\\r<br>    lbs_mt = float(weight) // 2.2\\r<br>    lbs = str(lbs_mt)\\r<br>    print(&quot;You weigh: &quot; + lbs)\\r<br>elif convertion == &quot;k&quot; or &quot;K&quot;:\\r<br>    kg_mt = float(weight) / 0.45\\r<br>    kg = str(kg_mt)\\r<br>    print(&quot;You weigh: &quot; + kg) <br>how the actual fuck does this not work',\n",
       "  'authorDisplayName': 'Paweł Nieznalski',\n",
       "  'authorProfileImageUrl': 'https://yt3.ggpht.com/ytc/AL5GRJWsjGKwl0zpVYhKmiqEENzWllDnluQVkaJRNSQXCw=s48-c-k-c0x00ffffff-no-rj',\n",
       "  'authorChannelId': 'UCaaGE811R2j-FTBsfhSKtuQ',\n",
       "  'likeCount': 0,\n",
       "  'publishedAt': '2023-03-11T10:03:48Z',\n",
       "  'updatedAt': '2023-03-11T10:03:48Z'},\n",
       " {'id': 'Ugx2IkI2pxptO15XppZ4AaABAg',\n",
       "  'videoId': 'kqtD5dpn9C8',\n",
       "  'totalReplyCount': 0,\n",
       "  'textDisplay': 'I’m learning this for a level computer science',\n",
       "  'authorDisplayName': 'Binod Tharu',\n",
       "  'authorProfileImageUrl': 'https://yt3.ggpht.com/ytc/AL5GRJWDncZsv3Ev-ZNKY59CMQX06t2_Vn2y4yw6x05Bc1E0zzwMt45mZXX67nyva3GW=s48-c-k-c0x00ffffff-no-rj',\n",
       "  'authorChannelId': 'UCg-JyrNZ5z6EzRE8ROGi1GQ',\n",
       "  'likeCount': 0,\n",
       "  'publishedAt': '2023-03-11T08:51:16Z',\n",
       "  'updatedAt': '2023-03-11T08:51:16Z'},\n",
       " {'id': 'UgxsUVvIp2qjXCEwIgp4AaABAg',\n",
       "  'videoId': 'kqtD5dpn9C8',\n",
       "  'totalReplyCount': 0,\n",
       "  'textDisplay': 'first_name = &quot;john&quot;\\r<br>last_name = &quot;Smith&quot;\\r<br>age = 20\\r<br>New_patient = True',\n",
       "  'authorDisplayName': 'Solid Grey',\n",
       "  'authorProfileImageUrl': 'https://yt3.ggpht.com/8UvlacXZdvvI7Dp3I9EJbAbRWdYKGGQYn1dXUqrzOa6FAbGFWYfMUpG0I-_rlALdMzVM7kKDiw=s48-c-k-c0x00ffffff-no-rj',\n",
       "  'authorChannelId': 'UCepwCXWnzPJU8gGN46gKLxg',\n",
       "  'likeCount': 0,\n",
       "  'publishedAt': '2023-03-11T08:14:13Z',\n",
       "  'updatedAt': '2023-03-11T08:14:13Z'},\n",
       " {'id': 'Ugwo-ehYQ2674FsiAKd4AaABAg',\n",
       "  'videoId': 'kqtD5dpn9C8',\n",
       "  'totalReplyCount': 0,\n",
       "  'textDisplay': 'Already lost',\n",
       "  'authorDisplayName': 'ASAP VICE TRADES',\n",
       "  'authorProfileImageUrl': 'https://yt3.ggpht.com/GGOllUhhPdtpIDrM6isQ1JtLIqs0rL2t0vU_wx0KQ_pIXyzDAKVIouGgZt5eYJ1Zli2b7r5E=s48-c-k-c0x00ffffff-no-rj',\n",
       "  'authorChannelId': 'UCvW0SELGxurTAHxjdDYdsRA',\n",
       "  'likeCount': 0,\n",
       "  'publishedAt': '2023-03-11T00:55:39Z',\n",
       "  'updatedAt': '2023-03-11T00:55:39Z'},\n",
       " {'id': 'UgzFjYmMxAI4ctgn6rl4AaABAg',\n",
       "  'videoId': 'kqtD5dpn9C8',\n",
       "  'totalReplyCount': 0,\n",
       "  'textDisplay': '&gt; I have Python 2.3.5 installed on my old windows XP laptop and I can<br>&gt; open it in IDLE or with command module that opens up a web browser<br>&gt; when searching for key words or letters, but I can&#39;t seem to find my<br>&gt; files or code that I created from years ago?<br>&gt;<br>&gt; I did find the python folder in C drive that contains a load of &quot;test&quot;<br>&gt; files, would it be there?<br>&gt;<br>&gt; Where or how would I find the saved files or saved codes that were<br>&gt; created with this from 20 years ago? Sorry but I can&#39;t remember and I<br>&gt; need some help please<br>&gt;<br>&gt; Thanks<br>&gt;<br>&gt; -kaleb',\n",
       "  'authorDisplayName': 'XXXXXXXXXXXXXXXXXXXXXXXXXXXXXXXXXXXXXXXXXXXXXXXXXX',\n",
       "  'authorProfileImageUrl': 'https://yt3.ggpht.com/JHEk6Iiw8cTIEnF33vX8TKOUdsnqOuyUIYifCL0flB-sP45db-PG4kJ_nFZ7055eFvt0LRURHw=s48-c-k-c0x00ffffff-no-rj',\n",
       "  'authorChannelId': 'UC3zkSGvN23F9UePX6EKhQRA',\n",
       "  'likeCount': 1,\n",
       "  'publishedAt': '2023-03-11T00:13:28Z',\n",
       "  'updatedAt': '2023-03-11T00:13:28Z'}]"
      ]
     },
     "execution_count": 67,
     "metadata": {},
     "output_type": "execute_result"
    }
   ],
   "source": [
    "youtube_comments"
   ]
  },
  {
   "cell_type": "code",
   "execution_count": 79,
   "id": "637a7d50",
   "metadata": {},
   "outputs": [],
   "source": [
    "yt_comment = YouTubeComment(**youtube_comments[0])"
   ]
  },
  {
   "cell_type": "code",
   "execution_count": 80,
   "id": "5823f83a",
   "metadata": {},
   "outputs": [
    {
     "data": {
      "text/plain": [
       "{'id': 'Ugzby30dYHdobijJxnF4AaABAg',\n",
       " 'videoId': 'kqtD5dpn9C8',\n",
       " 'totalReplyCount': 46,\n",
       " 'textDisplay': '🔥 Want to master Python? Get my complete Python course: <a href=\"http://bit.ly/35BLHHP\">http://bit.ly/35BLHHP</a><br>👍 Subscribe for more Python tutorials like this: <a href=\"https://goo.gl/6PYaGF\">https://goo.gl/6PYaGF</a>',\n",
       " 'authorDisplayName': 'Programming with Mosh',\n",
       " 'authorProfileImageUrl': 'https://yt3.ggpht.com/tBEPr-zTNXEeae7VZKSZYfiy6azzs9OHowq5ZvogJeHoVtKtEw2PXSwzMBKVR7W0MI7gyND8=s48-c-k-c0x00ffffff-no-rj',\n",
       " 'authorChannelId': 'UCWv7vMbMWH4-V0ZXdmDpPBA',\n",
       " 'likeCount': 224,\n",
       " 'publishedAt': '2022-03-07T23:14:30Z',\n",
       " 'updatedAt': '2022-09-20T17:50:56Z'}"
      ]
     },
     "execution_count": 80,
     "metadata": {},
     "output_type": "execute_result"
    }
   ],
   "source": [
    "yt_comment.get_comment()"
   ]
  },
  {
   "cell_type": "code",
   "execution_count": 81,
   "id": "fe789be5",
   "metadata": {},
   "outputs": [
    {
     "data": {
      "text/plain": [
       "'🔥 Want to master Python? Get my complete Python course: <a href=\"http://bit.ly/35BLHHP\">http://bit.ly/35BLHHP</a><br>👍 Subscribe for more Python tutorials like this: <a href=\"https://goo.gl/6PYaGF\">https://goo.gl/6PYaGF</a>'"
      ]
     },
     "execution_count": 81,
     "metadata": {},
     "output_type": "execute_result"
    }
   ],
   "source": [
    "yt_comment.get_comment_text()"
   ]
  },
  {
   "cell_type": "code",
   "execution_count": 83,
   "id": "a45ff5c4",
   "metadata": {},
   "outputs": [],
   "source": [
    "youtube_commenthread = YouTubeCommentThread('kqtD5dpn9C8')\n",
    "youtube_comments = youtube_commenthread.get_video_comments(youtube_client)"
   ]
  },
  {
   "cell_type": "code",
   "execution_count": 84,
   "id": "3991fc3e",
   "metadata": {
    "collapsed": true
   },
   "outputs": [
    {
     "data": {
      "text/plain": [
       "[<__main__.YouTubeComment at 0x7f3a7d3c4b50>,\n",
       " <__main__.YouTubeComment at 0x7f3a7d3c4550>,\n",
       " <__main__.YouTubeComment at 0x7f3a7d3c7610>,\n",
       " <__main__.YouTubeComment at 0x7f3a7d3c75b0>,\n",
       " <__main__.YouTubeComment at 0x7f3a7d3c78b0>,\n",
       " <__main__.YouTubeComment at 0x7f3a7d3c4370>,\n",
       " <__main__.YouTubeComment at 0x7f3a7d3c4af0>,\n",
       " <__main__.YouTubeComment at 0x7f3a7d3c6dd0>,\n",
       " <__main__.YouTubeComment at 0x7f3a7d3c6140>,\n",
       " <__main__.YouTubeComment at 0x7f3a7d3c4d60>,\n",
       " <__main__.YouTubeComment at 0x7f3a7d3c4520>,\n",
       " <__main__.YouTubeComment at 0x7f3a7d3c47c0>,\n",
       " <__main__.YouTubeComment at 0x7f3a7d3c5480>,\n",
       " <__main__.YouTubeComment at 0x7f3a7d3c7e50>,\n",
       " <__main__.YouTubeComment at 0x7f3a7d3c4430>,\n",
       " <__main__.YouTubeComment at 0x7f3a7d3c44f0>,\n",
       " <__main__.YouTubeComment at 0x7f3a7d3c6f20>,\n",
       " <__main__.YouTubeComment at 0x7f3a7d3c4bb0>,\n",
       " <__main__.YouTubeComment at 0x7f3a7d3c52d0>]"
      ]
     },
     "execution_count": 84,
     "metadata": {},
     "output_type": "execute_result"
    }
   ],
   "source": [
    "youtube_comments"
   ]
  },
  {
   "cell_type": "code",
   "execution_count": 85,
   "id": "7fd88cda",
   "metadata": {},
   "outputs": [
    {
     "data": {
      "text/plain": [
       "'🔥 Want to master Python? Get my complete Python course: <a href=\"http://bit.ly/35BLHHP\">http://bit.ly/35BLHHP</a><br>👍 Subscribe for more Python tutorials like this: <a href=\"https://goo.gl/6PYaGF\">https://goo.gl/6PYaGF</a>'"
      ]
     },
     "execution_count": 85,
     "metadata": {},
     "output_type": "execute_result"
    }
   ],
   "source": [
    "youtube_comments[0].get_comment_text()"
   ]
  },
  {
   "cell_type": "code",
   "execution_count": 90,
   "id": "bbd33ace",
   "metadata": {},
   "outputs": [],
   "source": [
    "videos = youtube.search_video('python programming')"
   ]
  },
  {
   "cell_type": "code",
   "execution_count": 91,
   "id": "676a40c0",
   "metadata": {},
   "outputs": [
    {
     "data": {
      "text/plain": [
       "[<__main__.YouTubeVideo at 0x7f3a7d710100>,\n",
       " <__main__.YouTubeVideo at 0x7f3a7de38c40>,\n",
       " <__main__.YouTubeVideo at 0x7f3a7d2e8820>,\n",
       " <__main__.YouTubeVideo at 0x7f3a7df330d0>,\n",
       " <__main__.YouTubeVideo at 0x7f3a7d3c6b30>,\n",
       " <__main__.YouTubeVideo at 0x7f3a7d3594b0>,\n",
       " <__main__.YouTubeVideo at 0x7f3a7d35ae60>,\n",
       " <__main__.YouTubeVideo at 0x7f3a7d35b9a0>,\n",
       " <__main__.YouTubeVideo at 0x7f3a7d3c6b00>,\n",
       " <__main__.YouTubeVideo at 0x7f3a7d2e8be0>]"
      ]
     },
     "execution_count": 91,
     "metadata": {},
     "output_type": "execute_result"
    }
   ],
   "source": [
    "videos"
   ]
  },
  {
   "cell_type": "code",
   "execution_count": 93,
   "id": "4bc2c6ad",
   "metadata": {
    "collapsed": true
   },
   "outputs": [
    {
     "data": {
      "text/plain": [
       "[<__main__.YouTubeComment at 0x7f3a7d35ad70>,\n",
       " <__main__.YouTubeComment at 0x7f3a7d35b2b0>,\n",
       " <__main__.YouTubeComment at 0x7f3a7d35ab60>,\n",
       " <__main__.YouTubeComment at 0x7f3a7d359450>,\n",
       " <__main__.YouTubeComment at 0x7f3a7d35acb0>,\n",
       " <__main__.YouTubeComment at 0x7f3a7d35a560>,\n",
       " <__main__.YouTubeComment at 0x7f3a7d359b10>,\n",
       " <__main__.YouTubeComment at 0x7f3a7d359fc0>,\n",
       " <__main__.YouTubeComment at 0x7f3a7d35a6e0>,\n",
       " <__main__.YouTubeComment at 0x7f3a7d35a9b0>,\n",
       " <__main__.YouTubeComment at 0x7f3a7d35bf70>,\n",
       " <__main__.YouTubeComment at 0x7f3a7d712f20>,\n",
       " <__main__.YouTubeComment at 0x7f3a7d712350>,\n",
       " <__main__.YouTubeComment at 0x7f3a7d7110f0>,\n",
       " <__main__.YouTubeComment at 0x7f3a7d712050>,\n",
       " <__main__.YouTubeComment at 0x7f3a7d7120b0>,\n",
       " <__main__.YouTubeComment at 0x7f3a7d712950>,\n",
       " <__main__.YouTubeComment at 0x7f3a7d710130>,\n",
       " <__main__.YouTubeComment at 0x7f3a7d7104f0>,\n",
       " <__main__.YouTubeComment at 0x7f3a7d711f00>]"
      ]
     },
     "execution_count": 93,
     "metadata": {},
     "output_type": "execute_result"
    }
   ],
   "source": [
    "videos[0].get_video_comments(youtube_client)"
   ]
  },
  {
   "cell_type": "code",
   "execution_count": 98,
   "id": "8c01a013",
   "metadata": {},
   "outputs": [],
   "source": [
    "youtube = YouTube(credentials_file='/home/lyle/Downloads/client_secret.json', \n",
    "                  token_path='')\n",
    "youtube_client = youtube.get_youtube()"
   ]
  },
  {
   "cell_type": "code",
   "execution_count": 110,
   "id": "abe17564",
   "metadata": {},
   "outputs": [],
   "source": [
    "videos = youtube.search_video('python programming')"
   ]
  },
  {
   "cell_type": "code",
   "execution_count": 111,
   "id": "5e0616d1",
   "metadata": {
    "collapsed": true
   },
   "outputs": [
    {
     "data": {
      "text/plain": [
       "[<__main__.YouTubeComment at 0x7f3a7de3cac0>,\n",
       " <__main__.YouTubeComment at 0x7f3a7d9e2200>,\n",
       " <__main__.YouTubeComment at 0x7f3a7d3590c0>,\n",
       " <__main__.YouTubeComment at 0x7f3a7d35a3e0>,\n",
       " <__main__.YouTubeComment at 0x7f3a7d359510>,\n",
       " <__main__.YouTubeComment at 0x7f3a7d358ac0>,\n",
       " <__main__.YouTubeComment at 0x7f3a7d35a2f0>,\n",
       " <__main__.YouTubeComment at 0x7f3a7d35ba90>,\n",
       " <__main__.YouTubeComment at 0x7f3a7d3591b0>,\n",
       " <__main__.YouTubeComment at 0x7f3a7d35b700>,\n",
       " <__main__.YouTubeComment at 0x7f3a7d35b670>,\n",
       " <__main__.YouTubeComment at 0x7f3a7d35a4d0>,\n",
       " <__main__.YouTubeComment at 0x7f3a7d3c7a30>,\n",
       " <__main__.YouTubeComment at 0x7f3a7d3c7b50>,\n",
       " <__main__.YouTubeComment at 0x7f3a7d3c7e20>,\n",
       " <__main__.YouTubeComment at 0x7f3a7d3c6cb0>,\n",
       " <__main__.YouTubeComment at 0x7f3a7d3c7340>,\n",
       " <__main__.YouTubeComment at 0x7f3a7d3c70a0>,\n",
       " <__main__.YouTubeComment at 0x7f3a7d3c7370>,\n",
       " <__main__.YouTubeComment at 0x7f3a7d3c74f0>]"
      ]
     },
     "execution_count": 111,
     "metadata": {},
     "output_type": "execute_result"
    }
   ],
   "source": [
    "videos[0].get_video_comments(youtube_client)"
   ]
  },
  {
   "cell_type": "code",
   "execution_count": 112,
   "id": "053f0116",
   "metadata": {},
   "outputs": [
    {
     "data": {
      "text/plain": [
       "'[<__main__.YouTubeComment object at 0x7f3a7de3cac0>, <__main__.YouTubeComment object at 0x7f3a7d9e2200>, <__main__.YouTubeComment object at 0x7f3a7d3590c0>, <__main__.YouTubeComment object at 0x7f3a7d35a3e0>, <__main__.YouTubeComment object at 0x7f3a7d359510>, <__main__.YouTubeComment object at 0x7f3a7d358ac0>, <__main__.YouTubeComment object at 0x7f3a7d35a2f0>, <__main__.YouTubeComment object at 0x7f3a7d35ba90>, <__main__.YouTubeComment object at 0x7f3a7d3591b0>, <__main__.YouTubeComment object at 0x7f3a7d35b700>, <__main__.YouTubeComment object at 0x7f3a7d35b670>, <__main__.YouTubeComment object at 0x7f3a7d35a4d0>, <__main__.YouTubeComment object at 0x7f3a7d3c7a30>, <__main__.YouTubeComment object at 0x7f3a7d3c7b50>, <__main__.YouTubeComment object at 0x7f3a7d3c7e20>, <__main__.YouTubeComment object at 0x7f3a7d3c6cb0>, <__main__.YouTubeComment object at 0x7f3a7d3c7340>, <__main__.YouTubeComment object at 0x7f3a7d3c70a0>, <__main__.YouTubeComment object at 0x7f3a7d3c7370>, <__main__.YouTubeComment object at 0x7f3a7d3c74f0>]'"
      ]
     },
     "execution_count": 112,
     "metadata": {},
     "output_type": "execute_result"
    }
   ],
   "source": [
    "str(videos[0].get_video_comments(youtube_client))"
   ]
  },
  {
   "cell_type": "code",
   "execution_count": 130,
   "id": "e0749970",
   "metadata": {},
   "outputs": [
    {
     "data": {
      "text/plain": [
       "[YouTubeComment(id='Ugzby30dYHdobijJxnF4AaABAg', videoId='kqtD5dpn9C8',        totalReplyCount=46),\n",
       " YouTubeComment(id='UgxwxwZcrMaDg7t4r-J4AaABAg', videoId='kqtD5dpn9C8',        totalReplyCount=0),\n",
       " YouTubeComment(id='UgzVmRNNr6yCSctO2DZ4AaABAg', videoId='kqtD5dpn9C8',        totalReplyCount=0),\n",
       " YouTubeComment(id='Ugwnb4OHB2u1Apczep14AaABAg', videoId='kqtD5dpn9C8',        totalReplyCount=0),\n",
       " YouTubeComment(id='UgykWB84sBHOdPhSGVV4AaABAg', videoId='kqtD5dpn9C8',        totalReplyCount=0),\n",
       " YouTubeComment(id='Ugy9ePbQKDs3WEcfQjN4AaABAg', videoId='kqtD5dpn9C8',        totalReplyCount=0),\n",
       " YouTubeComment(id='UgwQmf-KDnOvx5KvNSl4AaABAg', videoId='kqtD5dpn9C8',        totalReplyCount=0),\n",
       " YouTubeComment(id='UgzmqcAEzFqZLEVycox4AaABAg', videoId='kqtD5dpn9C8',        totalReplyCount=0),\n",
       " YouTubeComment(id='UgxLQwzb1E6lksW2wAl4AaABAg', videoId='kqtD5dpn9C8',        totalReplyCount=0),\n",
       " YouTubeComment(id='UgzwH17h6Wkj3Gawayl4AaABAg', videoId='kqtD5dpn9C8',        totalReplyCount=0),\n",
       " YouTubeComment(id='Ugz_NxR0Gq6h7jmkppl4AaABAg', videoId='kqtD5dpn9C8',        totalReplyCount=0),\n",
       " YouTubeComment(id='UgxXxrFfyQdq3R0pmy94AaABAg', videoId='kqtD5dpn9C8',        totalReplyCount=0),\n",
       " YouTubeComment(id='UgzSLB__bA-cxXkL1Ql4AaABAg', videoId='kqtD5dpn9C8',        totalReplyCount=0),\n",
       " YouTubeComment(id='UgzI9symrR3nTha8y7N4AaABAg', videoId='kqtD5dpn9C8',        totalReplyCount=0),\n",
       " YouTubeComment(id='Ugw2jGtGr93yPCxi0bd4AaABAg', videoId='kqtD5dpn9C8',        totalReplyCount=1),\n",
       " YouTubeComment(id='Ugx2IkI2pxptO15XppZ4AaABAg', videoId='kqtD5dpn9C8',        totalReplyCount=0),\n",
       " YouTubeComment(id='UgxsUVvIp2qjXCEwIgp4AaABAg', videoId='kqtD5dpn9C8',        totalReplyCount=0),\n",
       " YouTubeComment(id='Ugwo-ehYQ2674FsiAKd4AaABAg', videoId='kqtD5dpn9C8',        totalReplyCount=0),\n",
       " YouTubeComment(id='UgzFjYmMxAI4ctgn6rl4AaABAg', videoId='kqtD5dpn9C8',        totalReplyCount=0),\n",
       " YouTubeComment(id='UgyX1zDh3t5cakSOqE54AaABAg', videoId='kqtD5dpn9C8',        totalReplyCount=0)]"
      ]
     },
     "execution_count": 130,
     "metadata": {},
     "output_type": "execute_result"
    }
   ],
   "source": [
    "youtube_commenthread = YouTubeCommentThread('kqtD5dpn9C8')\n",
    "youtube_comments = youtube_commenthread.get_video_comments(youtube_client)\n",
    "youtube_comments"
   ]
  },
  {
   "cell_type": "code",
   "execution_count": 123,
   "id": "a5c9e092",
   "metadata": {},
   "outputs": [
    {
     "data": {
      "text/plain": [
       "'🔥 Want to master Python? Get my complete Python course: <a href=\"http://bit.ly/35BLHHP\">http://bit.ly/35BLHHP</a><br>👍 Subscribe for more Python tutorials like this: <a href=\"https://goo.gl/6PYaGF\">https://goo.gl/6PYaGF</a>'"
      ]
     },
     "execution_count": 123,
     "metadata": {},
     "output_type": "execute_result"
    }
   ],
   "source": [
    "str(youtube_comments[0])"
   ]
  },
  {
   "cell_type": "code",
   "execution_count": 124,
   "id": "a067dbcb",
   "metadata": {},
   "outputs": [
    {
     "name": "stdout",
     "output_type": "stream",
     "text": [
      "🔥 Want to master Python? Get my complete Python course: <a href=\"http://bit.ly/35BLHHP\">http://bit.ly/35BLHHP</a><br>👍 Subscribe for more Python tutorials like this: <a href=\"https://goo.gl/6PYaGF\">https://goo.gl/6PYaGF</a>\n"
     ]
    }
   ],
   "source": [
    "print(youtube_comments[0])"
   ]
  },
  {
   "cell_type": "code",
   "execution_count": null,
   "id": "7d574cae",
   "metadata": {},
   "outputs": [],
   "source": []
  }
 ],
 "metadata": {
  "kernelspec": {
   "display_name": "Python 3 (ipykernel)",
   "language": "python",
   "name": "python3"
  },
  "language_info": {
   "codemirror_mode": {
    "name": "ipython",
    "version": 3
   },
   "file_extension": ".py",
   "mimetype": "text/x-python",
   "name": "python",
   "nbconvert_exporter": "python",
   "pygments_lexer": "ipython3",
   "version": "3.10.6"
  }
 },
 "nbformat": 4,
 "nbformat_minor": 5
}

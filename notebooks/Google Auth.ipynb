{
 "cells": [
  {
   "cell_type": "code",
   "execution_count": 9,
   "id": "22f00d65",
   "metadata": {},
   "outputs": [],
   "source": [
    "from googleapiclient.discovery import build\n",
    "from google_auth_oauthlib.flow import InstalledAppFlow\n",
    "from google.auth.transport.requests import Request\n",
    "from google.auth.exceptions import RefreshError\n",
    "\n",
    "import re\n",
    "import os\n",
    "import pickle\n",
    "from enum import Enum"
   ]
  },
  {
   "cell_type": "code",
   "execution_count": 11,
   "id": "d8556a99",
   "metadata": {},
   "outputs": [],
   "source": [
    "class YouTubeAPIConstants:\n",
    "    TOKEN_FILE = 'token.pickle'\n",
    "    API_SERVICE_NAME = 'youtube'\n",
    "    API_VERSION = 'v3'\n",
    "    SCOPES = [\"https://www.googleapis.com/auth/youtube.force-ssl\"]"
   ]
  },
  {
   "cell_type": "code",
   "execution_count": 32,
   "id": "e12c6eb2",
   "metadata": {},
   "outputs": [],
   "source": [
    "class Authenticate:\n",
    "    \"\"\"Handle the YouTube authentication process.\"\"\"\n",
    "    os.environ[\"OAUTHLIB_INSECURE_TRANSPORT\"] = \"1\"\n",
    "    __TOKEN_FILE = YouTubeAPIConstants.TOKEN_FILE\n",
    "    __API_SERVICE_NAME = YouTubeAPIConstants.API_SERVICE_NAME\n",
    "    __API_VERSION = YouTubeAPIConstants.API_VERSION\n",
    "    __SCOPES = YouTubeAPIConstants.SCOPES\n",
    "    \n",
    "    def __init__(self, client_secrets_file: str , api_token_path: str = ''):\n",
    "        \"\"\"Create the auth object.\"\"\"\n",
    "        self.__credentials = None\n",
    "        \n",
    "        self.__verify_client_secret_file(client_secrets_file)\n",
    "        self.__client_secrets_file = client_secrets_file\n",
    "        \n",
    "        if not api_token_path or not os.path.exists(api_token_path):\n",
    "            self.__api_token_path = self.__get_default_api_token_path()\n",
    "        else:\n",
    "            self.__api_token_path = api_token_path\n",
    "            \n",
    "    def __verify_client_secret_file(self, client_secrets_file: str) -> None:\n",
    "        \"\"\"Verfy the client secret file.\"\"\"\n",
    "        if not client_secrets_file:\n",
    "            raise ValueError('The clients secret file path has to be provided.')\n",
    "        if not isinstance(client_secrets_file, str):\n",
    "            raise TypeError('The clients secret file should be a string.')\n",
    "        if not os.path.exists(client_secrets_file):\n",
    "            raise ValueError(f'The path {client_secrets_file} does not exist!')\n",
    "        \n",
    "    def __get_default_api_token_path(self):\n",
    "        \"\"\"Generate the default api token file location.\"\"\"\n",
    "        current_user_home_dir = os.path.expanduser('~')\n",
    "        api_token_path = os.path.join(current_user_home_dir, self.__TOKEN_FILE)\n",
    "        return api_token_path\n",
    "    \n",
    "    def __authenticate_youtube(self):\n",
    "        \"\"\"Authenticate the YouTube API.\"\"\"\n",
    "        if os.path.exists(self.__api_token_path):\n",
    "            with open(self.__api_token_path, \"rb\") as token:\n",
    "                self.__credentials = pickle.load(token)\n",
    "        # if there are no (valid) credentials availablle, let the user log in.\n",
    "        if not self.__credentials or not self.__credentials.valid:\n",
    "            if self.__credentials and self.__credentials.expired and self.__credentials.refresh_token:\n",
    "                self.__credentials.refresh(Request())\n",
    "            else:\n",
    "                flow = InstalledAppFlow.from_client_secrets_file(self.__client_secrets_file, self.__SCOPES)\n",
    "#                 self.__credentials = flow.run_local_server(host='localhost', port=0)\n",
    "            # save the credentials for the next run\n",
    "            with open(self.__api_token_path, \"wb\") as token:\n",
    "                pickle.dump(self.__credentials, token)\n",
    "\n",
    "        return build(self.__API_SERVICE_NAME, self.__API_VERSION, credentials=self.__credentials)\n",
    "    \n",
    "    def authenticate(self):\n",
    "        try:\n",
    "            youtube_client =  self.__authenticate_youtube()\n",
    "        except RefreshError as e:\n",
    "            #delete token\n",
    "            raise Exception('The token is expired. Kindly generate a new one.')\n",
    "        else:\n",
    "            return youtube_client"
   ]
  },
  {
   "cell_type": "code",
   "execution_count": 33,
   "id": "c931d88b",
   "metadata": {},
   "outputs": [
    {
     "name": "stdout",
     "output_type": "stream",
     "text": [
      "Please visit this URL to authorize this application: https://accounts.google.com/o/oauth2/auth?response_type=code&client_id=690018745938-f53a63e0l2kr7botgudiigblkd87vdlt.apps.googleusercontent.com&redirect_uri=http%3A%2F%2Flocalhost%3A46105%2F&scope=https%3A%2F%2Fwww.googleapis.com%2Fauth%2Fyoutube.force-ssl&state=4mxOfksQC6gChC23plVxTaxA4NEsVi&access_type=offline\n"
     ]
    }
   ],
   "source": [
    "client_secrets_file='/home/lyle/Downloads/client_secret.json'\n",
    "auth = Authenticate(client_secrets_file).authenticate()"
   ]
  },
  {
   "cell_type": "code",
   "execution_count": 35,
   "id": "a1102062",
   "metadata": {},
   "outputs": [
    {
     "name": "stdout",
     "output_type": "stream",
     "text": [
      "Please go to this URL: https://accounts.google.com/o/oauth2/auth?response_type=code&client_id=690018745938-f53a63e0l2kr7botgudiigblkd87vdlt.apps.googleusercontent.com&redirect_uri=urn%3Aietf%3Awg%3Aoauth%3A2.0%3Aoob&scope=https%3A%2F%2Fwww.googleapis.com%2Fauth%2Fyoutube.force-ssl&state=AlfjRltsyM7gJPjEY2wgdeJidWa7wy&prompt=consent&access_type=offline\n",
      "Enter the authorization code: 4/1AWtgzh7R-qGGJi0jY2Mt2sowva07gCyCKFxAs7r5uYY30ct4WFYdI-SMpCs\n"
     ]
    }
   ],
   "source": [
    "from google_auth_oauthlib.flow import Flow\n",
    "\n",
    "# Create the flow using the client secrets file from the Google API\n",
    "# Console.\n",
    "client_secrets_file='/home/lyle/Downloads/client_secret.json'\n",
    "flow = Flow.from_client_secrets_file(\n",
    "    client_secrets_file,\n",
    "    scopes=[\"https://www.googleapis.com/auth/youtube.force-ssl\"],\n",
    "    redirect_uri='urn:ietf:wg:oauth:2.0:oob')\n",
    "\n",
    "# Tell the user to go to the authorization URL.\n",
    "auth_url, state = flow.authorization_url(prompt='consent')\n",
    "\n",
    "print('Please go to this URL: {}'.format(auth_url))\n",
    "\n",
    "# The user will get an authorization code. This code is used to get the\n",
    "# access token.\n",
    "code = input('Enter the authorization code: ')\n",
    "flow.fetch_token(code=code)\n",
    "\n",
    "# You can use flow.credentials, or you can just get a requests session\n",
    "# using flow.authorized_session.\n",
    "session = flow.authorized_session()"
   ]
  },
  {
   "cell_type": "code",
   "execution_count": 36,
   "id": "65b0a80c",
   "metadata": {},
   "outputs": [],
   "source": [
    "credentials = flow.credentials"
   ]
  },
  {
   "cell_type": "code",
   "execution_count": 37,
   "id": "17d761ca",
   "metadata": {},
   "outputs": [
    {
     "data": {
      "text/plain": [
       "<google.oauth2.credentials.Credentials at 0x7f9a01c7b880>"
      ]
     },
     "execution_count": 37,
     "metadata": {},
     "output_type": "execute_result"
    }
   ],
   "source": [
    "credentials"
   ]
  },
  {
   "cell_type": "code",
   "execution_count": 38,
   "id": "a03371e2",
   "metadata": {},
   "outputs": [],
   "source": [
    "API_SERVICE_NAME = 'youtube'\n",
    "API_VERSION = 'v3'"
   ]
  },
  {
   "cell_type": "code",
   "execution_count": 40,
   "id": "30fe0f2a",
   "metadata": {},
   "outputs": [],
   "source": [
    "from googleapiclient.discovery import build \n",
    "\n",
    "youtube = build(\n",
    "      API_SERVICE_NAME, API_VERSION, credentials=credentials)"
   ]
  },
  {
   "cell_type": "code",
   "execution_count": 41,
   "id": "e1fec991",
   "metadata": {},
   "outputs": [
    {
     "data": {
      "text/plain": [
       "{'kind': 'youtube#videoListResponse',\n",
       " 'etag': 'vatIIxv7G5YKkiyNEkBNwVN2AI0',\n",
       " 'items': [{'kind': 'youtube#video',\n",
       "   'etag': 'UuhxuTnD4VgtYFq6LNbNFrJ7no0',\n",
       "   'id': 'hG8KEfG5lwg',\n",
       "   'snippet': {'publishedAt': '2023-02-16T23:00:52Z',\n",
       "    'channelId': 'UCsgPO6cNV0wBG-Og3bUZoFA',\n",
       "    'title': 'Gulag - The Story | Part 2: Propagation - 1934 - 1945 | Free Documentary History',\n",
       "    'description': \"Gulag - The Story - Part 2: Propagation - 1934 - 1945 | History Documentary\\n\\nWatch 'Gulag  - The Story: Part 3' here: https://youtu.be/dBjcT0QxSS0\\n\\nA major political, historical, human and economic fact of the 20th century, the Gulag, the extremely punitive Soviet concentration camp system, remains largely unknown.\\nThe history of the Gulag is long, complex and in many ways out of the ordinary. From the Revolution of 1917 to Gorbachev, touching on the civil war, the Great Terror, World War II, the Cold War and the death of Stalin, this series describes the workings of the Gulag.\\nHow and why did the USSR create this system of forced- labour camps in which 20 million prisoners were exploited and worked to the bone? \\nThrough the exceptional fates of numerous protagonists, both executioners and victims, the history of the Gulag is deciphered with previously-unreleased documentary sources and the help of renowned historians and Gulag experts.\\n\\nEpisode 2:\\nStalin, who was highly praised at the 17th congress of the Communist Party in 1934, launched the construction of the Moscow canal and a new Trans-Siberian route. The NKVD, which took over from the GPU, increased the number of camps and transformed the Gulag into a veritable prison industry. In 1935 the number of prisoners in the Gulag exceeded one million. The trials held by Moscow, which were the showcase of the Great Purge, hid the repression that was hitting Soviet society and the anonymous mass executions and arbitrary arrests rapidly increased in number. In January 1939 2 million prisoners were working in the Gulag, but on 22 June 1941 Germany attacked the Soviet Union. As a consequence, in 1942, detention conditions in the Gulag degenerated. Famine and disease caused the death of many prisoners. In 1945, in spite of the Soviet victory over Nazi Germany, the Gulag archipelago, supplier of essential raw materials, continued to expand.\\n\\n▬▬▬▬▬▬▬▬▬\\n\\nSubscribe Free Documentary - History Channel for free: https://bit.ly/2FjRPgV\\nJoin the club and become a Free Documentary Patron: https://www.patreon.com/freedocumentary\\nFacebook: https://bit.ly/2QfRxbG\\nTwitter: https://bit.ly/2QlwRiI\\n\\n▬▬▬▬▬▬▬▬▬\\n#FreeDocumentary #Documentary #Gulag \\n▬▬▬▬▬▬▬▬▬\\n\\nFree Documentary - History is dedicated to bringing high-class documentaries to you on YouTube for free. You will see fascinating animations showing the past from a new perspective and explanations by renowned historians that make history come alive.\\n\\nEnjoy stories about people and events that formed the world we live in.\",\n",
       "    'thumbnails': {'default': {'url': 'https://i.ytimg.com/vi/hG8KEfG5lwg/default.jpg',\n",
       "      'width': 120,\n",
       "      'height': 90},\n",
       "     'medium': {'url': 'https://i.ytimg.com/vi/hG8KEfG5lwg/mqdefault.jpg',\n",
       "      'width': 320,\n",
       "      'height': 180},\n",
       "     'high': {'url': 'https://i.ytimg.com/vi/hG8KEfG5lwg/hqdefault.jpg',\n",
       "      'width': 480,\n",
       "      'height': 360},\n",
       "     'standard': {'url': 'https://i.ytimg.com/vi/hG8KEfG5lwg/sddefault.jpg',\n",
       "      'width': 640,\n",
       "      'height': 480},\n",
       "     'maxres': {'url': 'https://i.ytimg.com/vi/hG8KEfG5lwg/maxresdefault.jpg',\n",
       "      'width': 1280,\n",
       "      'height': 720}},\n",
       "    'channelTitle': 'Free Documentary - History',\n",
       "    'tags': ['Free Documentary',\n",
       "     'Documentaries',\n",
       "     'Full Documentary',\n",
       "     'documentary - topic',\n",
       "     'documentary (tv genre)',\n",
       "     'History',\n",
       "     'History Documentaries',\n",
       "     'Free Documentary History',\n",
       "     'History Documentary',\n",
       "     'Soviet Union',\n",
       "     'History of the Soviet Union',\n",
       "     'Gulag',\n",
       "     'Gulag Documentary',\n",
       "     'History of the Gulag',\n",
       "     'Russian Revolution',\n",
       "     'Communism',\n",
       "     'History of Communism',\n",
       "     'Communism Documentary',\n",
       "     'Vladimir Lenin',\n",
       "     'Joseph Stalin',\n",
       "     'Gulag Archipelago',\n",
       "     'Russia',\n",
       "     'Siberia',\n",
       "     'Labor Camps',\n",
       "     'Gulag The Story',\n",
       "     'Gulag The Story Full Episodes'],\n",
       "    'categoryId': '27',\n",
       "    'liveBroadcastContent': 'none',\n",
       "    'localized': {'title': 'Gulag - The Story | Part 2: Propagation - 1934 - 1945 | Free Documentary History',\n",
       "     'description': \"Gulag - The Story - Part 2: Propagation - 1934 - 1945 | History Documentary\\n\\nWatch 'Gulag  - The Story: Part 3' here: https://youtu.be/dBjcT0QxSS0\\n\\nA major political, historical, human and economic fact of the 20th century, the Gulag, the extremely punitive Soviet concentration camp system, remains largely unknown.\\nThe history of the Gulag is long, complex and in many ways out of the ordinary. From the Revolution of 1917 to Gorbachev, touching on the civil war, the Great Terror, World War II, the Cold War and the death of Stalin, this series describes the workings of the Gulag.\\nHow and why did the USSR create this system of forced- labour camps in which 20 million prisoners were exploited and worked to the bone? \\nThrough the exceptional fates of numerous protagonists, both executioners and victims, the history of the Gulag is deciphered with previously-unreleased documentary sources and the help of renowned historians and Gulag experts.\\n\\nEpisode 2:\\nStalin, who was highly praised at the 17th congress of the Communist Party in 1934, launched the construction of the Moscow canal and a new Trans-Siberian route. The NKVD, which took over from the GPU, increased the number of camps and transformed the Gulag into a veritable prison industry. In 1935 the number of prisoners in the Gulag exceeded one million. The trials held by Moscow, which were the showcase of the Great Purge, hid the repression that was hitting Soviet society and the anonymous mass executions and arbitrary arrests rapidly increased in number. In January 1939 2 million prisoners were working in the Gulag, but on 22 June 1941 Germany attacked the Soviet Union. As a consequence, in 1942, detention conditions in the Gulag degenerated. Famine and disease caused the death of many prisoners. In 1945, in spite of the Soviet victory over Nazi Germany, the Gulag archipelago, supplier of essential raw materials, continued to expand.\\n\\n▬▬▬▬▬▬▬▬▬\\n\\nSubscribe Free Documentary - History Channel for free: https://bit.ly/2FjRPgV\\nJoin the club and become a Free Documentary Patron: https://www.patreon.com/freedocumentary\\nFacebook: https://bit.ly/2QfRxbG\\nTwitter: https://bit.ly/2QlwRiI\\n\\n▬▬▬▬▬▬▬▬▬\\n#FreeDocumentary #Documentary #Gulag \\n▬▬▬▬▬▬▬▬▬\\n\\nFree Documentary - History is dedicated to bringing high-class documentaries to you on YouTube for free. You will see fascinating animations showing the past from a new perspective and explanations by renowned historians that make history come alive.\\n\\nEnjoy stories about people and events that formed the world we live in.\"},\n",
       "    'defaultAudioLanguage': 'en'},\n",
       "   'contentDetails': {'duration': 'PT56M44S',\n",
       "    'dimension': '2d',\n",
       "    'definition': 'hd',\n",
       "    'caption': 'false',\n",
       "    'licensedContent': True,\n",
       "    'regionRestriction': {'allowed': ['AU',\n",
       "      'CA',\n",
       "      'GB',\n",
       "      'ID',\n",
       "      'IN',\n",
       "      'KE',\n",
       "      'MY',\n",
       "      'NL',\n",
       "      'NZ',\n",
       "      'PH',\n",
       "      'SE',\n",
       "      'US',\n",
       "      'ZA']},\n",
       "    'contentRating': {},\n",
       "    'projection': 'rectangular'},\n",
       "   'statistics': {'viewCount': '140656',\n",
       "    'likeCount': '2601',\n",
       "    'favoriteCount': '0',\n",
       "    'commentCount': '662'}}],\n",
       " 'pageInfo': {'totalResults': 1, 'resultsPerPage': 1}}"
      ]
     },
     "execution_count": 41,
     "metadata": {},
     "output_type": "execute_result"
    }
   ],
   "source": [
    "youtube.videos().list(\n",
    "        part=\"snippet,contentDetails,statistics\",\n",
    "        id='hG8KEfG5lwg'\n",
    "    ).execute()"
   ]
  },
  {
   "cell_type": "code",
   "execution_count": null,
   "id": "9da7b8bf",
   "metadata": {},
   "outputs": [],
   "source": []
  }
 ],
 "metadata": {
  "kernelspec": {
   "display_name": "Python 3 (ipykernel)",
   "language": "python",
   "name": "python3"
  },
  "language_info": {
   "codemirror_mode": {
    "name": "ipython",
    "version": 3
   },
   "file_extension": ".py",
   "mimetype": "text/x-python",
   "name": "python",
   "nbconvert_exporter": "python",
   "pygments_lexer": "ipython3",
   "version": "3.10.6"
  }
 },
 "nbformat": 4,
 "nbformat_minor": 5
}

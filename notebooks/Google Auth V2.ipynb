{
 "cells": [
  {
   "cell_type": "code",
   "execution_count": 2,
   "id": "9d6da054",
   "metadata": {},
   "outputs": [],
   "source": [
    "from google.oauth2.credentials import Credentials"
   ]
  },
  {
   "cell_type": "code",
   "execution_count": 3,
   "id": "8923a6ef",
   "metadata": {},
   "outputs": [],
   "source": [
    "def credentials_to_dict(credentals: Credentials) -> dict:\n",
    "    \"\"\"Convert credentials to a dict for easy work with Flask.\"\"\"\n",
    "    return dict(\n",
    "        token=credentials.token,\n",
    "        refresh_token=credentials.refresh_token,\n",
    "        token_uri=credentials.token_uri,\n",
    "        client_id=credentials.client_id,\n",
    "        client_secret=credentials.client_secret,\n",
    "        scopes=credentials.scopes\n",
    "    )"
   ]
  },
  {
   "cell_type": "code",
   "execution_count": null,
   "id": "52c79df1",
   "metadata": {},
   "outputs": [],
   "source": []
  }
 ],
 "metadata": {
  "kernelspec": {
   "display_name": "Python 3 (ipykernel)",
   "language": "python",
   "name": "python3"
  },
  "language_info": {
   "codemirror_mode": {
    "name": "ipython",
    "version": 3
   },
   "file_extension": ".py",
   "mimetype": "text/x-python",
   "name": "python",
   "nbconvert_exporter": "python",
   "pygments_lexer": "ipython3",
   "version": "3.10.6"
  }
 },
 "nbformat": 4,
 "nbformat_minor": 5
}

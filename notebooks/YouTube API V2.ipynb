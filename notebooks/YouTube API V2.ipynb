{
 "cells": [
  {
   "cell_type": "code",
   "execution_count": null,
   "id": "70c56fc2",
   "metadata": {},
   "outputs": [],
   "source": [
    "\"\"\"\n",
    "Why did I build this library?\n",
    "What was the challenge?\n",
    "What are the alternatives?\n",
    "What is the design?\n",
    "How do I use it?\n",
    "How do I contribute?\n",
    "What are some of the challenges or issues faced?\n",
    "What are sample projects built with this?\n",
    "\"\"\""
   ]
  },
  {
   "cell_type": "code",
   "execution_count": null,
   "id": "fcaeecdf",
   "metadata": {},
   "outputs": [],
   "source": [
    "\"\"\"\n",
    "from ayv import YouTube\n",
    "\n",
    "youtube = YouTube.from_secrets(secrets_file='secret_credentials.json', credentials_path='home/user')\n",
    "youtube = YouTube.from_credentials(credentials_path='/home/user')\n",
    "\n",
    "youtube.authenticate()\n",
    "\"\"\""
   ]
  },
  {
   "cell_type": "code",
   "execution_count": null,
   "id": "c9a1f924",
   "metadata": {},
   "outputs": [],
   "source": [
    "\"\"\"\n",
    "from ayv import generate_credentials\n",
    "\n",
    "python3 -m ayv --secrets_file=secrets.json --credentials_path=/home/user\n",
    "================= Generate credentials for YouTube V3 API ====================\n",
    "Please Go To this URL to get the authorization code:\n",
    "\n",
    "Enter the authorization code: \n",
    "\n",
    "The credentials have been saved to: \n",
    "You can now us the ayv library. Try this out:\n",
    "\n",
    "from ayv import YouTube\n",
    "\n",
    "youtube = YouTube(credentials_path='/home/user')\n",
    "\n",
    "youtube.authenticate()\n",
    "\n",
    "============= Library Authenticated ============================================\n",
    "\"\"\""
   ]
  },
  {
   "cell_type": "code",
   "execution_count": null,
   "id": "526b2404",
   "metadata": {},
   "outputs": [],
   "source": [
    "\"\"\"\n",
    "The components of this library:\n",
    "\n",
    "1. Authorization\n",
    "    1. Local development\n",
    "    2. Production deloyment\n",
    "2. Getting the resources\n",
    "3. Representing the resources\n",
    "4. Managing the resources\n",
    "5. Analyzing the resources\n",
    "6. Storing the resources\n",
    "    1. csv\n",
    "    2. SQLAlchemy\n",
    "    4. elastic-search\n",
    "7. Error handling\n",
    "\n",
    "The main aim of building this library was to be able to analyze YouTube resources which include:\n",
    "    1. Videos\n",
    "    2. Playlists\n",
    "    3. Channels\n",
    "    4. Comments\n",
    "\"\"\""
   ]
  },
  {
   "cell_type": "code",
   "execution_count": null,
   "id": "437171a4",
   "metadata": {},
   "outputs": [],
   "source": [
    "\"\"\"\n",
    "For local development\n",
    "\"\"\""
   ]
  }
 ],
 "metadata": {
  "kernelspec": {
   "display_name": "Python 3 (ipykernel)",
   "language": "python",
   "name": "python3"
  },
  "language_info": {
   "codemirror_mode": {
    "name": "ipython",
    "version": 3
   },
   "file_extension": ".py",
   "mimetype": "text/x-python",
   "name": "python",
   "nbconvert_exporter": "python",
   "pygments_lexer": "ipython3",
   "version": "3.10.6"
  }
 },
 "nbformat": 4,
 "nbformat_minor": 5
}

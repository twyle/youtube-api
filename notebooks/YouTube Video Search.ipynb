{
 "cells": [
  {
   "cell_type": "code",
   "execution_count": 1,
   "id": "4007faee",
   "metadata": {},
   "outputs": [],
   "source": [
    "from googleapiclient.discovery import build\n",
    "from google_auth_oauthlib.flow import InstalledAppFlow\n",
    "from google.auth.transport.requests import Request\n",
    "from google.auth.exceptions import RefreshError\n",
    "\n",
    "import re\n",
    "import os\n",
    "import pickle"
   ]
  },
  {
   "cell_type": "code",
   "execution_count": 5,
   "id": "e0919937",
   "metadata": {},
   "outputs": [],
   "source": [
    "from enum import Enum"
   ]
  },
  {
   "cell_type": "code",
   "execution_count": null,
   "id": "56229472",
   "metadata": {},
   "outputs": [],
   "source": [
    "\"\"\"\n",
    "youtube = YouTube()\n",
    "youtube.authenticate(credentials_file='', token_path='')\n",
    "youtube = YouTube(credentials_file='', token_path='')\n",
    "youtube.search_video(): query -> List[YouTubeVideo]\n",
    "youtube.search_channel(): query -> List[YouTubeChannel]\n",
    "youtube.search_playlist(): query -> List[PlayList]\n",
    "youtube.YouTubeVideo(video_id='') -> YouTubeVideo\n",
    "youtube.YouTubeVideo(video_url='')\n",
    "youtube.errors.\n",
    "youtube.utils\n",
    "\"\"\""
   ]
  },
  {
   "cell_type": "code",
   "execution_count": 170,
   "id": "1381501b",
   "metadata": {},
   "outputs": [],
   "source": [
    "class YouTubeAPIConstants:\n",
    "    TOKEN_FILE = 'token.pickle'\n",
    "    API_SERVICE_NAME = 'youtube'\n",
    "    API_VERSION = 'v3'\n",
    "    SCOPES = [\"https://www.googleapis.com/auth/youtube.force-ssl\"]"
   ]
  },
  {
   "cell_type": "code",
   "execution_count": 190,
   "id": "4129307c",
   "metadata": {},
   "outputs": [],
   "source": [
    "class Authenticate:\n",
    "    \"\"\"Handle the YouTube authentication process.\"\"\"\n",
    "    os.environ[\"OAUTHLIB_INSECURE_TRANSPORT\"] = \"1\"\n",
    "    __TOKEN_FILE = YouTubeAPIConstants.TOKEN_FILE\n",
    "    __API_SERVICE_NAME = YouTubeAPIConstants.API_SERVICE_NAME\n",
    "    __API_VERSION = YouTubeAPIConstants.API_VERSION\n",
    "    __SCOPES = YouTubeAPIConstants.SCOPES\n",
    "    \n",
    "    def __init__(self, client_secrets_file: str , api_token_path: str = ''):\n",
    "        \"\"\"Create the auth object.\"\"\"\n",
    "        self.__credentials = None\n",
    "        \n",
    "        self.__verify_client_secret_file(client_secrets_file)\n",
    "        self.__client_secrets_file = client_secrets_file\n",
    "        \n",
    "        if not api_token_path or not os.path.exists(api_token_path):\n",
    "            self.__api_token_path = self.__get_default_api_token_path()\n",
    "        else:\n",
    "            self.__api_token_path = api_token_path\n",
    "            \n",
    "    def __verify_client_secret_file(self, client_secrets_file: str) -> None:\n",
    "        \"\"\"Verfy the client secret file.\"\"\"\n",
    "        if not client_secrets_file:\n",
    "            raise ValueError('The clients secret file path has to be provided.')\n",
    "        if not isinstance(client_secrets_file, str):\n",
    "            raise TypeError('The clients secret file should be a string.')\n",
    "        if not os.path.exists(client_secrets_file):\n",
    "            raise ValueError(f'The path {client_secrets_file} does not exist!')\n",
    "        \n",
    "    def __get_default_api_token_path(self):\n",
    "        \"\"\"Generate the default api token file location.\"\"\"\n",
    "        current_user_home_dir = os.path.expanduser('~')\n",
    "        api_token_path = os.path.join(current_user_home_dir, self.__TOKEN_FILE)\n",
    "        return api_token_path\n",
    "    \n",
    "    def __authenticate_youtube(self):\n",
    "        \"\"\"Authenticate the YouTube API.\"\"\"\n",
    "        if os.path.exists(self.__api_token_path):\n",
    "            with open(self.__api_token_path, \"rb\") as token:\n",
    "                self.__credentials = pickle.load(token)\n",
    "        # if there are no (valid) credentials availablle, let the user log in.\n",
    "        if not self.__credentials or not self.__credentials.valid:\n",
    "            if self.__credentials and self.__credentials.expired and self.__credentials.refresh_token:\n",
    "                self.__credentials.refresh(Request())\n",
    "            else:\n",
    "                flow = InstalledAppFlow.from_client_secrets_file(self.__client_secrets_file, self.__SCOPES)\n",
    "                self.__credentials = flow.run_local_server(port=0)\n",
    "            # save the credentials for the next run\n",
    "            with open(self.__api_token_path, \"wb\") as token:\n",
    "                pickle.dump(self.__credentials, token)\n",
    "\n",
    "        return build(self.__API_SERVICE_NAME, self.__API_VERSION, credentials=self.__credentials)\n",
    "    \n",
    "    def authenticate(self):\n",
    "        try:\n",
    "            youtube_client =  self.__authenticate_youtube()\n",
    "        except RefreshError as e:\n",
    "            raise Exception('The token is expired. Kindly generate a new one.')\n",
    "        else:\n",
    "            return youtube_client"
   ]
  },
  {
   "cell_type": "code",
   "execution_count": 191,
   "id": "c889b40c",
   "metadata": {},
   "outputs": [],
   "source": [
    "class YouTubeSearchQuery:\n",
    "    \"\"\"A query to pass to the search resource.\"\"\"\n",
    "    \n",
    "    def __init__(self, query_string: str):\n",
    "        self.__query_string = query_string\n",
    "        \n",
    "    @property\n",
    "    def query_string(self):\n",
    "        return self.__query_string\n",
    "    \n",
    "    @query_string.setter\n",
    "    def query_string(self, query_str: str):\n",
    "        if not query_str:\n",
    "            raise ValueError('The query string has to be provided')\n",
    "        if not isinstance(query_str, str):\n",
    "            raise TypeError('The query string has to be a string')\n",
    "        self.__query_string = query_str\n",
    "\n",
    "        \n",
    "class YouTubeVideoSearchQuery(YouTubeSearchQuery):\n",
    "    pass"
   ]
  },
  {
   "cell_type": "code",
   "execution_count": 192,
   "id": "9fe2bed4",
   "metadata": {},
   "outputs": [],
   "source": [
    "class YouTubeSearchType:\n",
    "    VIDEO = 'video'\n",
    "    CHANNEL = 'channel'\n",
    "    PLAYLIST = 'playlist'"
   ]
  },
  {
   "cell_type": "code",
   "execution_count": 193,
   "id": "2932989d",
   "metadata": {},
   "outputs": [],
   "source": [
    "class YouTubeSearch:\n",
    "    MAX_RESULTS = 10\n",
    "    REGION_CODE = 'US'\n",
    "    \n",
    "    def __init__(self, *args, **kwargs):\n",
    "        pass"
   ]
  },
  {
   "cell_type": "code",
   "execution_count": 194,
   "id": "63cb5aa2",
   "metadata": {},
   "outputs": [],
   "source": [
    "class VideoSearch(YouTubeSearch):\n",
    "    def __init__(self, query_string: str):\n",
    "        self.__type = YouTubeSearchType.VIDEO\n",
    "        self.__query = YouTubeSearchQuery(query_string)\n",
    "        \n",
    "    def __get_query(self):\n",
    "        return self.__query.query_string\n",
    "        \n",
    "    def basic_info(self):\n",
    "        basic_info_params = self.__generate_basic_info_params()\n",
    "        return basic_info_params\n",
    "    \n",
    "    def advanced_info(self):\n",
    "        pass\n",
    "    \n",
    "    def all_info(self):\n",
    "        pass\n",
    "    \n",
    "    def __generate_basic_info_params(self, next_page_token=''):\n",
    "        basic_info_params = dict(\n",
    "            part='id,snippet',\n",
    "            type=self.__type,\n",
    "            q=self.__get_query(),\n",
    "            maxResults=self.MAX_RESULTS,\n",
    "            regionCode=self.REGION_CODE\n",
    "        ) \n",
    "        if next_page_token:\n",
    "            basic_info_params['pageToken'] = next_page_token\n",
    "        return basic_info_params\n",
    "    \n",
    "    def search_video(self, youtube_client, search_type='basic', next_page_token=''):\n",
    "        search_response = None\n",
    "        if search_type == 'basic':\n",
    "            basic_info_params = self.__generate_basic_info_params(next_page_token='')\n",
    "            search_request = youtube_client.search().list(\n",
    "                **basic_info_params\n",
    "            )\n",
    "            search_response = search_request.execute()\n",
    "        return search_response\n",
    "    \n",
    "    @staticmethod\n",
    "    def parse_basic_response(search_result: dict) -> list[dict[str, str]]:\n",
    "        video_details = []\n",
    "        video_results = search_result['items']\n",
    "        for video_result in video_results:\n",
    "            video = {}\n",
    "            video_id = video_result['id']\n",
    "            video_snippet = video_result['snippet']\n",
    "            video['id'] = video_id['videoId']\n",
    "            video['title'] = video_snippet['title']\n",
    "            video['description'] = video_snippet['description']\n",
    "            video['channelTitle'] = video_snippet['channelTitle']\n",
    "            video_details.append(video)\n",
    "        return video_details"
   ]
  },
  {
   "cell_type": "code",
   "execution_count": 195,
   "id": "f2f6e586",
   "metadata": {},
   "outputs": [],
   "source": [
    "class YouTube:\n",
    "    def __init__(self, credentials_file='', token_path=''):\n",
    "        self.__auth = Authenticate(credentials_file, token_path)\n",
    "        self.__youtube_client = None\n",
    "        self.__is_authenticated = False\n",
    "        \n",
    "    def is_authenticated(self):\n",
    "        return self.__is_authenticated\n",
    "        \n",
    "    def authenticate(self, credentials_file='', token_path=''):\n",
    "        self.__youtube_client = self.__auth.authenticate()\n",
    "        self.__is_authenticated = True\n",
    "        \n",
    "    def get_youtube(self):\n",
    "        return self.__youtube_client\n",
    "        \n",
    "    def search_video(self, query_string: str) -> list[str]:\n",
    "        video_search = VideoSearch('python')\n",
    "        search_results = video_search.search_video(self.__youtube_client)\n",
    "        parsed_results = video_search.parse_basic_response(search_results)\n",
    "        return parsed_results\n",
    "    \n",
    "    def get_video(self, video_url: str):\n",
    "        \"\"\"Get a specific video given the video url.\"\"\"\n",
    "        video_id = self.__get_video_id(video_url)\n",
    "        \n",
    "    def find_video(self, video: str, by: str = 'url'):\n",
    "        \"\"\"Find a video by id.\"\"\"\n",
    "        if by:\n",
    "            if not isinstance(by, str):\n",
    "                raise ValueError('by must be a string')\n",
    "            if by not in ['url', 'id']:\n",
    "                raise ValueError('by must be either id or url')\n",
    "        if by == 'url':\n",
    "            return self.__get_video_id(video)\n",
    "    \n",
    "    @staticmethod\n",
    "    def __get_video_id(video_url: str) -> str:\n",
    "        \"\"\"Get vdeo ID from video url\"\"\"\n",
    "        if not video_url:\n",
    "            raise ValueError('The video_ur has to be provided.')\n",
    "        if not isinstance(video_url, str):\n",
    "            raise TypeError('Te video_url has to be a string.')\n",
    "        if '=' not in video_url:\n",
    "            url_format = 'https://www.youtube.com/watch?v=Dqdu-FsBk0s'\n",
    "            raise ValueError('Te video_url should be of the format \"{url_format}\"')\n",
    "        video_url = video_url.split('=')[1]\n",
    "        return video_url"
   ]
  },
  {
   "cell_type": "code",
   "execution_count": 196,
   "id": "d61e1e88",
   "metadata": {},
   "outputs": [],
   "source": [
    "youtube = YouTube(credentials_file='/home/lyle/Downloads/client_secret.json', \n",
    "                  token_path='')\n",
    "youtube.authenticate()\n",
    "youtube_client = youtube.get_youtube()"
   ]
  },
  {
   "cell_type": "code",
   "execution_count": 197,
   "id": "a28734d8",
   "metadata": {},
   "outputs": [
    {
     "data": {
      "text/plain": [
       "[{'id': '_uQrJ0TkZlc',\n",
       "  'title': 'Python Tutorial - Python Full Course for Beginners',\n",
       "  'description': 'Python tutorial - Python full course for beginners - Go from Zero to Hero with Python (includes machine learning & web ...',\n",
       "  'channelTitle': 'Programming with Mosh'},\n",
       " {'id': 'rfscVS0vtbw',\n",
       "  'title': 'Learn Python - Full Course for Beginners [Tutorial]',\n",
       "  'description': \"This course will give you a full introduction into all of the core concepts in python. Follow along with the videos and you'll be a ...\",\n",
       "  'channelTitle': 'freeCodeCamp.org'},\n",
       " {'id': 'kqtD5dpn9C8',\n",
       "  'title': 'Python for Beginners - Learn Python in 1 Hour',\n",
       "  'description': 'This Python tutorial for beginners show how to get started with Python quickly. Learn to code in 1 hour! Watch this tutorial get ...',\n",
       "  'channelTitle': 'Programming with Mosh'},\n",
       " {'id': 'b093aqAZiPU',\n",
       "  'title': '👩\\u200d💻 Python for Beginners Tutorial',\n",
       "  'description': 'In this step-by-step Python for beginners tutorial, learn how you can get started programming in Python. In this video, I assume that ...',\n",
       "  'channelTitle': 'Kevin Stratvert'},\n",
       " {'id': 'Y8Tko2YC5hA',\n",
       "  'title': 'What is Python? Why Python is So Popular?',\n",
       "  'description': 'What is Python? This short video explains it in 4 minutes. Python Tutorial for Beginners: https://youtu.be/_uQrJ0TkZlc Python ...',\n",
       "  'channelTitle': 'Programming with Mosh'},\n",
       " {'id': 'XKHEtdqhLK8',\n",
       "  'title': 'Python Full Course for free 🐍',\n",
       "  'description': 'Python tutorial for beginners full course #python #tutorial #beginners ⭐️Time Stamps⭐️ #1 (00:00:00)\\u200b Python tutorial for ...',\n",
       "  'channelTitle': 'Bro Code'},\n",
       " {'id': 'x7X9w_GIm1s',\n",
       "  'title': 'Python in 100 Seconds',\n",
       "  'description': \"Python is arguably the world's most popular programming language. It is easy to learn, yet suitable in professional software like ...\",\n",
       "  'channelTitle': 'Fireship'},\n",
       " {'id': 't8pPdKYpowI',\n",
       "  'title': 'Python Tutorial for Beginners - Learn Python in 5 Hours [FULL COURSE]',\n",
       "  'description': \"Python Tutorial for Beginners | Full Python Course | Learn Python in 2023 The Ultimate IT Beginner's Course: http://bit.ly/3iro1lx ...\",\n",
       "  'channelTitle': 'TechWorld with Nana'},\n",
       " {'id': 'eWRfhZUzrAc',\n",
       "  'title': 'Python for Beginners – Full Course [Programming Tutorial]',\n",
       "  'description': 'Learn the Python programming language in this full course for beginners! You will learn the fundamentals of Python and code two ...',\n",
       "  'channelTitle': 'freeCodeCamp.org'},\n",
       " {'id': 'mRMmlo_Uqcs',\n",
       "  'title': 'you need to learn Python RIGHT NOW!! // EP 1',\n",
       "  'description': 'What I use to learn (the BEST IT training): https://ntck.co/itprotv (30% off FOREVER) *affiliate link FREE Python Lab: ...',\n",
       "  'channelTitle': 'NetworkChuck'}]"
      ]
     },
     "execution_count": 197,
     "metadata": {},
     "output_type": "execute_result"
    }
   ],
   "source": [
    "youtube.search_video('python')"
   ]
  },
  {
   "cell_type": "code",
   "execution_count": 198,
   "id": "cf6e8182",
   "metadata": {},
   "outputs": [],
   "source": [
    "search_request = youtube_client.videos().list(\n",
    "    id='rfscVS0vtbw',\n",
    "    part='snippet,contentDetails,statistics'\n",
    ")\n",
    "search_response = search_request.execute()"
   ]
  },
  {
   "cell_type": "code",
   "execution_count": 199,
   "id": "408ae1b9",
   "metadata": {},
   "outputs": [],
   "source": [
    "class FindVideo:\n",
    "    def __init__(self, video_id: str):\n",
    "        \"\"\"Find the video with the given id.\"\"\"\n",
    "        self.__video_id = video_id\n",
    "        \n",
    "    def __generate_basic_info_params(self):\n",
    "        basic_info_params = dict(\n",
    "            id=self.__video_id,\n",
    "            part='snippet,contentDetails,statistics'\n",
    "        ) \n",
    "        return basic_info_params\n",
    "    \n",
    "    def find_video(self, youtube_client):\n",
    "        \"\"\"Find the video.\"\"\"\n",
    "        basic_info_params = self.__generate_basic_info_params()\n",
    "        search_request = youtube_client.videos().list(\n",
    "                **basic_info_params\n",
    "            )\n",
    "        search_response = search_request.execute()\n",
    "        parsed_response = self.__parse_video_details(search_response)\n",
    "        return parsed_response\n",
    "    \n",
    "    def __parse_video_details(self, video_details: dict):\n",
    "        \"\"\"Parse the video details.\n",
    "\n",
    "        Returns\n",
    "        -------\n",
    "        parsed_video_details: dict\n",
    "            A dictionary of the YouTube video details.\n",
    "        \"\"\"\n",
    "        parsed_video_details = dict()\n",
    "        items = video_details['items'][0]\n",
    "        parsed_video_details['details'] = dict()\n",
    "        parsed_video_details['statistics'] = dict()\n",
    "        parsed_video_details['details']['id'] = items['id']\n",
    "        parsed_video_details['details']['channelId'] = items['snippet']['channelId']\n",
    "        parsed_video_details['details']['title'] = items['snippet']['title']\n",
    "        parsed_video_details['details']['channelTitle'] = items['snippet']['channelTitle']\n",
    "        parsed_video_details['details']['description'] = items['snippet']['description']\n",
    "        parsed_video_details['details']['tags'] = items['snippet']['tags']\n",
    "        parsed_video_details['details']['duration'] = items['contentDetails']['duration']\n",
    "        parsed_video_details['details']['licensedContent'] = items['contentDetails']['licensedContent']\n",
    "        parsed_video_details['statistics']['viewCount'] = items['statistics']['viewCount']\n",
    "        parsed_video_details['statistics']['likeCount'] = items['statistics']['likeCount']\n",
    "        parsed_video_details['statistics']['commentCount'] = items['statistics']['commentCount']\n",
    "        return parsed_video_details"
   ]
  },
  {
   "cell_type": "code",
   "execution_count": 200,
   "id": "d3052869",
   "metadata": {},
   "outputs": [],
   "source": [
    "find_video = FindVideo(video_id='rfscVS0vtbw')\n",
    "video_details = find_video.find_video(youtube_client)"
   ]
  },
  {
   "cell_type": "code",
   "execution_count": 201,
   "id": "a87ff7de",
   "metadata": {},
   "outputs": [
    {
     "data": {
      "text/plain": [
       "{'details': {'id': 'rfscVS0vtbw',\n",
       "  'channelId': 'UC8butISFwT-Wl7EV0hUK0BQ',\n",
       "  'title': 'Learn Python - Full Course for Beginners [Tutorial]',\n",
       "  'channelTitle': 'freeCodeCamp.org',\n",
       "  'description': \"This course will give you a full introduction into all of the core concepts in python. Follow along with the videos and you'll be a python programmer in no time!\\nWant more from Mike? He's starting a coding RPG/Bootcamp - https://simulator.dev/\\n\\n⭐️ Contents ⭐\\n⌨️ (0:00) Introduction\\n⌨️ (1:45) Installing Python & PyCharm\\n⌨️ (6:40) Setup & Hello World\\n⌨️ (10:23) Drawing a Shape\\n⌨️ (15:06) Variables & Data Types\\n⌨️ (27:03) Working With Strings\\n⌨️ (38:18) Working With Numbers\\n⌨️ (48:26) Getting Input From Users\\n⌨️ (52:37) Building a Basic Calculator\\n⌨️ (58:27) Mad Libs Game\\n⌨️ (1:03:10) Lists\\n⌨️ (1:10:44) List Functions\\n⌨️ (1:18:57) Tuples\\n⌨️ (1:24:15) Functions\\n⌨️ (1:34:11) Return Statement\\n⌨️ (1:40:06) If Statements\\n⌨️ (1:54:07) If Statements & Comparisons\\n⌨️ (2:00:37) Building a better Calculator\\n⌨️ (2:07:17) Dictionaries\\n⌨️ (2:14:13) While Loop\\n⌨️ (2:20:21) Building a Guessing Game\\n⌨️ (2:32:44) For Loops\\n⌨️ (2:41:20) Exponent Function\\n⌨️ (2:47:13) 2D Lists & Nested Loops\\n⌨️ (2:52:41) Building a Translator\\n⌨️ (3:00:18) Comments\\n⌨️ (3:04:17) Try / Except\\n⌨️ (3:12:41) Reading Files\\n⌨️ (3:21:26) Writing to Files\\n⌨️ (3:28:13) Modules & Pip\\n⌨️ (3:43:56) Classes & Objects\\n⌨️ (3:57:37) Building a Multiple Choice Quiz\\n⌨️ (4:08:28) Object Functions\\n⌨️ (4:12:37) Inheritance\\n⌨️ (4:20:43) Python Interpreter\\n\\nCourse developed by Mike Dane. Check out his YouTube channel for more great programming courses: https://www.youtube.com/channel/UCvmINlrza7JHB1zkIOuXEbw\\n\\n🐦Follow Mike on Twitter - https://twitter.com/mike_dane\\n\\n🔗If you liked this video, Mike accepts donations on his website: https://www.mikedane.com/contribute/\\n\\n⭐️Other full courses by Mike Dane on our channel ⭐️\\n💻C: https://youtu.be/KJgsSFOSQv0\\n💻C++: https://youtu.be/vLnPwxZdW4Y\\n💻SQL: https://youtu.be/HXV3zeQKqGY\\n💻Ruby: https://youtu.be/t_ispmWmdjY\\n💻PHP: https://youtu.be/OK_JCtrrv-c\\n💻C#: https://youtu.be/GhQdlIFylQ8\\n\\n--\\n\\nLearn to code for free and get a developer job: https://www.freecodecamp.org\\n\\nRead hundreds of articles on programming: https://medium.freecodecamp.org\",\n",
       "  'tags': ['python',\n",
       "   'python tutorial',\n",
       "   'python language',\n",
       "   'python full course',\n",
       "   'python course',\n",
       "   'learn python',\n",
       "   'learn python programming',\n",
       "   'python tutorial for beginners',\n",
       "   'python tutorial 2018',\n",
       "   'python programming tutorial',\n",
       "   'python programming language',\n",
       "   'software development',\n",
       "   'programming tutorial',\n",
       "   'freecodecamp'],\n",
       "  'duration': 'PT4H26M52S',\n",
       "  'licensedContent': True},\n",
       " 'statistics': {'viewCount': '39232224',\n",
       "  'likeCount': '950942',\n",
       "  'commentCount': '43161'}}"
      ]
     },
     "execution_count": 201,
     "metadata": {},
     "output_type": "execute_result"
    }
   ],
   "source": [
    "video_details"
   ]
  },
  {
   "cell_type": "code",
   "execution_count": 202,
   "id": "7308dded",
   "metadata": {},
   "outputs": [
    {
     "ename": "KeyError",
     "evalue": "'items'",
     "output_type": "error",
     "traceback": [
      "\u001b[0;31m---------------------------------------------------------------------------\u001b[0m",
      "\u001b[0;31mKeyError\u001b[0m                                  Traceback (most recent call last)",
      "Cell \u001b[0;32mIn[202], line 1\u001b[0m\n\u001b[0;32m----> 1\u001b[0m \u001b[43mparse_video_details\u001b[49m\u001b[43m(\u001b[49m\u001b[43mvideo_details\u001b[49m\u001b[43m)\u001b[49m\n",
      "Cell \u001b[0;32mIn[54], line 10\u001b[0m, in \u001b[0;36mparse_video_details\u001b[0;34m(video_details)\u001b[0m\n\u001b[1;32m      2\u001b[0m \u001b[38;5;250m\u001b[39m\u001b[38;5;124;03m\"\"\"Parse the video details.\u001b[39;00m\n\u001b[1;32m      3\u001b[0m \u001b[38;5;124;03m\u001b[39;00m\n\u001b[1;32m      4\u001b[0m \u001b[38;5;124;03mReturns\u001b[39;00m\n\u001b[0;32m   (...)\u001b[0m\n\u001b[1;32m      7\u001b[0m \u001b[38;5;124;03m    A dictionary of the YouTube video details.\u001b[39;00m\n\u001b[1;32m      8\u001b[0m \u001b[38;5;124;03m\"\"\"\u001b[39;00m\n\u001b[1;32m      9\u001b[0m parsed_video_details \u001b[38;5;241m=\u001b[39m \u001b[38;5;28mdict\u001b[39m()\n\u001b[0;32m---> 10\u001b[0m items \u001b[38;5;241m=\u001b[39m \u001b[43mvideo_details\u001b[49m\u001b[43m[\u001b[49m\u001b[38;5;124;43m'\u001b[39;49m\u001b[38;5;124;43mitems\u001b[39;49m\u001b[38;5;124;43m'\u001b[39;49m\u001b[43m]\u001b[49m[\u001b[38;5;241m0\u001b[39m]\n\u001b[1;32m     11\u001b[0m parsed_video_details[\u001b[38;5;124m'\u001b[39m\u001b[38;5;124mid\u001b[39m\u001b[38;5;124m'\u001b[39m] \u001b[38;5;241m=\u001b[39m items[\u001b[38;5;124m'\u001b[39m\u001b[38;5;124mid\u001b[39m\u001b[38;5;124m'\u001b[39m]\n\u001b[1;32m     12\u001b[0m parsed_video_details[\u001b[38;5;124m'\u001b[39m\u001b[38;5;124mchannelId\u001b[39m\u001b[38;5;124m'\u001b[39m] \u001b[38;5;241m=\u001b[39m items[\u001b[38;5;124m'\u001b[39m\u001b[38;5;124msnippet\u001b[39m\u001b[38;5;124m'\u001b[39m][\u001b[38;5;124m'\u001b[39m\u001b[38;5;124mchannelId\u001b[39m\u001b[38;5;124m'\u001b[39m]\n",
      "\u001b[0;31mKeyError\u001b[0m: 'items'"
     ]
    }
   ],
   "source": [
    "parse_video_details(video_details)"
   ]
  },
  {
   "cell_type": "code",
   "execution_count": 203,
   "id": "1fe694d0",
   "metadata": {},
   "outputs": [],
   "source": [
    "def parse_video_details(video_details: dict):\n",
    "    \"\"\"Parse the video details.\n",
    "    \n",
    "    Returns\n",
    "    -------\n",
    "    parsed_video_details: dict\n",
    "        A dictionary of the YouTube video details.\n",
    "    \"\"\"\n",
    "    parsed_video_details = dict()\n",
    "    items = video_details['items'][0]\n",
    "    parsed_video_details['id'] = items['id']\n",
    "    parsed_video_details['channelId'] = items['snippet']['channelId']\n",
    "    parsed_video_details['title'] = items['snippet']['title']\n",
    "    parsed_video_details['channelTitle'] = items['snippet']['channelTitle']\n",
    "    parsed_video_details['description'] = items['snippet']['description']\n",
    "    parsed_video_details['tags'] = items['snippet']['tags']\n",
    "    parsed_video_details['duration'] = items['contentDetails']['duration']\n",
    "    parsed_video_details['licensedContent'] = items['contentDetails']['licensedContent']\n",
    "    parsed_video_details['viewCount'] = items['statistics']['viewCount']\n",
    "    parsed_video_details['likeCount'] = items['statistics']['likeCount']\n",
    "    parsed_video_details['commentCount'] = items['statistics']['commentCount']\n",
    "    return parsed_video_details"
   ]
  },
  {
   "cell_type": "code",
   "execution_count": 204,
   "id": "66053c05",
   "metadata": {},
   "outputs": [
    {
     "ename": "KeyError",
     "evalue": "'items'",
     "output_type": "error",
     "traceback": [
      "\u001b[0;31m---------------------------------------------------------------------------\u001b[0m",
      "\u001b[0;31mKeyError\u001b[0m                                  Traceback (most recent call last)",
      "Cell \u001b[0;32mIn[204], line 1\u001b[0m\n\u001b[0;32m----> 1\u001b[0m \u001b[43mparse_video_details\u001b[49m\u001b[43m(\u001b[49m\u001b[43mvideo_details\u001b[49m\u001b[43m)\u001b[49m\n",
      "Cell \u001b[0;32mIn[203], line 10\u001b[0m, in \u001b[0;36mparse_video_details\u001b[0;34m(video_details)\u001b[0m\n\u001b[1;32m      2\u001b[0m \u001b[38;5;250m\u001b[39m\u001b[38;5;124;03m\"\"\"Parse the video details.\u001b[39;00m\n\u001b[1;32m      3\u001b[0m \u001b[38;5;124;03m\u001b[39;00m\n\u001b[1;32m      4\u001b[0m \u001b[38;5;124;03mReturns\u001b[39;00m\n\u001b[0;32m   (...)\u001b[0m\n\u001b[1;32m      7\u001b[0m \u001b[38;5;124;03m    A dictionary of the YouTube video details.\u001b[39;00m\n\u001b[1;32m      8\u001b[0m \u001b[38;5;124;03m\"\"\"\u001b[39;00m\n\u001b[1;32m      9\u001b[0m parsed_video_details \u001b[38;5;241m=\u001b[39m \u001b[38;5;28mdict\u001b[39m()\n\u001b[0;32m---> 10\u001b[0m items \u001b[38;5;241m=\u001b[39m \u001b[43mvideo_details\u001b[49m\u001b[43m[\u001b[49m\u001b[38;5;124;43m'\u001b[39;49m\u001b[38;5;124;43mitems\u001b[39;49m\u001b[38;5;124;43m'\u001b[39;49m\u001b[43m]\u001b[49m[\u001b[38;5;241m0\u001b[39m]\n\u001b[1;32m     11\u001b[0m parsed_video_details[\u001b[38;5;124m'\u001b[39m\u001b[38;5;124mid\u001b[39m\u001b[38;5;124m'\u001b[39m] \u001b[38;5;241m=\u001b[39m items[\u001b[38;5;124m'\u001b[39m\u001b[38;5;124mid\u001b[39m\u001b[38;5;124m'\u001b[39m]\n\u001b[1;32m     12\u001b[0m parsed_video_details[\u001b[38;5;124m'\u001b[39m\u001b[38;5;124mchannelId\u001b[39m\u001b[38;5;124m'\u001b[39m] \u001b[38;5;241m=\u001b[39m items[\u001b[38;5;124m'\u001b[39m\u001b[38;5;124msnippet\u001b[39m\u001b[38;5;124m'\u001b[39m][\u001b[38;5;124m'\u001b[39m\u001b[38;5;124mchannelId\u001b[39m\u001b[38;5;124m'\u001b[39m]\n",
      "\u001b[0;31mKeyError\u001b[0m: 'items'"
     ]
    }
   ],
   "source": [
    "parse_video_details(video_details)"
   ]
  },
  {
   "cell_type": "code",
   "execution_count": 205,
   "id": "591b5d47",
   "metadata": {},
   "outputs": [],
   "source": [
    "find_video = FindVideo(video_id='rfscVS0vtbw')\n",
    "video_details = find_video.find_video(youtube_client)"
   ]
  },
  {
   "cell_type": "code",
   "execution_count": 206,
   "id": "15810c0f",
   "metadata": {},
   "outputs": [
    {
     "data": {
      "text/plain": [
       "{'details': {'id': 'rfscVS0vtbw',\n",
       "  'channelId': 'UC8butISFwT-Wl7EV0hUK0BQ',\n",
       "  'title': 'Learn Python - Full Course for Beginners [Tutorial]',\n",
       "  'channelTitle': 'freeCodeCamp.org',\n",
       "  'description': \"This course will give you a full introduction into all of the core concepts in python. Follow along with the videos and you'll be a python programmer in no time!\\nWant more from Mike? He's starting a coding RPG/Bootcamp - https://simulator.dev/\\n\\n⭐️ Contents ⭐\\n⌨️ (0:00) Introduction\\n⌨️ (1:45) Installing Python & PyCharm\\n⌨️ (6:40) Setup & Hello World\\n⌨️ (10:23) Drawing a Shape\\n⌨️ (15:06) Variables & Data Types\\n⌨️ (27:03) Working With Strings\\n⌨️ (38:18) Working With Numbers\\n⌨️ (48:26) Getting Input From Users\\n⌨️ (52:37) Building a Basic Calculator\\n⌨️ (58:27) Mad Libs Game\\n⌨️ (1:03:10) Lists\\n⌨️ (1:10:44) List Functions\\n⌨️ (1:18:57) Tuples\\n⌨️ (1:24:15) Functions\\n⌨️ (1:34:11) Return Statement\\n⌨️ (1:40:06) If Statements\\n⌨️ (1:54:07) If Statements & Comparisons\\n⌨️ (2:00:37) Building a better Calculator\\n⌨️ (2:07:17) Dictionaries\\n⌨️ (2:14:13) While Loop\\n⌨️ (2:20:21) Building a Guessing Game\\n⌨️ (2:32:44) For Loops\\n⌨️ (2:41:20) Exponent Function\\n⌨️ (2:47:13) 2D Lists & Nested Loops\\n⌨️ (2:52:41) Building a Translator\\n⌨️ (3:00:18) Comments\\n⌨️ (3:04:17) Try / Except\\n⌨️ (3:12:41) Reading Files\\n⌨️ (3:21:26) Writing to Files\\n⌨️ (3:28:13) Modules & Pip\\n⌨️ (3:43:56) Classes & Objects\\n⌨️ (3:57:37) Building a Multiple Choice Quiz\\n⌨️ (4:08:28) Object Functions\\n⌨️ (4:12:37) Inheritance\\n⌨️ (4:20:43) Python Interpreter\\n\\nCourse developed by Mike Dane. Check out his YouTube channel for more great programming courses: https://www.youtube.com/channel/UCvmINlrza7JHB1zkIOuXEbw\\n\\n🐦Follow Mike on Twitter - https://twitter.com/mike_dane\\n\\n🔗If you liked this video, Mike accepts donations on his website: https://www.mikedane.com/contribute/\\n\\n⭐️Other full courses by Mike Dane on our channel ⭐️\\n💻C: https://youtu.be/KJgsSFOSQv0\\n💻C++: https://youtu.be/vLnPwxZdW4Y\\n💻SQL: https://youtu.be/HXV3zeQKqGY\\n💻Ruby: https://youtu.be/t_ispmWmdjY\\n💻PHP: https://youtu.be/OK_JCtrrv-c\\n💻C#: https://youtu.be/GhQdlIFylQ8\\n\\n--\\n\\nLearn to code for free and get a developer job: https://www.freecodecamp.org\\n\\nRead hundreds of articles on programming: https://medium.freecodecamp.org\",\n",
       "  'tags': ['python',\n",
       "   'python tutorial',\n",
       "   'python language',\n",
       "   'python full course',\n",
       "   'python course',\n",
       "   'learn python',\n",
       "   'learn python programming',\n",
       "   'python tutorial for beginners',\n",
       "   'python tutorial 2018',\n",
       "   'python programming tutorial',\n",
       "   'python programming language',\n",
       "   'software development',\n",
       "   'programming tutorial',\n",
       "   'freecodecamp'],\n",
       "  'duration': 'PT4H26M52S',\n",
       "  'licensedContent': True},\n",
       " 'statistics': {'viewCount': '39232224',\n",
       "  'likeCount': '950942',\n",
       "  'commentCount': '43161'}}"
      ]
     },
     "execution_count": 206,
     "metadata": {},
     "output_type": "execute_result"
    }
   ],
   "source": [
    "video_details"
   ]
  },
  {
   "cell_type": "code",
   "execution_count": 207,
   "id": "14bf95b2",
   "metadata": {},
   "outputs": [
    {
     "data": {
      "text/plain": [
       "{'details': {'id': 'x7X9w_GIm1s',\n",
       "  'channelId': 'UCsBjURrPoezykLs9EqgamOA',\n",
       "  'title': 'Python in 100 Seconds',\n",
       "  'channelTitle': 'Fireship',\n",
       "  'description': \"Python is arguably the world's most popular programming language. It is easy to learn, yet suitable in professional software like web applications, data science, and server-side scripts. https://fireship.io/tags/python/\\n\\n#python #programming #100SecondsOfCode\\n\\n🔗 Resources\\n\\nPython Docs https://docs.python.org/3/\\nPython TIOBE Ranking https://www.infoworld.com/article/3636789/python-tops-tiobe-language-index.html\\n\\n🔥 Get More Content - Upgrade to PRO\\n\\nUpgrade to Fireship PRO at https://fireship.io/pro\\nUse code lORhwXd2 for 25% off your first payment. \\n\\n🎨 My Editor Settings\\n\\n- Atom One Dark \\n- vscode-icons\\n- Fira Code Font\\n\\n🔖 Topics Covered\\n\\n- Is YouTube built with Python?\\n- Is Python Strongly typed?\\n- Python syntax and indentation rules\\n- When was python released?\",\n",
       "  'tags': ['webdev', 'app development', 'lesson', 'tutorial'],\n",
       "  'duration': 'PT2M24S',\n",
       "  'licensedContent': True},\n",
       " 'statistics': {'viewCount': '1680645',\n",
       "  'likeCount': '76703',\n",
       "  'commentCount': '1438'}}"
      ]
     },
     "execution_count": 207,
     "metadata": {},
     "output_type": "execute_result"
    }
   ],
   "source": [
    "find_video = FindVideo(video_id='x7X9w_GIm1s')\n",
    "video_details = find_video.find_video(youtube_client)\n",
    "video_details"
   ]
  },
  {
   "cell_type": "code",
   "execution_count": 208,
   "id": "7eee2379",
   "metadata": {},
   "outputs": [],
   "source": [
    "class YouTubeVideoStats:\n",
    "    def __init__(self, viewCount: int, likeCount: int, commentCount: int):\n",
    "        self.__view_count = int(viewCount)\n",
    "        self.__like_count = int(likeCount)\n",
    "        self.__comment_count = int(commentCount)\n",
    "        \n",
    "    def get_video_stats(self):\n",
    "        video_stats = {\n",
    "            'view_count': self.__view_count,\n",
    "            'like_count': self.__like_count,\n",
    "            'comment_count': self.__comment_count\n",
    "        }\n",
    "        return video_stats"
   ]
  },
  {
   "cell_type": "code",
   "execution_count": 209,
   "id": "d83b5b52",
   "metadata": {},
   "outputs": [],
   "source": [
    "def create_video_stats(video_details):\n",
    "    stats = YouTubeVideoStats(**video_details['statistics'])\n",
    "    return stats"
   ]
  },
  {
   "cell_type": "code",
   "execution_count": 210,
   "id": "9b8d4cca",
   "metadata": {},
   "outputs": [
    {
     "data": {
      "text/plain": [
       "{'view_count': 1680645, 'like_count': 76703, 'comment_count': 1438}"
      ]
     },
     "execution_count": 210,
     "metadata": {},
     "output_type": "execute_result"
    }
   ],
   "source": [
    "stats = create_video_stats(video_details)\n",
    "stats.get_video_stats()"
   ]
  },
  {
   "cell_type": "code",
   "execution_count": 211,
   "id": "98dddaf0",
   "metadata": {},
   "outputs": [],
   "source": [
    "class YouTubeVideoDetails:\n",
    "    def __init__(self, id: str, channelId: str, title: str, channelTitle: str, \n",
    "                 description: str, tags: list[str], duration: str, licensedContent: bool):\n",
    "        self.__id = id\n",
    "        self.__channel_id = channelId\n",
    "        self.__title = title\n",
    "        self.__channel_title = channelTitle\n",
    "        self.__description = description\n",
    "        self.__tags = tags\n",
    "        self.__duration = duration\n",
    "        self.__licensed_content = licensedContent\n",
    "        \n",
    "    def get_video_details(self):\n",
    "        video_details = {\n",
    "            'id': self.__id,\n",
    "            'channel_id': self.__channel_id,\n",
    "            'title': self.__title,\n",
    "            'channel_title': self.__channel_title,\n",
    "            'description': self.__description,\n",
    "            'tags': self.__tags,\n",
    "            'duration': self.__duration,\n",
    "            'licensed_content': self.__licensed_content\n",
    "        }\n",
    "        return video_details"
   ]
  },
  {
   "cell_type": "code",
   "execution_count": 212,
   "id": "ffc512b5",
   "metadata": {},
   "outputs": [],
   "source": [
    "def create_video_details(video_details):\n",
    "    details = YouTubeVideoDetails(**video_details['details'])\n",
    "    return details"
   ]
  },
  {
   "cell_type": "code",
   "execution_count": 213,
   "id": "a82d63a4",
   "metadata": {},
   "outputs": [
    {
     "data": {
      "text/plain": [
       "{'id': 'x7X9w_GIm1s',\n",
       " 'channel_id': 'UCsBjURrPoezykLs9EqgamOA',\n",
       " 'title': 'Python in 100 Seconds',\n",
       " 'channel_title': 'Fireship',\n",
       " 'description': \"Python is arguably the world's most popular programming language. It is easy to learn, yet suitable in professional software like web applications, data science, and server-side scripts. https://fireship.io/tags/python/\\n\\n#python #programming #100SecondsOfCode\\n\\n🔗 Resources\\n\\nPython Docs https://docs.python.org/3/\\nPython TIOBE Ranking https://www.infoworld.com/article/3636789/python-tops-tiobe-language-index.html\\n\\n🔥 Get More Content - Upgrade to PRO\\n\\nUpgrade to Fireship PRO at https://fireship.io/pro\\nUse code lORhwXd2 for 25% off your first payment. \\n\\n🎨 My Editor Settings\\n\\n- Atom One Dark \\n- vscode-icons\\n- Fira Code Font\\n\\n🔖 Topics Covered\\n\\n- Is YouTube built with Python?\\n- Is Python Strongly typed?\\n- Python syntax and indentation rules\\n- When was python released?\",\n",
       " 'tags': ['webdev', 'app development', 'lesson', 'tutorial'],\n",
       " 'duration': 'PT2M24S',\n",
       " 'licensed_content': True}"
      ]
     },
     "execution_count": 213,
     "metadata": {},
     "output_type": "execute_result"
    }
   ],
   "source": [
    "details = create_video_details(video_details)\n",
    "details.get_video_details()"
   ]
  },
  {
   "cell_type": "code",
   "execution_count": 214,
   "id": "89374a04",
   "metadata": {},
   "outputs": [],
   "source": [
    "class YouTubeVideo:\n",
    "    \"\"\"A YouTube Video.\"\"\"\n",
    "    def __init__(self, video_details):\n",
    "        self.__video_stats = self.__create_video_stats(video_details)\n",
    "        self.__video_details = self.__create_video_details(video_details)\n",
    "        self.__video_top_level_comments = None\n",
    "        \n",
    "    def get_video_stats_details(self):\n",
    "        video_stats_details = dict()\n",
    "        video_stats_details['details'] = self.get_video_details()\n",
    "        video_stats_details['statistics'] = self.get_video_stats()\n",
    "        return video_stats_details\n",
    "        \n",
    "    def __create_video_stats(self, video_details: dict):\n",
    "        video_stats = YouTubeVideoStats(**video_details['statistics'])\n",
    "        return video_stats\n",
    "    \n",
    "    def __create_video_details(self, video_details: dict):\n",
    "        video_details = YouTubeVideoDetails(**video_details['details'])\n",
    "        return video_details\n",
    "        \n",
    "    def get_video_stats(self):\n",
    "        return self.__video_stats.get_video_stats()\n",
    "    \n",
    "    def get_video_details(self):\n",
    "        return self.__video_details.get_video_details()\n",
    "    \n",
    "    def get_video_top_level_comments(self):\n",
    "        pass"
   ]
  },
  {
   "cell_type": "code",
   "execution_count": 215,
   "id": "91117621",
   "metadata": {},
   "outputs": [],
   "source": [
    "youtube_video = YouTubeVideo(video_details)"
   ]
  },
  {
   "cell_type": "code",
   "execution_count": 216,
   "id": "36a65fe3",
   "metadata": {},
   "outputs": [
    {
     "data": {
      "text/plain": [
       "{'view_count': 1680645, 'like_count': 76703, 'comment_count': 1438}"
      ]
     },
     "execution_count": 216,
     "metadata": {},
     "output_type": "execute_result"
    }
   ],
   "source": [
    "youtube_video.get_video_stats()"
   ]
  },
  {
   "cell_type": "code",
   "execution_count": 217,
   "id": "79ca0332",
   "metadata": {},
   "outputs": [
    {
     "data": {
      "text/plain": [
       "{'id': 'x7X9w_GIm1s',\n",
       " 'channel_id': 'UCsBjURrPoezykLs9EqgamOA',\n",
       " 'title': 'Python in 100 Seconds',\n",
       " 'channel_title': 'Fireship',\n",
       " 'description': \"Python is arguably the world's most popular programming language. It is easy to learn, yet suitable in professional software like web applications, data science, and server-side scripts. https://fireship.io/tags/python/\\n\\n#python #programming #100SecondsOfCode\\n\\n🔗 Resources\\n\\nPython Docs https://docs.python.org/3/\\nPython TIOBE Ranking https://www.infoworld.com/article/3636789/python-tops-tiobe-language-index.html\\n\\n🔥 Get More Content - Upgrade to PRO\\n\\nUpgrade to Fireship PRO at https://fireship.io/pro\\nUse code lORhwXd2 for 25% off your first payment. \\n\\n🎨 My Editor Settings\\n\\n- Atom One Dark \\n- vscode-icons\\n- Fira Code Font\\n\\n🔖 Topics Covered\\n\\n- Is YouTube built with Python?\\n- Is Python Strongly typed?\\n- Python syntax and indentation rules\\n- When was python released?\",\n",
       " 'tags': ['webdev', 'app development', 'lesson', 'tutorial'],\n",
       " 'duration': 'PT2M24S',\n",
       " 'licensed_content': True}"
      ]
     },
     "execution_count": 217,
     "metadata": {},
     "output_type": "execute_result"
    }
   ],
   "source": [
    "youtube_video.get_video_details()"
   ]
  },
  {
   "cell_type": "code",
   "execution_count": 218,
   "id": "3c1147ee",
   "metadata": {},
   "outputs": [],
   "source": [
    "class FindVideo:\n",
    "    def __init__(self, video_id: str):\n",
    "        \"\"\"Find the video with the given id.\"\"\"\n",
    "        self.__video_id = video_id\n",
    "        \n",
    "    def __generate_basic_info_params(self):\n",
    "        basic_info_params = dict(\n",
    "            id=self.__video_id,\n",
    "            part='snippet,contentDetails,statistics'\n",
    "        ) \n",
    "        return basic_info_params\n",
    "    \n",
    "    def find_video(self, youtube_client):\n",
    "        \"\"\"Find the video.\"\"\"\n",
    "        basic_info_params = self.__generate_basic_info_params()\n",
    "        search_request = youtube_client.videos().list(\n",
    "                **basic_info_params\n",
    "            )\n",
    "        search_response = search_request.execute()\n",
    "        parsed_response = self.__parse_video_details(search_response)\n",
    "        youtube_video = YouTubeVideo(parsed_response)\n",
    "        return youtube_video\n",
    "    \n",
    "    def __parse_video_details(self, video_details: dict):\n",
    "        \"\"\"Parse the video details.\n",
    "\n",
    "        Returns\n",
    "        -------\n",
    "        parsed_video_details: dict\n",
    "            A dictionary of the YouTube video details.\n",
    "        \"\"\"\n",
    "        parsed_video_details = dict()\n",
    "        items = video_details['items'][0]\n",
    "        parsed_video_details['details'] = dict()\n",
    "        parsed_video_details['statistics'] = dict()\n",
    "        parsed_video_details['details']['id'] = items['id']\n",
    "        parsed_video_details['details']['channelId'] = items['snippet']['channelId']\n",
    "        parsed_video_details['details']['title'] = items['snippet']['title']\n",
    "        parsed_video_details['details']['channelTitle'] = items['snippet']['channelTitle']\n",
    "        parsed_video_details['details']['description'] = items['snippet']['description']\n",
    "        parsed_video_details['details']['tags'] = items['snippet']['tags']\n",
    "        parsed_video_details['details']['duration'] = items['contentDetails']['duration']\n",
    "        parsed_video_details['details']['licensedContent'] = items['contentDetails']['licensedContent']\n",
    "        parsed_video_details['statistics']['viewCount'] = items['statistics']['viewCount']\n",
    "        parsed_video_details['statistics']['likeCount'] = items['statistics']['likeCount']\n",
    "        parsed_video_details['statistics']['commentCount'] = items['statistics']['commentCount']\n",
    "        return parsed_video_details"
   ]
  },
  {
   "cell_type": "code",
   "execution_count": 219,
   "id": "7fa8868f",
   "metadata": {},
   "outputs": [],
   "source": [
    "find_video = FindVideo('x7X9w_GIm1s')"
   ]
  },
  {
   "cell_type": "code",
   "execution_count": 220,
   "id": "3b977464",
   "metadata": {},
   "outputs": [],
   "source": [
    "video = find_video.find_video(youtube_client)"
   ]
  },
  {
   "cell_type": "code",
   "execution_count": 221,
   "id": "e807f422",
   "metadata": {},
   "outputs": [
    {
     "data": {
      "text/plain": [
       "{'id': 'x7X9w_GIm1s',\n",
       " 'channel_id': 'UCsBjURrPoezykLs9EqgamOA',\n",
       " 'title': 'Python in 100 Seconds',\n",
       " 'channel_title': 'Fireship',\n",
       " 'description': \"Python is arguably the world's most popular programming language. It is easy to learn, yet suitable in professional software like web applications, data science, and server-side scripts. https://fireship.io/tags/python/\\n\\n#python #programming #100SecondsOfCode\\n\\n🔗 Resources\\n\\nPython Docs https://docs.python.org/3/\\nPython TIOBE Ranking https://www.infoworld.com/article/3636789/python-tops-tiobe-language-index.html\\n\\n🔥 Get More Content - Upgrade to PRO\\n\\nUpgrade to Fireship PRO at https://fireship.io/pro\\nUse code lORhwXd2 for 25% off your first payment. \\n\\n🎨 My Editor Settings\\n\\n- Atom One Dark \\n- vscode-icons\\n- Fira Code Font\\n\\n🔖 Topics Covered\\n\\n- Is YouTube built with Python?\\n- Is Python Strongly typed?\\n- Python syntax and indentation rules\\n- When was python released?\",\n",
       " 'tags': ['webdev', 'app development', 'lesson', 'tutorial'],\n",
       " 'duration': 'PT2M24S',\n",
       " 'licensed_content': True}"
      ]
     },
     "execution_count": 221,
     "metadata": {},
     "output_type": "execute_result"
    }
   ],
   "source": [
    "FindVideo('x7X9w_GIm1s').find_video(youtube_client).get_video_details()"
   ]
  },
  {
   "cell_type": "code",
   "execution_count": 116,
   "id": "418e23d7",
   "metadata": {},
   "outputs": [
    {
     "data": {
      "text/plain": [
       "{'id': 'x7X9w_GIm1s',\n",
       " 'channel_id': 'UCsBjURrPoezykLs9EqgamOA',\n",
       " 'title': 'Python in 100 Seconds',\n",
       " 'channel_title': 'Fireship',\n",
       " 'description': \"Python is arguably the world's most popular programming language. It is easy to learn, yet suitable in professional software like web applications, data science, and server-side scripts. https://fireship.io/tags/python/\\n\\n#python #programming #100SecondsOfCode\\n\\n🔗 Resources\\n\\nPython Docs https://docs.python.org/3/\\nPython TIOBE Ranking https://www.infoworld.com/article/3636789/python-tops-tiobe-language-index.html\\n\\n🔥 Get More Content - Upgrade to PRO\\n\\nUpgrade to Fireship PRO at https://fireship.io/pro\\nUse code lORhwXd2 for 25% off your first payment. \\n\\n🎨 My Editor Settings\\n\\n- Atom One Dark \\n- vscode-icons\\n- Fira Code Font\\n\\n🔖 Topics Covered\\n\\n- Is YouTube built with Python?\\n- Is Python Strongly typed?\\n- Python syntax and indentation rules\\n- When was python released?\",\n",
       " 'tags': ['webdev', 'app development', 'lesson', 'tutorial'],\n",
       " 'duration': 'PT2M24S',\n",
       " 'licensed_content': True}"
      ]
     },
     "execution_count": 116,
     "metadata": {},
     "output_type": "execute_result"
    }
   ],
   "source": [
    "video.get_video_details()"
   ]
  },
  {
   "cell_type": "code",
   "execution_count": 117,
   "id": "96c14487",
   "metadata": {},
   "outputs": [
    {
     "data": {
      "text/plain": [
       "{'details': {'id': 'x7X9w_GIm1s',\n",
       "  'channel_id': 'UCsBjURrPoezykLs9EqgamOA',\n",
       "  'title': 'Python in 100 Seconds',\n",
       "  'channel_title': 'Fireship',\n",
       "  'description': \"Python is arguably the world's most popular programming language. It is easy to learn, yet suitable in professional software like web applications, data science, and server-side scripts. https://fireship.io/tags/python/\\n\\n#python #programming #100SecondsOfCode\\n\\n🔗 Resources\\n\\nPython Docs https://docs.python.org/3/\\nPython TIOBE Ranking https://www.infoworld.com/article/3636789/python-tops-tiobe-language-index.html\\n\\n🔥 Get More Content - Upgrade to PRO\\n\\nUpgrade to Fireship PRO at https://fireship.io/pro\\nUse code lORhwXd2 for 25% off your first payment. \\n\\n🎨 My Editor Settings\\n\\n- Atom One Dark \\n- vscode-icons\\n- Fira Code Font\\n\\n🔖 Topics Covered\\n\\n- Is YouTube built with Python?\\n- Is Python Strongly typed?\\n- Python syntax and indentation rules\\n- When was python released?\",\n",
       "  'tags': ['webdev', 'app development', 'lesson', 'tutorial'],\n",
       "  'duration': 'PT2M24S',\n",
       "  'licensed_content': True},\n",
       " 'statistics': {'view_count': 1680591,\n",
       "  'like_count': 76700,\n",
       "  'comment_count': 1438}}"
      ]
     },
     "execution_count": 117,
     "metadata": {},
     "output_type": "execute_result"
    }
   ],
   "source": [
    "video.get_video_stats_details()"
   ]
  },
  {
   "cell_type": "code",
   "execution_count": 245,
   "id": "dd14794b",
   "metadata": {},
   "outputs": [],
   "source": [
    "class YouTube:\n",
    "    def __init__(self, credentials_file='', token_path=''):\n",
    "        self.__auth = Authenticate(credentials_file, token_path)\n",
    "        self.__youtube_client = None\n",
    "        self.__is_authenticated = False\n",
    "        \n",
    "    def is_authenticated(self):\n",
    "        return self.__is_authenticated\n",
    "        \n",
    "    def authenticate(self, credentials_file='', token_path=''):\n",
    "        self.__youtube_client = self.__auth.authenticate()\n",
    "        self.__is_authenticated = True\n",
    "        \n",
    "    def get_youtube(self):\n",
    "        return self.__youtube_client\n",
    "        \n",
    "    def search_video(self, query_string: str) -> list[str]:\n",
    "        video_search = VideoSearch('python')\n",
    "        search_results = video_search.search_video(self.__youtube_client)\n",
    "        parsed_results = video_search.parse_basic_response(search_results)\n",
    "        return parsed_results\n",
    "    \n",
    "    def find_video_by_url(self, video_url: str):\n",
    "        \"\"\"Get a specific video given the video url.\"\"\"\n",
    "        video_id = self.__get_video_id(video_url)\n",
    "        return self.find_video_by_id(video_id)\n",
    "        \n",
    "    def find_video_by_id(self, video_id: str):\n",
    "        \"\"\"Find a video by id.\"\"\"\n",
    "        youtube_video = FindVideo(video_id).find_video(self.__youtube_client)\n",
    "        return youtube_video\n",
    "    \n",
    "    @staticmethod\n",
    "    def __get_video_id(video_url: str) -> str:\n",
    "        \"\"\"Get vdeo ID from video url\"\"\"\n",
    "        if not video_url:\n",
    "            raise ValueError('The video_ur has to be provided.')\n",
    "        if not isinstance(video_url, str):\n",
    "            raise TypeError('Te video_url has to be a string.')\n",
    "        if '=' not in video_url:\n",
    "            url_format = 'https://www.youtube.com/watch?v=Dqdu-FsBk0s'\n",
    "            raise ValueError('Te video_url should be of the format \"{url_format}\"')\n",
    "        video_url = video_url.split('=')[1]\n",
    "        return video_url"
   ]
  },
  {
   "cell_type": "code",
   "execution_count": 223,
   "id": "73e7cc82",
   "metadata": {},
   "outputs": [],
   "source": [
    "youtube = YouTube(credentials_file='/home/lyle/Downloads/client_secret.json', \n",
    "                  token_path='')\n",
    "youtube.authenticate()\n",
    "youtube_client = youtube.get_youtube()"
   ]
  },
  {
   "cell_type": "code",
   "execution_count": 224,
   "id": "cb370cb9",
   "metadata": {},
   "outputs": [
    {
     "data": {
      "text/plain": [
       "{'details': {'id': 'x7X9w_GIm1s',\n",
       "  'channel_id': 'UCsBjURrPoezykLs9EqgamOA',\n",
       "  'title': 'Python in 100 Seconds',\n",
       "  'channel_title': 'Fireship',\n",
       "  'description': \"Python is arguably the world's most popular programming language. It is easy to learn, yet suitable in professional software like web applications, data science, and server-side scripts. https://fireship.io/tags/python/\\n\\n#python #programming #100SecondsOfCode\\n\\n🔗 Resources\\n\\nPython Docs https://docs.python.org/3/\\nPython TIOBE Ranking https://www.infoworld.com/article/3636789/python-tops-tiobe-language-index.html\\n\\n🔥 Get More Content - Upgrade to PRO\\n\\nUpgrade to Fireship PRO at https://fireship.io/pro\\nUse code lORhwXd2 for 25% off your first payment. \\n\\n🎨 My Editor Settings\\n\\n- Atom One Dark \\n- vscode-icons\\n- Fira Code Font\\n\\n🔖 Topics Covered\\n\\n- Is YouTube built with Python?\\n- Is Python Strongly typed?\\n- Python syntax and indentation rules\\n- When was python released?\",\n",
       "  'tags': ['webdev', 'app development', 'lesson', 'tutorial'],\n",
       "  'duration': 'PT2M24S',\n",
       "  'licensed_content': True},\n",
       " 'statistics': {'view_count': 1680645,\n",
       "  'like_count': 76703,\n",
       "  'comment_count': 1438}}"
      ]
     },
     "execution_count": 224,
     "metadata": {},
     "output_type": "execute_result"
    }
   ],
   "source": [
    "youtube_video = youtube.find_video('x7X9w_GIm1s')\n",
    "youtube_video.get_video_stats_details()"
   ]
  },
  {
   "cell_type": "code",
   "execution_count": 225,
   "id": "64fa3b0e",
   "metadata": {},
   "outputs": [],
   "source": [
    "class VideoSearch(YouTubeSearch):\n",
    "    MAX_RESULTS = 5\n",
    "    REGION_CODE = 'us'\n",
    "    \n",
    "    def __init__(self, query_string: str):\n",
    "        self.__type = YouTubeSearchType.VIDEO\n",
    "        self.__query = YouTubeSearchQuery(query_string)\n",
    "        \n",
    "    def __get_query(self):\n",
    "        return self.__query.query_string\n",
    "        \n",
    "    def basic_info(self):\n",
    "        basic_info_params = self.__generate_basic_info_params()\n",
    "        return basic_info_params\n",
    "    \n",
    "    def advanced_info(self):\n",
    "        pass\n",
    "    \n",
    "    def all_info(self):\n",
    "        pass\n",
    "    \n",
    "    def __generate_basic_info_params(self):\n",
    "        basic_info_params = dict(\n",
    "            part='id,snippet',\n",
    "            type=self.__type,\n",
    "            q=self.__get_query(),\n",
    "            maxResults=self.MAX_RESULTS,\n",
    "            regionCode=self.REGION_CODE\n",
    "        ) \n",
    "        return basic_info_params\n",
    "    \n",
    "    def search_video(self, youtube_client, search_type='basic'):\n",
    "        search_response = None\n",
    "        if search_type == 'basic':\n",
    "            basic_info_params = self.__generate_basic_info_params()\n",
    "            search_request = youtube_client.search().list(\n",
    "                **basic_info_params\n",
    "            )\n",
    "            search_response = search_request.execute()\n",
    "        return search_response\n",
    "    \n",
    "    def __parse_basic_response(self, search_result: dict, youtube_client) -> list[dict[str, str]]:\n",
    "        video_details = []\n",
    "        video_results = search_result['items']\n",
    "        for video_result in video_results:\n",
    "            video_id = video_result['id']\n",
    "            youtube_video = FindVideo(video_id).find_video(youtube_client)\n",
    "            video_details.append(youtube_video)\n",
    "        return video_details"
   ]
  },
  {
   "cell_type": "code",
   "execution_count": 226,
   "id": "0bd93047",
   "metadata": {},
   "outputs": [],
   "source": [
    "videos = VideoSearch('python programming').search_video(youtube_client)"
   ]
  },
  {
   "cell_type": "code",
   "execution_count": 227,
   "id": "db63a5dd",
   "metadata": {
    "collapsed": true
   },
   "outputs": [
    {
     "data": {
      "text/plain": [
       "{'kind': 'youtube#searchListResponse',\n",
       " 'etag': 'UHVGeK_xdVTxJvgmfKb6N5mK_fQ',\n",
       " 'nextPageToken': 'CAUQAA',\n",
       " 'regionCode': 'US',\n",
       " 'pageInfo': {'totalResults': 1000000, 'resultsPerPage': 5},\n",
       " 'items': [{'kind': 'youtube#searchResult',\n",
       "   'etag': 'ulOXFQl7L257T5mztOUvrLY4UXU',\n",
       "   'id': {'kind': 'youtube#video', 'videoId': 'kqtD5dpn9C8'},\n",
       "   'snippet': {'publishedAt': '2020-09-16T13:00:20Z',\n",
       "    'channelId': 'UCWv7vMbMWH4-V0ZXdmDpPBA',\n",
       "    'title': 'Python for Beginners - Learn Python in 1 Hour',\n",
       "    'description': 'This Python tutorial for beginners show how to get started with Python quickly. Learn to code in 1 hour! Watch this tutorial get ...',\n",
       "    'thumbnails': {'default': {'url': 'https://i.ytimg.com/vi/kqtD5dpn9C8/default.jpg',\n",
       "      'width': 120,\n",
       "      'height': 90},\n",
       "     'medium': {'url': 'https://i.ytimg.com/vi/kqtD5dpn9C8/mqdefault.jpg',\n",
       "      'width': 320,\n",
       "      'height': 180},\n",
       "     'high': {'url': 'https://i.ytimg.com/vi/kqtD5dpn9C8/hqdefault.jpg',\n",
       "      'width': 480,\n",
       "      'height': 360}},\n",
       "    'channelTitle': 'Programming with Mosh',\n",
       "    'liveBroadcastContent': 'none',\n",
       "    'publishTime': '2020-09-16T13:00:20Z'}},\n",
       "  {'kind': 'youtube#searchResult',\n",
       "   'etag': 'PCayDSkp7WAyKpK7zrLd2ja6Gv4',\n",
       "   'id': {'kind': 'youtube#video', 'videoId': '_uQrJ0TkZlc'},\n",
       "   'snippet': {'publishedAt': '2019-02-18T15:00:08Z',\n",
       "    'channelId': 'UCWv7vMbMWH4-V0ZXdmDpPBA',\n",
       "    'title': 'Python Tutorial - Python Full Course for Beginners',\n",
       "    'description': 'Python tutorial - Python full course for beginners - Go from Zero to Hero with Python (includes machine learning & web ...',\n",
       "    'thumbnails': {'default': {'url': 'https://i.ytimg.com/vi/_uQrJ0TkZlc/default.jpg',\n",
       "      'width': 120,\n",
       "      'height': 90},\n",
       "     'medium': {'url': 'https://i.ytimg.com/vi/_uQrJ0TkZlc/mqdefault.jpg',\n",
       "      'width': 320,\n",
       "      'height': 180},\n",
       "     'high': {'url': 'https://i.ytimg.com/vi/_uQrJ0TkZlc/hqdefault.jpg',\n",
       "      'width': 480,\n",
       "      'height': 360}},\n",
       "    'channelTitle': 'Programming with Mosh',\n",
       "    'liveBroadcastContent': 'none',\n",
       "    'publishTime': '2019-02-18T15:00:08Z'}},\n",
       "  {'kind': 'youtube#searchResult',\n",
       "   'etag': '6wSaSCZ6hvFW4Ug3JMCbOuDqoxo',\n",
       "   'id': {'kind': 'youtube#video', 'videoId': 'rfscVS0vtbw'},\n",
       "   'snippet': {'publishedAt': '2018-07-11T18:00:42Z',\n",
       "    'channelId': 'UC8butISFwT-Wl7EV0hUK0BQ',\n",
       "    'title': 'Learn Python - Full Course for Beginners [Tutorial]',\n",
       "    'description': \"This course will give you a full introduction into all of the core concepts in python. Follow along with the videos and you'll be a ...\",\n",
       "    'thumbnails': {'default': {'url': 'https://i.ytimg.com/vi/rfscVS0vtbw/default.jpg',\n",
       "      'width': 120,\n",
       "      'height': 90},\n",
       "     'medium': {'url': 'https://i.ytimg.com/vi/rfscVS0vtbw/mqdefault.jpg',\n",
       "      'width': 320,\n",
       "      'height': 180},\n",
       "     'high': {'url': 'https://i.ytimg.com/vi/rfscVS0vtbw/hqdefault.jpg',\n",
       "      'width': 480,\n",
       "      'height': 360}},\n",
       "    'channelTitle': 'freeCodeCamp.org',\n",
       "    'liveBroadcastContent': 'none',\n",
       "    'publishTime': '2018-07-11T18:00:42Z'}},\n",
       "  {'kind': 'youtube#searchResult',\n",
       "   'etag': 'wuFIuLdMBkp-8eH1qASrBOvbsJk',\n",
       "   'id': {'kind': 'youtube#video', 'videoId': 'XKHEtdqhLK8'},\n",
       "   'snippet': {'publishedAt': '2021-02-15T15:00:12Z',\n",
       "    'channelId': 'UC4SVo0Ue36XCfOyb5Lh1viQ',\n",
       "    'title': 'Python Full Course for free 🐍',\n",
       "    'description': 'Python tutorial for beginners full course #python #tutorial #beginners ⭐️Time Stamps⭐️ #1 (00:00:00)\\u200b Python tutorial for ...',\n",
       "    'thumbnails': {'default': {'url': 'https://i.ytimg.com/vi/XKHEtdqhLK8/default.jpg',\n",
       "      'width': 120,\n",
       "      'height': 90},\n",
       "     'medium': {'url': 'https://i.ytimg.com/vi/XKHEtdqhLK8/mqdefault.jpg',\n",
       "      'width': 320,\n",
       "      'height': 180},\n",
       "     'high': {'url': 'https://i.ytimg.com/vi/XKHEtdqhLK8/hqdefault.jpg',\n",
       "      'width': 480,\n",
       "      'height': 360}},\n",
       "    'channelTitle': 'Bro Code',\n",
       "    'liveBroadcastContent': 'none',\n",
       "    'publishTime': '2021-02-15T15:00:12Z'}},\n",
       "  {'kind': 'youtube#searchResult',\n",
       "   'etag': 'tRQ1wsuS8xL5HdtQmjnl9_g-1Y8',\n",
       "   'id': {'kind': 'youtube#video', 'videoId': 'b093aqAZiPU'},\n",
       "   'snippet': {'publishedAt': '2021-03-25T10:00:08Z',\n",
       "    'channelId': 'UCfJT_eYDTmDE-ovKaxVE1ig',\n",
       "    'title': '👩\\u200d💻 Python for Beginners Tutorial',\n",
       "    'description': 'In this step-by-step Python for beginners tutorial, learn how you can get started programming in Python. In this video, I assume that ...',\n",
       "    'thumbnails': {'default': {'url': 'https://i.ytimg.com/vi/b093aqAZiPU/default.jpg',\n",
       "      'width': 120,\n",
       "      'height': 90},\n",
       "     'medium': {'url': 'https://i.ytimg.com/vi/b093aqAZiPU/mqdefault.jpg',\n",
       "      'width': 320,\n",
       "      'height': 180},\n",
       "     'high': {'url': 'https://i.ytimg.com/vi/b093aqAZiPU/hqdefault.jpg',\n",
       "      'width': 480,\n",
       "      'height': 360}},\n",
       "    'channelTitle': 'Kevin Stratvert',\n",
       "    'liveBroadcastContent': 'none',\n",
       "    'publishTime': '2021-03-25T10:00:08Z'}}]}"
      ]
     },
     "execution_count": 227,
     "metadata": {},
     "output_type": "execute_result"
    }
   ],
   "source": [
    "videos"
   ]
  },
  {
   "cell_type": "code",
   "execution_count": 236,
   "id": "6801356f",
   "metadata": {},
   "outputs": [],
   "source": [
    "def parse_videos(search_response, youtube_client):\n",
    "    videos = []\n",
    "    video_results = search_response['items']\n",
    "    for video_result in video_results:\n",
    "        video_id = video_result['id']['videoId']\n",
    "        youtube_video = FindVideo(video_id).find_video(youtube_client)\n",
    "        videos.append(youtube_video)\n",
    "    return videos"
   ]
  },
  {
   "cell_type": "code",
   "execution_count": 237,
   "id": "909e319d",
   "metadata": {},
   "outputs": [
    {
     "data": {
      "text/plain": [
       "[<__main__.YouTubeVideo at 0x7f48d82a3e50>,\n",
       " <__main__.YouTubeVideo at 0x7f48d82a1330>,\n",
       " <__main__.YouTubeVideo at 0x7f48d84358d0>,\n",
       " <__main__.YouTubeVideo at 0x7f48d8ab1540>,\n",
       " <__main__.YouTubeVideo at 0x7f48d82a0b50>]"
      ]
     },
     "execution_count": 237,
     "metadata": {},
     "output_type": "execute_result"
    }
   ],
   "source": [
    "videos = parse_videos(videos, youtube_client)\n",
    "videos"
   ]
  },
  {
   "cell_type": "code",
   "execution_count": 238,
   "id": "e4d05d85",
   "metadata": {},
   "outputs": [
    {
     "data": {
      "text/plain": [
       "{'details': {'id': 'kqtD5dpn9C8',\n",
       "  'channel_id': 'UCWv7vMbMWH4-V0ZXdmDpPBA',\n",
       "  'title': 'Python for Beginners - Learn Python in 1 Hour',\n",
       "  'channel_title': 'Programming with Mosh',\n",
       "  'description': 'This Python tutorial for beginners show how to get started with Python quickly. Learn to code in 1 hour! Watch this tutorial get started! \\n👍 Subscribe for more Python tutorials like this: https://goo.gl/6PYaGF\\n🔥 Want to learn more? Watch my complete Python course: https://youtu.be/_uQrJ0TkZlc\\n\\n📕 Get my FREE Python cheat sheet: http://bit.ly/2Gp80s6\\n\\nCourses: https://codewithmosh.com\\nTwitter: https://twitter.com/moshhamedani\\nFacebook: https://www.facebook.com/programmingwithmosh/\\nBlog: http://programmingwithmosh.com\\n\\n#Python, #MachineLearning, #WebDevelopment\\n\\n📔 Python Exercises for Beginners: https://goo.gl/1XnQB1\\n\\n⭐ My Favorite Python Books\\n- Python Crash Course: https://amzn.to/2GqMdjG\\n- Automate the Boring Stuff with Python: https://amzn.to/2N71d6S\\n- A Smarter Way to Learn Python: https://amzn.to/2UZa6lE\\n- Machine Learning for Absolute Beginners: https://amzn.to/2Gs0koL\\n- Hands-on Machine Learning with scikit-learn and TensorFlow: https://amzn.to/2IdUuJy\\n\\nTABLE OF CONTENT\\n\\n0:00:00 Introduction \\n0:00:30 What You Can Do With Python \\n0:01:15 Your First Python Program \\n0:05:30 Variables\\n0:09:08 Receiving Input\\n0:10:48 Type Conversion\\n0:18:49 Strings\\n0:23:41 Arithmetic Operators \\n0:25:59 Operator Precedence \\n0:27:11 Comparison Operators \\n0:28:52 Logical Operators\\n0:31:06 If Statements\\n0:36:16 Exercise\\n0:41:42 While Loops\\n0:45:11 Lists\\n0:48:47 List Methods\\n0:52:16 For Loops\\n0:54:54 The range() Function \\n0:57:43 Tuples',\n",
       "  'tags': ['code with mosh',\n",
       "   'introduction to python',\n",
       "   'learn python',\n",
       "   'learn python programming',\n",
       "   'mosh hamedani',\n",
       "   'programming',\n",
       "   'programming with mosh',\n",
       "   'python',\n",
       "   'python 2020',\n",
       "   'python 3',\n",
       "   'python basics',\n",
       "   'python course',\n",
       "   'python crash course',\n",
       "   'python for beginners',\n",
       "   'python from scratch',\n",
       "   'python programming',\n",
       "   'python tutorial',\n",
       "   'python tutorial for beginners',\n",
       "   'web development'],\n",
       "  'duration': 'PT1H6S',\n",
       "  'licensed_content': True},\n",
       " 'statistics': {'view_count': 10265213,\n",
       "  'like_count': 260589,\n",
       "  'comment_count': 15319}}"
      ]
     },
     "execution_count": 238,
     "metadata": {},
     "output_type": "execute_result"
    }
   ],
   "source": [
    "videos[0].get_video_stats_details()"
   ]
  },
  {
   "cell_type": "code",
   "execution_count": 243,
   "id": "6161193b",
   "metadata": {},
   "outputs": [],
   "source": [
    "class VideoSearch(YouTubeSearch):\n",
    "    MAX_RESULTS = 5\n",
    "    REGION_CODE = 'us'\n",
    "    \n",
    "    def __init__(self, query_string: str):\n",
    "        self.__type = YouTubeSearchType.VIDEO\n",
    "        self.__query = YouTubeSearchQuery(query_string)\n",
    "        \n",
    "    def __get_query(self):\n",
    "        return self.__query.query_string\n",
    "        \n",
    "    def basic_info(self):\n",
    "        basic_info_params = self.__generate_basic_info_params()\n",
    "        return basic_info_params\n",
    "    \n",
    "    def advanced_info(self):\n",
    "        pass\n",
    "    \n",
    "    def all_info(self):\n",
    "        pass\n",
    "    \n",
    "    def __generate_basic_info_params(self):\n",
    "        basic_info_params = dict(\n",
    "            part='id,snippet',\n",
    "            type=self.__type,\n",
    "            q=self.__get_query(),\n",
    "            maxResults=self.MAX_RESULTS,\n",
    "            regionCode=self.REGION_CODE\n",
    "        ) \n",
    "        return basic_info_params\n",
    "    \n",
    "    def search_video(self, youtube_client, search_type='basic'):\n",
    "        search_response = None\n",
    "        if search_type == 'basic':\n",
    "            basic_info_params = self.__generate_basic_info_params()\n",
    "            search_request = youtube_client.search().list(\n",
    "                **basic_info_params\n",
    "            )\n",
    "            search_response = search_request.execute()\n",
    "            videos = self.__parse_basic_response(search_response, youtube_client)\n",
    "        return videos\n",
    "    \n",
    "    def __parse_basic_response(self, search_response, youtube_client):\n",
    "        videos = []\n",
    "        video_results = search_response['items']\n",
    "        for video_result in video_results:\n",
    "            video_id = video_result['id']['videoId']\n",
    "            youtube_video = FindVideo(video_id).find_video(youtube_client)\n",
    "            videos.append(youtube_video)\n",
    "        return videos"
   ]
  },
  {
   "cell_type": "code",
   "execution_count": 244,
   "id": "857f6dc2",
   "metadata": {},
   "outputs": [
    {
     "data": {
      "text/plain": [
       "[<__main__.YouTubeVideo at 0x7f48d812d960>,\n",
       " <__main__.YouTubeVideo at 0x7f48d812d4e0>,\n",
       " <__main__.YouTubeVideo at 0x7f48d812e230>,\n",
       " <__main__.YouTubeVideo at 0x7f48d812ece0>,\n",
       " <__main__.YouTubeVideo at 0x7f48d812c160>]"
      ]
     },
     "execution_count": 244,
     "metadata": {},
     "output_type": "execute_result"
    }
   ],
   "source": [
    "videos = VideoSearch('python programming').search_video(youtube_client)\n",
    "videos"
   ]
  },
  {
   "cell_type": "code",
   "execution_count": 248,
   "id": "d25acc71",
   "metadata": {},
   "outputs": [],
   "source": [
    "class YouTube:\n",
    "    def __init__(self, credentials_file='', token_path=''):\n",
    "        self.__auth = Authenticate(credentials_file, token_path)\n",
    "        self.__youtube_client = None\n",
    "        self.__is_authenticated = False\n",
    "        \n",
    "    def is_authenticated(self):\n",
    "        return self.__is_authenticated\n",
    "        \n",
    "    def authenticate(self, credentials_file='', token_path=''):\n",
    "        self.__youtube_client = self.__auth.authenticate()\n",
    "        self.__is_authenticated = True\n",
    "        \n",
    "    def get_youtube(self):\n",
    "        return self.__youtube_client\n",
    "        \n",
    "    def search_video(self, query_string: str) -> list[str]:\n",
    "        videos = VideoSearch(query_string).search_video(self.__youtube_client)\n",
    "        return videos\n",
    "    \n",
    "    def find_video_by_url(self, video_url: str):\n",
    "        \"\"\"Get a specific video given the video url.\"\"\"\n",
    "        video_id = self.__get_video_id(video_url)\n",
    "        return self.find_video_by_id(video_id)\n",
    "        \n",
    "    def find_video_by_id(self, video_id: str):\n",
    "        \"\"\"Find a video by id.\"\"\"\n",
    "        youtube_video = FindVideo(video_id).find_video(self.__youtube_client)\n",
    "        return youtube_video\n",
    "    \n",
    "    @staticmethod\n",
    "    def __get_video_id(video_url: str) -> str:\n",
    "        \"\"\"Get vdeo ID from video url\"\"\"\n",
    "        if not video_url:\n",
    "            raise ValueError('The video_ur has to be provided.')\n",
    "        if not isinstance(video_url, str):\n",
    "            raise TypeError('Te video_url has to be a string.')\n",
    "        if '=' not in video_url:\n",
    "            url_format = 'https://www.youtube.com/watch?v=Dqdu-FsBk0s'\n",
    "            raise ValueError('Te video_url should be of the format \"{url_format}\"')\n",
    "        video_url = video_url.split('=')[1]\n",
    "        return video_url"
   ]
  },
  {
   "cell_type": "code",
   "execution_count": 249,
   "id": "a2c0fd98",
   "metadata": {},
   "outputs": [],
   "source": [
    "youtube = YouTube(credentials_file='/home/lyle/Downloads/client_secret.json', \n",
    "                  token_path='')\n",
    "youtube.authenticate()\n",
    "youtube_client = youtube.get_youtube()"
   ]
  },
  {
   "cell_type": "code",
   "execution_count": 250,
   "id": "cf599a14",
   "metadata": {},
   "outputs": [
    {
     "data": {
      "text/plain": [
       "[<__main__.YouTubeVideo at 0x7f48d81329b0>,\n",
       " <__main__.YouTubeVideo at 0x7f48d859f160>,\n",
       " <__main__.YouTubeVideo at 0x7f48d82a0520>,\n",
       " <__main__.YouTubeVideo at 0x7f48d82a2800>,\n",
       " <__main__.YouTubeVideo at 0x7f48d8130550>]"
      ]
     },
     "execution_count": 250,
     "metadata": {},
     "output_type": "execute_result"
    }
   ],
   "source": [
    "youtube.search_video('python programming')"
   ]
  },
  {
   "cell_type": "code",
   "execution_count": null,
   "id": "536cf480",
   "metadata": {},
   "outputs": [],
   "source": []
  }
 ],
 "metadata": {
  "kernelspec": {
   "display_name": "Python 3 (ipykernel)",
   "language": "python",
   "name": "python3"
  },
  "language_info": {
   "codemirror_mode": {
    "name": "ipython",
    "version": 3
   },
   "file_extension": ".py",
   "mimetype": "text/x-python",
   "name": "python",
   "nbconvert_exporter": "python",
   "pygments_lexer": "ipython3",
   "version": "3.10.6"
  }
 },
 "nbformat": 4,
 "nbformat_minor": 5
}

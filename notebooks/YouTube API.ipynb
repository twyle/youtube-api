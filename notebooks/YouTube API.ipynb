{
 "cells": [
  {
   "cell_type": "code",
   "execution_count": 126,
   "id": "ea0fc1c3",
   "metadata": {},
   "outputs": [],
   "source": [
    "from googleapiclient.discovery import build\n",
    "from google_auth_oauthlib.flow import InstalledAppFlow\n",
    "from google.auth.transport.requests import Request\n",
    "from google.auth.exceptions import RefreshError\n",
    "\n",
    "import re\n",
    "import os\n",
    "import pickle\n",
    "from enum import Enum"
   ]
  },
  {
   "cell_type": "code",
   "execution_count": null,
   "id": "abbf1321",
   "metadata": {},
   "outputs": [],
   "source": [
    "\"\"\"\n",
    "Oauth consent https://console.cloud.google.com/apis/credentials/consent?project=potent-ripple-377913\n",
    "youtube = YouTube(credentials_file='', token_path='')\n",
    "youtube.get_youtube() -> youtube_client\n",
    "youtube.search_video(): query -> List[YouTubeVideo]\n",
    "youtube.search_channel(): query -> List[YouTubeChannel]\n",
    "youtube.search_playlist(): query -> List[PlayList]\n",
    "youtube.find_video_by_id(): video_id -> YouTubeVideo\n",
    "youtube.find_video_by_url(): video_url -> YouTubeVideo\n",
    "youtube.utils\n",
    "\"\"\""
   ]
  },
  {
   "cell_type": "code",
   "execution_count": 127,
   "id": "5764af1c",
   "metadata": {},
   "outputs": [],
   "source": [
    "class YouTubeAPIConstants:\n",
    "    TOKEN_FILE = 'token.pickle'\n",
    "    API_SERVICE_NAME = 'youtube'\n",
    "    API_VERSION = 'v3'\n",
    "    SCOPES = [\"https://www.googleapis.com/auth/youtube.force-ssl\"]"
   ]
  },
  {
   "cell_type": "code",
   "execution_count": 128,
   "id": "c156a7bc",
   "metadata": {},
   "outputs": [],
   "source": [
    "class Authenticate:\n",
    "    \"\"\"Handle the YouTube authentication process.\"\"\"\n",
    "    os.environ[\"OAUTHLIB_INSECURE_TRANSPORT\"] = \"1\"\n",
    "    __TOKEN_FILE = YouTubeAPIConstants.TOKEN_FILE\n",
    "    __API_SERVICE_NAME = YouTubeAPIConstants.API_SERVICE_NAME\n",
    "    __API_VERSION = YouTubeAPIConstants.API_VERSION\n",
    "    __SCOPES = YouTubeAPIConstants.SCOPES\n",
    "    \n",
    "    def __init__(self, client_secrets_file: str , api_token_path: str = ''):\n",
    "        \"\"\"Create the auth object.\"\"\"\n",
    "        self.__credentials = None\n",
    "        \n",
    "        self.__verify_client_secret_file(client_secrets_file)\n",
    "        self.__client_secrets_file = client_secrets_file\n",
    "        \n",
    "        if not api_token_path or not os.path.exists(api_token_path):\n",
    "            self.__api_token_path = self.__get_default_api_token_path()\n",
    "        else:\n",
    "            self.__api_token_path = api_token_path\n",
    "            \n",
    "    def __verify_client_secret_file(self, client_secrets_file: str) -> None:\n",
    "        \"\"\"Verfy the client secret file.\"\"\"\n",
    "        if not client_secrets_file:\n",
    "            raise ValueError('The clients secret file path has to be provided.')\n",
    "        if not isinstance(client_secrets_file, str):\n",
    "            raise TypeError('The clients secret file should be a string.')\n",
    "        if not os.path.exists(client_secrets_file):\n",
    "            raise ValueError(f'The path {client_secrets_file} does not exist!')\n",
    "        \n",
    "    def __get_default_api_token_path(self):\n",
    "        \"\"\"Generate the default api token file location.\"\"\"\n",
    "        current_user_home_dir = os.path.expanduser('~')\n",
    "        api_token_path = os.path.join(current_user_home_dir, self.__TOKEN_FILE)\n",
    "        return api_token_path\n",
    "    \n",
    "    def __authenticate_youtube(self):\n",
    "        \"\"\"Authenticate the YouTube API.\"\"\"\n",
    "        if os.path.exists(self.__api_token_path):\n",
    "            with open(self.__api_token_path, \"rb\") as token:\n",
    "                self.__credentials = pickle.load(token)\n",
    "        # if there are no (valid) credentials availablle, let the user log in.\n",
    "        if not self.__credentials or not self.__credentials.valid:\n",
    "            if self.__credentials and self.__credentials.expired and self.__credentials.refresh_token:\n",
    "                self.__credentials.refresh(Request())\n",
    "            else:\n",
    "                flow = InstalledAppFlow.from_client_secrets_file(self.__client_secrets_file, self.__SCOPES)\n",
    "                self.__credentials = flow.run_local_server(port=0)\n",
    "            # save the credentials for the next run\n",
    "            with open(self.__api_token_path, \"wb\") as token:\n",
    "                pickle.dump(self.__credentials, token)\n",
    "\n",
    "        return build(self.__API_SERVICE_NAME, self.__API_VERSION, credentials=self.__credentials)\n",
    "    \n",
    "    def authenticate(self):\n",
    "        try:\n",
    "            youtube_client =  self.__authenticate_youtube()\n",
    "        except RefreshError as e:\n",
    "            #delete token\n",
    "            raise Exception('The token is expired. Kindly generate a new one.')\n",
    "        else:\n",
    "            return youtube_client"
   ]
  },
  {
   "cell_type": "code",
   "execution_count": 129,
   "id": "fc2789e0",
   "metadata": {},
   "outputs": [],
   "source": [
    "class YouTubeSearchQuery:\n",
    "    \"\"\"A query to pass to the search resource.\"\"\"\n",
    "    \n",
    "    def __init__(self, query_string: str):\n",
    "        self.__query_string = query_string\n",
    "        \n",
    "    @property\n",
    "    def query_string(self):\n",
    "        return self.__query_string\n",
    "    \n",
    "    @query_string.setter\n",
    "    def query_string(self, query_str: str):\n",
    "        if not query_str:\n",
    "            raise ValueError('The query string has to be provided')\n",
    "        if not isinstance(query_str, str):\n",
    "            raise TypeError('The query string has to be a string')\n",
    "        self.__query_string = query_str\n",
    "\n",
    "        \n",
    "class YouTubeVideoSearchQuery(YouTubeSearchQuery):\n",
    "    pass"
   ]
  },
  {
   "cell_type": "code",
   "execution_count": 130,
   "id": "0c9ddb36",
   "metadata": {},
   "outputs": [],
   "source": [
    "class YouTubeSearchType:\n",
    "    VIDEO = 'video'\n",
    "    CHANNEL = 'channel'\n",
    "    PLAYLIST = 'playlist'"
   ]
  },
  {
   "cell_type": "code",
   "execution_count": 131,
   "id": "058a4f11",
   "metadata": {},
   "outputs": [],
   "source": [
    "class YouTubeSearch:\n",
    "    __MAX_RESULTS = 10\n",
    "    __REGION_CODE = 'US'\n",
    "    \n",
    "    def __init__(self, *args, **kwargs):\n",
    "        pass"
   ]
  },
  {
   "cell_type": "code",
   "execution_count": 132,
   "id": "33f5bb0b",
   "metadata": {},
   "outputs": [],
   "source": [
    "class YouTubeVideoStats:\n",
    "    def __init__(self, viewCount: int, likeCount: int, commentCount: int):\n",
    "        self.__view_count = int(viewCount)\n",
    "        self.__like_count = int(likeCount)\n",
    "        self.__comment_count = int(commentCount)\n",
    "        \n",
    "    def get_video_stats(self):\n",
    "        video_stats = {\n",
    "            'view_count': self.__view_count,\n",
    "            'like_count': self.__like_count,\n",
    "            'comment_count': self.__comment_count\n",
    "        }\n",
    "        return video_stats"
   ]
  },
  {
   "cell_type": "code",
   "execution_count": 133,
   "id": "d8342160",
   "metadata": {},
   "outputs": [],
   "source": [
    "class YouTubeVideoDetails:\n",
    "    def __init__(self, id: str, channelId: str, title: str, channelTitle: str, \n",
    "                 description: str, tags: list[str], duration: str, licensedContent: bool):\n",
    "        self.__id = id\n",
    "        self.__channel_id = channelId\n",
    "        self.__title = title\n",
    "        self.__channel_title = channelTitle\n",
    "        self.__description = description\n",
    "        self.__tags = tags\n",
    "        self.__duration = duration\n",
    "        self.__licensed_content = licensedContent\n",
    "        \n",
    "    def get_video_details(self):\n",
    "        video_details = {\n",
    "            'id': self.__id,\n",
    "            'channel_id': self.__channel_id,\n",
    "            'title': self.__title,\n",
    "            'channel_title': self.__channel_title,\n",
    "            'description': self.__description,\n",
    "            'tags': self.__tags,\n",
    "            'duration': self.__duration,\n",
    "            'licensed_content': self.__licensed_content\n",
    "        }\n",
    "        return video_details\n",
    "    \n",
    "    def get_video_id(self):\n",
    "        return self.__id"
   ]
  },
  {
   "cell_type": "code",
   "execution_count": 134,
   "id": "f7efe570",
   "metadata": {},
   "outputs": [],
   "source": [
    "class YouTubeComment:\n",
    "    def __init__(self, id: str, videoId: str, totalReplyCount: str, textDisplay: str, \n",
    "                authorDisplayName: str, authorProfileImageUrl: str, authorChannelId: str,\n",
    "                likeCount: str, publishedAt: str, updatedAt: str):\n",
    "        self.__id = id\n",
    "        self.__video_id = videoId\n",
    "        self.__total_reply_count = totalReplyCount\n",
    "        self.__text_display = textDisplay\n",
    "        self.__author_display_name = authorDisplayName\n",
    "        self.__author_profile_image_url = authorProfileImageUrl\n",
    "        self.__author_channel_id = authorChannelId\n",
    "        self.__like_count = int(likeCount)\n",
    "        self.__published_at = publishedAt\n",
    "        self.__updated_at = updatedAt\n",
    "        \n",
    "    def get_comment(self):\n",
    "        comment = dict(\n",
    "            id=self.__id,\n",
    "            videoId=self.__video_id,\n",
    "            totalReplyCount=self.__total_reply_count,\n",
    "            textDisplay=self.__text_display,\n",
    "            authorDisplayName = self.__author_display_name,\n",
    "            authorProfileImageUrl = self.__author_profile_image_url,\n",
    "            authorChannelId = self.__author_channel_id,\n",
    "            likeCount = self.__like_count,\n",
    "            publishedAt = self.__published_at,\n",
    "            updatedAt = self.__updated_at\n",
    "        )\n",
    "        return comment\n",
    "    \n",
    "    def get_comment_text(self):\n",
    "        comment_text = self.__text_display\n",
    "        return comment_text\n",
    "    \n",
    "    def __str__(self):\n",
    "        return self.get_comment_text()\n",
    "    \n",
    "    def __repr__(self):\n",
    "        return f\"YouTubeComment(id='{self.__id}', videoId='{self.__video_id}', \\\n",
    "        totalReplyCount={self.__total_reply_count})\""
   ]
  },
  {
   "cell_type": "code",
   "execution_count": 135,
   "id": "9fa6f74a",
   "metadata": {},
   "outputs": [],
   "source": [
    "class YouTubeCommentThread:\n",
    "    def __init__(self, video_id: str):\n",
    "        self.__video_id = video_id\n",
    "        \n",
    "    def get_video_comments(self, youtube_client):\n",
    "        \"\"\"Get the top level comments for a video.\"\"\"\n",
    "        youtube_comments = self.__find_comments(youtube_client)\n",
    "        youtube_comments = [self.__create_comment(comment) for comment in youtube_comments]\n",
    "        return youtube_comments\n",
    "        \n",
    "    def __generate_basic_info_params(self):\n",
    "        basic_info_params = dict(\n",
    "            videoId=self.__video_id,\n",
    "            part='snippet,replies'\n",
    "        ) \n",
    "        return basic_info_params\n",
    "    \n",
    "    def __find_comments(self, youtube_client):\n",
    "        \"\"\"Find the video comments.\"\"\"\n",
    "        basic_info_params = self.__generate_basic_info_params()\n",
    "        search_request = youtube_client.commentThreads().list(\n",
    "                **basic_info_params\n",
    "            )\n",
    "        search_response = search_request.execute()\n",
    "        comments = self.__parse_comments(search_response)\n",
    "        return comments\n",
    "    \n",
    "    def __create_comment(self, comment_details):\n",
    "        youtube_comment = YouTubeComment(**comment_details)\n",
    "        return youtube_comment\n",
    "\n",
    "    def __parse_comments(self, search_response):\n",
    "        items = search_response['items']\n",
    "        comments = []\n",
    "        for item in items:\n",
    "            comments.append({\n",
    "                'id': item['id'],\n",
    "                'videoId': item['snippet']['videoId'],\n",
    "                'totalReplyCount': item['snippet']['totalReplyCount'],\n",
    "                'textDisplay': item['snippet']['topLevelComment']['snippet']['textDisplay'],\n",
    "                'authorDisplayName': item['snippet']['topLevelComment']['snippet']['authorDisplayName'],\n",
    "                'authorProfileImageUrl': item['snippet']['topLevelComment']['snippet']['authorProfileImageUrl'],\n",
    "                'authorChannelId': item['snippet']['topLevelComment']['snippet']['authorChannelId']['value'],\n",
    "                'likeCount': item['snippet']['topLevelComment']['snippet']['likeCount'],\n",
    "                'publishedAt': item['snippet']['topLevelComment']['snippet']['publishedAt'],\n",
    "                'updatedAt': item['snippet']['topLevelComment']['snippet']['updatedAt']\n",
    "        })\n",
    "        return comments"
   ]
  },
  {
   "cell_type": "code",
   "execution_count": 136,
   "id": "6d8b77ab",
   "metadata": {},
   "outputs": [],
   "source": [
    "class YouTubeVideo:\n",
    "    \"\"\"A YouTube Video.\"\"\"\n",
    "    def __init__(self, video_details):\n",
    "        self.__video_stats = self.__create_video_stats(video_details)\n",
    "        self.__video_details = self.__create_video_details(video_details)\n",
    "        self.__video_top_level_comments = None\n",
    "        \n",
    "    def get_video_stats_details(self):\n",
    "        video_stats_details = dict()\n",
    "        video_stats_details['details'] = self.get_video_details()\n",
    "        video_stats_details['statistics'] = self.get_video_stats()\n",
    "        return video_stats_details\n",
    "    \n",
    "    def get_video_comments(self, youtube_client):\n",
    "        if not self.__video_top_level_comments:\n",
    "            youtube_commenthread = YouTubeCommentThread(self.get_video_id())\n",
    "            self.__video_top_level_comments = youtube_commenthread.get_video_comments(youtube_client)\n",
    "        return self.__video_top_level_comments\n",
    "        \n",
    "    def __create_video_stats(self, video_details: dict):\n",
    "        video_stats = YouTubeVideoStats(**video_details['statistics'])\n",
    "        return video_stats\n",
    "    \n",
    "    def __create_video_details(self, video_details: dict):\n",
    "        video_details = YouTubeVideoDetails(**video_details['details'])\n",
    "        return video_details\n",
    "        \n",
    "    def get_video_stats(self):\n",
    "        return self.__video_stats.get_video_stats()\n",
    "    \n",
    "    def get_video_details(self):\n",
    "        return self.__video_details.get_video_details()\n",
    "    \n",
    "    def get_video_top_level_comments(self):\n",
    "        pass\n",
    "    \n",
    "    def get_video_id(self):\n",
    "        return self.__video_details.get_video_id()\n",
    "    \n",
    "    def get_video_title(self):\n",
    "        pass"
   ]
  },
  {
   "cell_type": "code",
   "execution_count": 137,
   "id": "65bbc338",
   "metadata": {},
   "outputs": [],
   "source": [
    "class FindVideo:\n",
    "    def __init__(self, video_id: str):\n",
    "        \"\"\"Find the video with the given id.\"\"\"\n",
    "        self.__video_id = video_id\n",
    "        \n",
    "    def __generate_basic_info_params(self):\n",
    "        basic_info_params = dict(\n",
    "            id=self.__video_id,\n",
    "            part='snippet,contentDetails,statistics'\n",
    "        ) \n",
    "        return basic_info_params\n",
    "    \n",
    "    def find_video(self, youtube_client):\n",
    "        \"\"\"Find the video.\"\"\"\n",
    "        basic_info_params = self.__generate_basic_info_params()\n",
    "        search_request = youtube_client.videos().list(\n",
    "                **basic_info_params\n",
    "            )\n",
    "        search_response = search_request.execute()\n",
    "        parsed_response = self.__parse_video_details(search_response)\n",
    "        youtube_video = YouTubeVideo(parsed_response)\n",
    "        return youtube_video\n",
    "    \n",
    "    def __parse_video_details(self, video_details: dict):\n",
    "        \"\"\"Parse the video details.\n",
    "\n",
    "        Returns\n",
    "        -------\n",
    "        parsed_video_details: dict\n",
    "            A dictionary of the YouTube video details.\n",
    "        \"\"\"\n",
    "        parsed_video_details = dict()\n",
    "        items = video_details['items'][0]\n",
    "        parsed_video_details['details'] = dict()\n",
    "        parsed_video_details['statistics'] = dict()\n",
    "        parsed_video_details['details']['id'] = items['id']\n",
    "        parsed_video_details['details']['channelId'] = items['snippet']['channelId']\n",
    "        parsed_video_details['details']['title'] = items['snippet']['title']\n",
    "        parsed_video_details['details']['channelTitle'] = items['snippet']['channelTitle']\n",
    "        parsed_video_details['details']['description'] = items['snippet']['description']\n",
    "        if items['snippet'].get('tags'):\n",
    "            parsed_video_details['details']['tags'] = items['snippet']['tags']\n",
    "        else:\n",
    "            parsed_video_details['details']['tags'] = []\n",
    "        parsed_video_details['details']['duration'] = items['contentDetails']['duration']\n",
    "        parsed_video_details['details']['licensedContent'] = items['contentDetails']['licensedContent']\n",
    "        parsed_video_details['statistics']['viewCount'] = items['statistics']['viewCount']\n",
    "        parsed_video_details['statistics']['likeCount'] = items['statistics']['likeCount']\n",
    "        parsed_video_details['statistics']['commentCount'] = items['statistics']['commentCount']\n",
    "        return parsed_video_details"
   ]
  },
  {
   "cell_type": "code",
   "execution_count": 138,
   "id": "989ced76",
   "metadata": {},
   "outputs": [],
   "source": [
    "class VideoSearch(YouTubeSearch):\n",
    "    __MAX_RESULTS = 10\n",
    "    __REGION_CODE = 'US'\n",
    "    \n",
    "    def __init__(self):\n",
    "        self.__type = YouTubeSearchType.VIDEO\n",
    "        self.__query = ''\n",
    "        \n",
    "    def __get_query(self):\n",
    "        return self.__query.query_string\n",
    "        \n",
    "    def basic_info(self):\n",
    "        basic_info_params = self.__generate_basic_info_params()\n",
    "        return basic_info_params\n",
    "    \n",
    "    def advanced_info(self):\n",
    "        pass\n",
    "    \n",
    "    def all_info(self):\n",
    "        pass\n",
    "    \n",
    "    def __generate_basic_info_params(self):\n",
    "        basic_info_params = dict(\n",
    "            part='id,snippet',\n",
    "            type=self.__type,\n",
    "            q=self.__get_query(),\n",
    "            maxResults=self.__MAX_RESULTS,\n",
    "            regionCode=self.__REGION_CODE\n",
    "        ) \n",
    "        return basic_info_params\n",
    "    \n",
    "    def __generate_basic_info_params_for_related_video(self, video_id):\n",
    "        basic_info_params = dict(\n",
    "            part='id,snippet',\n",
    "            type=self.__type,\n",
    "            relatedToVideoId=video_id,\n",
    "            maxResults=self.__MAX_RESULTS,\n",
    "            regionCode=self.__REGION_CODE\n",
    "        ) \n",
    "        return basic_info_params\n",
    "    \n",
    "    def __generate_basic_info_params_for_most_popular_video_by_region(self, \n",
    "                region_code):\n",
    "        basic_info_params = dict(\n",
    "            part='id,snippet',\n",
    "            chart='mostPopular',\n",
    "            regionCode=region_code\n",
    "        ) \n",
    "        return basic_info_params\n",
    "    \n",
    "    def __generate_basic_info_params_for_most_popular_video_by_category(self, \n",
    "                category_id):\n",
    "        basic_info_params = dict(\n",
    "            part='id,snippet',\n",
    "            chart='mostPopular',\n",
    "            videoCategoryId=category_id\n",
    "        ) \n",
    "        return basic_info_params\n",
    "    \n",
    "    def search_video(self, query_string: str, youtube_client, search_type='basic'):\n",
    "        self.__query = YouTubeSearchQuery(query_string)\n",
    "        search_response = None\n",
    "        if search_type == 'basic':\n",
    "            basic_info_params = self.__generate_basic_info_params()\n",
    "            search_request = youtube_client.search().list(\n",
    "                **basic_info_params\n",
    "            )\n",
    "            search_response = search_request.execute()\n",
    "            videos = self.__parse_basic_response(search_response, youtube_client)\n",
    "        return videos\n",
    "    \n",
    "    def __parse_basic_response(self, search_response, youtube_client):\n",
    "        videos = []\n",
    "        video_results = search_response['items']\n",
    "        for video_result in video_results:\n",
    "            video_id = video_result['id']['videoId']\n",
    "            youtube_video = FindVideo(video_id).find_video(youtube_client)\n",
    "            videos.append(youtube_video)\n",
    "        return videos\n",
    "    \n",
    "    def __parse_basic_response_popular_videos(self, search_response, youtube_client):\n",
    "        videos = []\n",
    "        video_results = search_response['items']\n",
    "        for video_result in video_results:\n",
    "            if video_result.get('id'):\n",
    "                video_id = video_result['id']\n",
    "            else:\n",
    "                video_id = video_result['id']['videoId']\n",
    "            youtube_video = FindVideo(video_id).find_video(youtube_client)\n",
    "            videos.append(youtube_video)\n",
    "        return videos\n",
    "    \n",
    "    def search_related_videos(self, youtube_video, youtube_client, search_type='basic'):\n",
    "        search_response = None\n",
    "        if search_type == 'basic':\n",
    "            basic_info_params = self.__generate_basic_info_params_for_related_video(youtube_video.get_video_id())\n",
    "            search_request = youtube_client.search().list(\n",
    "                **basic_info_params\n",
    "            )\n",
    "            search_response = search_request.execute()\n",
    "            videos = self.__parse_basic_response(search_response, youtube_client)\n",
    "        return videos\n",
    "    \n",
    "    def search_most_popular_videos_by_region(self, region_code, youtube_client, search_type='basic'):\n",
    "        search_response = None\n",
    "        if search_type == 'basic':\n",
    "            basic_info_params = self.__generate_basic_info_params_for_most_popular_video_by_region(region_code)\n",
    "            search_request = youtube_client.videos().list(\n",
    "                **basic_info_params\n",
    "            )\n",
    "            search_response = search_request.execute()\n",
    "            videos = self.__parse_basic_response_popular_videos(search_response, youtube_client)\n",
    "        return videos\n",
    "    \n",
    "    def search_most_popular_videos_by_category(self, category_id, youtube_client, search_type='basic'):\n",
    "        search_response = None\n",
    "        if search_type == 'basic':\n",
    "            basic_info_params = self.__generate_basic_info_params_for_most_popular_video_by_category(category_id)\n",
    "            search_request = youtube_client.videos().list(\n",
    "                **basic_info_params\n",
    "            )\n",
    "            try:\n",
    "                search_response = search_request.execute()\n",
    "                videos = self.__parse_basic_response_popular_videos(search_response, youtube_client)\n",
    "            except:\n",
    "                videos = []\n",
    "        return videos"
   ]
  },
  {
   "cell_type": "code",
   "execution_count": 139,
   "id": "99db87dc",
   "metadata": {},
   "outputs": [],
   "source": [
    "class YouTube:\n",
    "    def __init__(self, credentials_file='', token_path=''):\n",
    "        self.__auth = Authenticate(credentials_file, token_path)\n",
    "        self.__youtube_client = self.__youtube_client = self.__auth.authenticate()\n",
    "\n",
    "    def get_youtube(self):\n",
    "        return self.__youtube_client\n",
    "        \n",
    "    def search_video(self, query_string: str) -> list[str]:\n",
    "        videos = VideoSearch().search_video(query_string, self.__youtube_client)\n",
    "        return videos\n",
    "    \n",
    "    def find_related_videos(self, youtube_video):\n",
    "        related_videos = VideoSearch().search_related_videos(youtube_video, self.__youtube_client)\n",
    "        return related_videos\n",
    "    \n",
    "    def find_most_popular_videos_by_region(self, region_code):\n",
    "        most_popular_videos_by_region = VideoSearch().search_most_popular_videos_by_region(\n",
    "            region_code, self.__youtube_client)\n",
    "        return most_popular_videos_by_region\n",
    "    \n",
    "    def find_most_popular_videos_by_category(self, category_id):\n",
    "        most_popular_videos_by_category = VideoSearch().search_most_popular_videos_by_category(\n",
    "            category_id, self.__youtube_client)\n",
    "        return most_popular_videos_by_category\n",
    "    \n",
    "    def find_video_by_url(self, video_url: str):\n",
    "        \"\"\"Get a specific video given the video url.\"\"\"\n",
    "        video_id = self.__get_video_id(video_url)\n",
    "        return self.find_video_by_id(video_id)\n",
    "        \n",
    "    def find_video_by_id(self, video_id: str):\n",
    "        \"\"\"Find a video by id.\"\"\"\n",
    "        youtube_video = FindVideo(video_id).find_video(self.__youtube_client)\n",
    "        return youtube_video\n",
    "    \n",
    "    @staticmethod\n",
    "    def __get_video_id(video_url: str) -> str:\n",
    "        \"\"\"Get vdeo ID from video url\"\"\"\n",
    "        if not video_url:\n",
    "            raise ValueError('The video_ur has to be provided.')\n",
    "        if not isinstance(video_url, str):\n",
    "            raise TypeError('Te video_url has to be a string.')\n",
    "        if '=' not in video_url:\n",
    "            url_format = 'https://www.youtube.com/watch?v=Dqdu-FsBk0s'\n",
    "            raise ValueError('Te video_url should be of the format \"{url_format}\"')\n",
    "        video_url = video_url.split('=')[1]\n",
    "        return video_url"
   ]
  },
  {
   "cell_type": "code",
   "execution_count": 16,
   "id": "846a5aa4",
   "metadata": {},
   "outputs": [],
   "source": [
    "youtube = YouTube(credentials_file='/home/lyle/Downloads/client_secret.json', \n",
    "                  token_path='')\n",
    "youtube_client = youtube.get_youtube()"
   ]
  },
  {
   "cell_type": "code",
   "execution_count": 17,
   "id": "f711b5cf",
   "metadata": {},
   "outputs": [],
   "source": [
    "videos = youtube.search_video('python programming')"
   ]
  },
  {
   "cell_type": "code",
   "execution_count": 18,
   "id": "e0779a98",
   "metadata": {},
   "outputs": [
    {
     "data": {
      "text/plain": [
       "[<__main__.YouTubeVideo at 0x7fd289cec790>,\n",
       " <__main__.YouTubeVideo at 0x7fd2a57c2380>,\n",
       " <__main__.YouTubeVideo at 0x7fd289ceda20>,\n",
       " <__main__.YouTubeVideo at 0x7fd289cefb50>,\n",
       " <__main__.YouTubeVideo at 0x7fd289cefb80>,\n",
       " <__main__.YouTubeVideo at 0x7fd289cae050>,\n",
       " <__main__.YouTubeVideo at 0x7fd289ced240>,\n",
       " <__main__.YouTubeVideo at 0x7fd289cef280>,\n",
       " <__main__.YouTubeVideo at 0x7fd289cee3b0>,\n",
       " <__main__.YouTubeVideo at 0x7fd289cafeb0>]"
      ]
     },
     "execution_count": 18,
     "metadata": {},
     "output_type": "execute_result"
    }
   ],
   "source": [
    "videos"
   ]
  },
  {
   "cell_type": "code",
   "execution_count": 23,
   "id": "aaf1957f",
   "metadata": {},
   "outputs": [],
   "source": [
    "related_videos = youtube.search_related_videos(videos[0])"
   ]
  },
  {
   "cell_type": "code",
   "execution_count": 24,
   "id": "9bdb373a",
   "metadata": {},
   "outputs": [
    {
     "data": {
      "text/plain": [
       "[<__main__.YouTubeVideo at 0x7f564e71e200>,\n",
       " <__main__.YouTubeVideo at 0x7f564e71f190>,\n",
       " <__main__.YouTubeVideo at 0x7f564e71e5c0>,\n",
       " <__main__.YouTubeVideo at 0x7f564e7117e0>,\n",
       " <__main__.YouTubeVideo at 0x7f564e712aa0>,\n",
       " <__main__.YouTubeVideo at 0x7f564e713820>,\n",
       " <__main__.YouTubeVideo at 0x7f564e711ff0>,\n",
       " <__main__.YouTubeVideo at 0x7f564e6cf940>,\n",
       " <__main__.YouTubeVideo at 0x7f564e4dbe80>]"
      ]
     },
     "execution_count": 24,
     "metadata": {},
     "output_type": "execute_result"
    }
   ],
   "source": [
    "related_videos"
   ]
  },
  {
   "cell_type": "code",
   "execution_count": 25,
   "id": "38e99488",
   "metadata": {
    "collapsed": true
   },
   "outputs": [
    {
     "data": {
      "text/plain": [
       "[YouTubeComment(id='UgzaJtLt9dkuVnCR1xR4AaABAg', videoId='b093aqAZiPU',         totalReplyCount=8),\n",
       " YouTubeComment(id='UgySi_5On-yk6MEmBYt4AaABAg', videoId='b093aqAZiPU',         totalReplyCount=0),\n",
       " YouTubeComment(id='Ugy5hawTDEWDcU9mJS94AaABAg', videoId='b093aqAZiPU',         totalReplyCount=0),\n",
       " YouTubeComment(id='Ugz2L363BYSXvft6mut4AaABAg', videoId='b093aqAZiPU',         totalReplyCount=0),\n",
       " YouTubeComment(id='UgwX4ZbvM3aF1MtZAxl4AaABAg', videoId='b093aqAZiPU',         totalReplyCount=0),\n",
       " YouTubeComment(id='Ugw97NdTMMK13TwMU6x4AaABAg', videoId='b093aqAZiPU',         totalReplyCount=0),\n",
       " YouTubeComment(id='Ugw3tny8y5iuRg6oSSl4AaABAg', videoId='b093aqAZiPU',         totalReplyCount=0),\n",
       " YouTubeComment(id='UgxuX5osaqiVuJCvjNF4AaABAg', videoId='b093aqAZiPU',         totalReplyCount=0),\n",
       " YouTubeComment(id='UgyLgPEsPGJL_DPUVtt4AaABAg', videoId='b093aqAZiPU',         totalReplyCount=0),\n",
       " YouTubeComment(id='UgyIRGBEJDowZoX5zF54AaABAg', videoId='b093aqAZiPU',         totalReplyCount=0),\n",
       " YouTubeComment(id='UgxdKWcwDTY2_cOjbdh4AaABAg', videoId='b093aqAZiPU',         totalReplyCount=1),\n",
       " YouTubeComment(id='Ugzm2f8G8RZ4GgrGcDp4AaABAg', videoId='b093aqAZiPU',         totalReplyCount=0),\n",
       " YouTubeComment(id='UgzoLbrfh5WKvKvpgu14AaABAg', videoId='b093aqAZiPU',         totalReplyCount=0),\n",
       " YouTubeComment(id='UgzoFXopJ7Lrgp9_db14AaABAg', videoId='b093aqAZiPU',         totalReplyCount=0),\n",
       " YouTubeComment(id='UgyjOtod0MypACDCM1p4AaABAg', videoId='b093aqAZiPU',         totalReplyCount=0),\n",
       " YouTubeComment(id='UgwSDu5kq19H4IgAAAp4AaABAg', videoId='b093aqAZiPU',         totalReplyCount=0),\n",
       " YouTubeComment(id='UgycnLB3z8acrpviZch4AaABAg', videoId='b093aqAZiPU',         totalReplyCount=0),\n",
       " YouTubeComment(id='Ugxl95CLER9GiE9TDAp4AaABAg', videoId='b093aqAZiPU',         totalReplyCount=0),\n",
       " YouTubeComment(id='UgxvLSEeVj677S2bW0d4AaABAg', videoId='b093aqAZiPU',         totalReplyCount=0),\n",
       " YouTubeComment(id='UgwyX_5kA1hQYmjb_et4AaABAg', videoId='b093aqAZiPU',         totalReplyCount=0)]"
      ]
     },
     "execution_count": 25,
     "metadata": {},
     "output_type": "execute_result"
    }
   ],
   "source": [
    "related_videos[0].get_video_comments(youtube_client)"
   ]
  },
  {
   "cell_type": "code",
   "execution_count": 62,
   "id": "ab8ed97d",
   "metadata": {},
   "outputs": [],
   "source": [
    "most_popular_ke_videos = youtube.find_most_popular_videos_by_region('ke')"
   ]
  },
  {
   "cell_type": "code",
   "execution_count": 63,
   "id": "a6f90a59",
   "metadata": {},
   "outputs": [
    {
     "data": {
      "text/plain": [
       "[<__main__.YouTubeVideo at 0x7f564e311960>,\n",
       " <__main__.YouTubeVideo at 0x7f564e26e830>,\n",
       " <__main__.YouTubeVideo at 0x7f564e26dfc0>,\n",
       " <__main__.YouTubeVideo at 0x7f564e2027d0>,\n",
       " <__main__.YouTubeVideo at 0x7f564e2015d0>]"
      ]
     },
     "execution_count": 63,
     "metadata": {},
     "output_type": "execute_result"
    }
   ],
   "source": [
    "most_popular_ke_videos"
   ]
  },
  {
   "cell_type": "code",
   "execution_count": 64,
   "id": "43494373",
   "metadata": {
    "collapsed": true
   },
   "outputs": [
    {
     "data": {
      "text/plain": [
       "{'details': {'id': 'ksBpvcbjTXM',\n",
       "  'channel_id': 'UCi_szzLDh7zYETJevZY0HqQ',\n",
       "  'title': 'Kaskie Vibaya by Fathermoh & Ssaru',\n",
       "  'channel_title': 'Fathermoh',\n",
       "  'description': '\"Kaskie Vibaya\" by Fathermoh & Ssaru\\nhttps://blackmarket.lnk.to/kaskievibaya\\n#blackmarketrecords #fathermoh #kaskievibaya #ssaru',\n",
       "  'tags': ['gang',\n",
       "   'joefes',\n",
       "   'wagithomo',\n",
       "   'kashkeed',\n",
       "   'sharma shamra',\n",
       "   'jovial',\n",
       "   'iphoolish',\n",
       "   'fathermoh',\n",
       "   'mejja',\n",
       "   'sherehe Sheria',\n",
       "   'adaa',\n",
       "   'black market records',\n",
       "   'gengetone',\n",
       "   'gengetone fire',\n",
       "   'bambi',\n",
       "   'betty',\n",
       "   'kenya music',\n",
       "   'goats',\n",
       "   'goat gang',\n",
       "   'mbuzi gang music',\n",
       "   'mbuzi gang spotify',\n",
       "   'shamra shamra amapiano remix',\n",
       "   'Amapiano remix',\n",
       "   'dj ken skilla',\n",
       "   'mr nun',\n",
       "   'moyenga',\n",
       "   'mr london',\n",
       "   'kash keed',\n",
       "   'studio black market kenya',\n",
       "   'taki taki',\n",
       "   'lamaz span kob',\n",
       "   'mr. nun',\n",
       "   'ngomma',\n",
       "   'swahili music',\n",
       "   'kiswahili muziki',\n",
       "   'muziki',\n",
       "   'father moh',\n",
       "   'father-mo',\n",
       "   'father-moh'],\n",
       "  'duration': 'PT3M5S',\n",
       "  'licensed_content': True},\n",
       " 'statistics': {'view_count': 932140,\n",
       "  'like_count': 25350,\n",
       "  'comment_count': 1453}}"
      ]
     },
     "execution_count": 64,
     "metadata": {},
     "output_type": "execute_result"
    }
   ],
   "source": [
    "most_popular_ke_videos[-1].get_video_stats_details()"
   ]
  },
  {
   "cell_type": "code",
   "execution_count": 105,
   "id": "bb179671",
   "metadata": {},
   "outputs": [
    {
     "ename": "AttributeError",
     "evalue": "'YouTube' object has no attribute 'get_video_categories'",
     "output_type": "error",
     "traceback": [
      "\u001b[0;31m---------------------------------------------------------------------------\u001b[0m",
      "\u001b[0;31mAttributeError\u001b[0m                            Traceback (most recent call last)",
      "Cell \u001b[0;32mIn[105], line 1\u001b[0m\n\u001b[0;32m----> 1\u001b[0m \u001b[43myoutube\u001b[49m\u001b[38;5;241;43m.\u001b[39;49m\u001b[43mget_video_categories\u001b[49m()\n",
      "\u001b[0;31mAttributeError\u001b[0m: 'YouTube' object has no attribute 'get_video_categories'"
     ]
    }
   ],
   "source": [
    "youtube.get_video_categories()"
   ]
  },
  {
   "cell_type": "code",
   "execution_count": 140,
   "id": "2d3648df",
   "metadata": {},
   "outputs": [],
   "source": [
    "class YouTubeVideoCategory:\n",
    "    def __init__(self, id, title):\n",
    "        self.__id = id\n",
    "        self.__title = title\n",
    "        \n",
    "    def get_id(self):\n",
    "        return self.__id\n",
    "    \n",
    "    def get_title(self):\n",
    "        return self.__title\n",
    "    \n",
    "    def __str__(self):\n",
    "        return self.get_title()\n",
    "    \n",
    "    def __repr__(self):\n",
    "        return f\"YouTubeVideoCategory(id='{self.__id}', title='{self.__title}')\""
   ]
  },
  {
   "cell_type": "code",
   "execution_count": 141,
   "id": "48f145c8",
   "metadata": {},
   "outputs": [],
   "source": [
    "class SearchYouTubeVideoCategories:\n",
    "    def __init__(self, youtube_client, region_code='us'):\n",
    "        self.__youtube_client = youtube_client\n",
    "        self.__region_code = region_code\n",
    "        self.__youtube_video_categories = self.__search_video_categories()\n",
    "    \n",
    "    def __generate_basic_info_params(self):\n",
    "        basic_info_params = dict(\n",
    "            part='snippet',\n",
    "            regionCode=self.__region_code\n",
    "        )\n",
    "        return basic_info_params\n",
    "    \n",
    "    def __search_video_categories(self):\n",
    "        basic_info_params = self.__generate_basic_info_params()\n",
    "        search_request = self.__youtube_client.videoCategories().list(\n",
    "                **basic_info_params\n",
    "            )\n",
    "        search_response = search_request.execute()\n",
    "        video_categories = self.__parse_categories(search_response)\n",
    "        return video_categories\n",
    "    \n",
    "    def __parse_categories(self, search_response):\n",
    "        category_data = []\n",
    "        items = search_response['items']\n",
    "        for item in items:\n",
    "            category = dict()\n",
    "            category['id'] = item['id']\n",
    "            category['title'] = item['snippet']['title']\n",
    "            category_data.append(YouTubeVideoCategory(**category))\n",
    "        return category_data\n",
    "    \n",
    "    def get_youtube_video_categories(self):\n",
    "        return self.__youtube_video_categories"
   ]
  },
  {
   "cell_type": "code",
   "execution_count": 94,
   "id": "f450a78e",
   "metadata": {},
   "outputs": [],
   "source": [
    "video_categories = SearchYouTubeVideoCategories(youtube_client).get_youtube_video_categories()"
   ]
  },
  {
   "cell_type": "code",
   "execution_count": 95,
   "id": "2533ff65",
   "metadata": {
    "collapsed": true
   },
   "outputs": [
    {
     "data": {
      "text/plain": [
       "[YouTubeVideoCategory(id='1', title='Film & Animation'),\n",
       " YouTubeVideoCategory(id='2', title='Autos & Vehicles'),\n",
       " YouTubeVideoCategory(id='10', title='Music'),\n",
       " YouTubeVideoCategory(id='15', title='Pets & Animals'),\n",
       " YouTubeVideoCategory(id='17', title='Sports'),\n",
       " YouTubeVideoCategory(id='18', title='Short Movies'),\n",
       " YouTubeVideoCategory(id='19', title='Travel & Events'),\n",
       " YouTubeVideoCategory(id='20', title='Gaming'),\n",
       " YouTubeVideoCategory(id='21', title='Videoblogging'),\n",
       " YouTubeVideoCategory(id='22', title='People & Blogs'),\n",
       " YouTubeVideoCategory(id='23', title='Comedy'),\n",
       " YouTubeVideoCategory(id='24', title='Entertainment'),\n",
       " YouTubeVideoCategory(id='25', title='News & Politics'),\n",
       " YouTubeVideoCategory(id='26', title='Howto & Style'),\n",
       " YouTubeVideoCategory(id='27', title='Education'),\n",
       " YouTubeVideoCategory(id='28', title='Science & Technology'),\n",
       " YouTubeVideoCategory(id='29', title='Nonprofits & Activism'),\n",
       " YouTubeVideoCategory(id='30', title='Movies'),\n",
       " YouTubeVideoCategory(id='31', title='Anime/Animation'),\n",
       " YouTubeVideoCategory(id='32', title='Action/Adventure'),\n",
       " YouTubeVideoCategory(id='33', title='Classics'),\n",
       " YouTubeVideoCategory(id='34', title='Comedy'),\n",
       " YouTubeVideoCategory(id='35', title='Documentary'),\n",
       " YouTubeVideoCategory(id='36', title='Drama'),\n",
       " YouTubeVideoCategory(id='37', title='Family'),\n",
       " YouTubeVideoCategory(id='38', title='Foreign'),\n",
       " YouTubeVideoCategory(id='39', title='Horror'),\n",
       " YouTubeVideoCategory(id='40', title='Sci-Fi/Fantasy'),\n",
       " YouTubeVideoCategory(id='41', title='Thriller'),\n",
       " YouTubeVideoCategory(id='42', title='Shorts'),\n",
       " YouTubeVideoCategory(id='43', title='Shows'),\n",
       " YouTubeVideoCategory(id='44', title='Trailers')]"
      ]
     },
     "execution_count": 95,
     "metadata": {},
     "output_type": "execute_result"
    }
   ],
   "source": [
    "video_categories"
   ]
  },
  {
   "cell_type": "code",
   "execution_count": 142,
   "id": "0869a7b2",
   "metadata": {},
   "outputs": [],
   "source": [
    "class YouTube:\n",
    "    def __init__(self, credentials_file='', token_path=''):\n",
    "        self.__auth = Authenticate(credentials_file, token_path)\n",
    "        self.__youtube_client = self.__youtube_client = self.__auth.authenticate()\n",
    "        self.__video_categories = []\n",
    "\n",
    "    def get_youtube(self):\n",
    "        return self.__youtube_client\n",
    "    \n",
    "    def get_video_categories(self):\n",
    "        if not self.__video_categories:\n",
    "            self.__video_categories = SearchYouTubeVideoCategories(self.__youtube_client).get_youtube_video_categories()\n",
    "        return self.__video_categories\n",
    "    \n",
    "    def search_video(self, query_string: str) -> list[str]:\n",
    "        videos = VideoSearch().search_video(query_string, self.__youtube_client)\n",
    "        return videos\n",
    "    \n",
    "    def find_related_videos(self, youtube_video):\n",
    "        related_videos = VideoSearch().search_related_videos(youtube_video, self.__youtube_client)\n",
    "        return related_videos\n",
    "    \n",
    "    def find_most_popular_videos_by_region(self, region_code):\n",
    "        most_popular_videos_by_region = VideoSearch().search_most_popular_videos_by_region(\n",
    "            region_code, self.__youtube_client)\n",
    "        return most_popular_videos_by_region\n",
    "    \n",
    "    def find_most_popular_videos_by_category(self, category_id):\n",
    "        most_popular_videos_by_category = VideoSearch().search_most_popular_videos_by_category(\n",
    "            category_id, self.__youtube_client)\n",
    "        return most_popular_videos_by_category\n",
    "    \n",
    "    def find_video_by_url(self, video_url: str):\n",
    "        \"\"\"Get a specific video given the video url.\"\"\"\n",
    "        video_id = self.__get_video_id(video_url)\n",
    "        return self.find_video_by_id(video_id)\n",
    "        \n",
    "    def find_video_by_id(self, video_id: str):\n",
    "        \"\"\"Find a video by id.\"\"\"\n",
    "        youtube_video = FindVideo(video_id).find_video(self.__youtube_client)\n",
    "        return youtube_video\n",
    "    \n",
    "    @staticmethod\n",
    "    def __get_video_id(video_url: str) -> str:\n",
    "        \"\"\"Get vdeo ID from video url\"\"\"\n",
    "        if not video_url:\n",
    "            raise ValueError('The video_ur has to be provided.')\n",
    "        if not isinstance(video_url, str):\n",
    "            raise TypeError('Te video_url has to be a string.')\n",
    "        if '=' not in video_url:\n",
    "            url_format = 'https://www.youtube.com/watch?v=Dqdu-FsBk0s'\n",
    "            raise ValueError('Te video_url should be of the format \"{url_format}\"')\n",
    "        video_url = video_url.split('=')[1]\n",
    "        return video_url"
   ]
  },
  {
   "cell_type": "code",
   "execution_count": 121,
   "id": "06e713bb",
   "metadata": {},
   "outputs": [],
   "source": [
    "youtube = YouTube(credentials_file='/home/lyle/Downloads/client_secret.json', \n",
    "                  token_path='')\n",
    "youtube_client = youtube.get_youtube()"
   ]
  },
  {
   "cell_type": "code",
   "execution_count": 122,
   "id": "2fbcd172",
   "metadata": {
    "collapsed": true
   },
   "outputs": [
    {
     "data": {
      "text/plain": [
       "[YouTubeVideoCategory(id='1', title='Film & Animation'),\n",
       " YouTubeVideoCategory(id='2', title='Autos & Vehicles'),\n",
       " YouTubeVideoCategory(id='10', title='Music'),\n",
       " YouTubeVideoCategory(id='15', title='Pets & Animals'),\n",
       " YouTubeVideoCategory(id='17', title='Sports'),\n",
       " YouTubeVideoCategory(id='18', title='Short Movies'),\n",
       " YouTubeVideoCategory(id='19', title='Travel & Events'),\n",
       " YouTubeVideoCategory(id='20', title='Gaming'),\n",
       " YouTubeVideoCategory(id='21', title='Videoblogging'),\n",
       " YouTubeVideoCategory(id='22', title='People & Blogs'),\n",
       " YouTubeVideoCategory(id='23', title='Comedy'),\n",
       " YouTubeVideoCategory(id='24', title='Entertainment'),\n",
       " YouTubeVideoCategory(id='25', title='News & Politics'),\n",
       " YouTubeVideoCategory(id='26', title='Howto & Style'),\n",
       " YouTubeVideoCategory(id='27', title='Education'),\n",
       " YouTubeVideoCategory(id='28', title='Science & Technology'),\n",
       " YouTubeVideoCategory(id='29', title='Nonprofits & Activism'),\n",
       " YouTubeVideoCategory(id='30', title='Movies'),\n",
       " YouTubeVideoCategory(id='31', title='Anime/Animation'),\n",
       " YouTubeVideoCategory(id='32', title='Action/Adventure'),\n",
       " YouTubeVideoCategory(id='33', title='Classics'),\n",
       " YouTubeVideoCategory(id='34', title='Comedy'),\n",
       " YouTubeVideoCategory(id='35', title='Documentary'),\n",
       " YouTubeVideoCategory(id='36', title='Drama'),\n",
       " YouTubeVideoCategory(id='37', title='Family'),\n",
       " YouTubeVideoCategory(id='38', title='Foreign'),\n",
       " YouTubeVideoCategory(id='39', title='Horror'),\n",
       " YouTubeVideoCategory(id='40', title='Sci-Fi/Fantasy'),\n",
       " YouTubeVideoCategory(id='41', title='Thriller'),\n",
       " YouTubeVideoCategory(id='42', title='Shorts'),\n",
       " YouTubeVideoCategory(id='43', title='Shows'),\n",
       " YouTubeVideoCategory(id='44', title='Trailers')]"
      ]
     },
     "execution_count": 122,
     "metadata": {},
     "output_type": "execute_result"
    }
   ],
   "source": [
    "youtube.get_video_categories()"
   ]
  },
  {
   "cell_type": "code",
   "execution_count": 123,
   "id": "05bb0afd",
   "metadata": {},
   "outputs": [],
   "source": [
    "film_animation = youtube.find_most_popular_videos_by_category('1')"
   ]
  },
  {
   "cell_type": "code",
   "execution_count": 124,
   "id": "d5c7e376",
   "metadata": {
    "collapsed": true
   },
   "outputs": [
    {
     "data": {
      "text/plain": [
       "[<__main__.YouTubeVideo at 0x7f564d76aa40>,\n",
       " <__main__.YouTubeVideo at 0x7f564e254b50>,\n",
       " <__main__.YouTubeVideo at 0x7f564d76a3b0>,\n",
       " <__main__.YouTubeVideo at 0x7f564d769e10>,\n",
       " <__main__.YouTubeVideo at 0x7f564d7fb550>]"
      ]
     },
     "execution_count": 124,
     "metadata": {},
     "output_type": "execute_result"
    }
   ],
   "source": [
    "film_animation"
   ]
  },
  {
   "cell_type": "code",
   "execution_count": 125,
   "id": "d5c2e8f0",
   "metadata": {
    "collapsed": true
   },
   "outputs": [
    {
     "data": {
      "text/plain": [
       "{'details': {'id': '5f-KwlzsOe4',\n",
       "  'channel_id': 'UCkj8f9sqSKuzn-NyP7Os1ZQ',\n",
       "  'title': 'Buying Pretty Girls Whatever They Want😍',\n",
       "  'channel_title': 'Jack Doherty',\n",
       "  'description': 'Buying Pretty Girls Whatever They Want😍\\n🔥 FOLLOW ME 🔥\\nInstagram: https://www.instagram.com/jackdoherty\\nTikTok: https://www.tiktok.com/@Jackdoherty',\n",
       "  'tags': ['jack doherty tiktok',\n",
       "   'tiktok',\n",
       "   'pranks',\n",
       "   'girlfriend',\n",
       "   'funny',\n",
       "   'family friendly',\n",
       "   'prank',\n",
       "   'relationships',\n",
       "   'couples',\n",
       "   'shorts',\n",
       "   'jack doherty',\n",
       "   'tik tok',\n",
       "   'tiktok compilation',\n",
       "   'tiktoks',\n",
       "   'jackdoherty',\n",
       "   'relatable'],\n",
       "  'duration': 'PT42S',\n",
       "  'licensed_content': True},\n",
       " 'statistics': {'view_count': 2265395,\n",
       "  'like_count': 141808,\n",
       "  'comment_count': 606}}"
      ]
     },
     "execution_count": 125,
     "metadata": {},
     "output_type": "execute_result"
    }
   ],
   "source": [
    "film_animation[-1].get_video_stats_details()"
   ]
  },
  {
   "cell_type": "code",
   "execution_count": 126,
   "id": "bf23916a",
   "metadata": {},
   "outputs": [],
   "source": [
    "movies = youtube.find_most_popular_videos_by_category('39')"
   ]
  },
  {
   "cell_type": "code",
   "execution_count": 127,
   "id": "700b57ba",
   "metadata": {},
   "outputs": [
    {
     "data": {
      "text/plain": [
       "[]"
      ]
     },
     "execution_count": 127,
     "metadata": {},
     "output_type": "execute_result"
    }
   ],
   "source": [
    "movies"
   ]
  },
  {
   "cell_type": "code",
   "execution_count": 115,
   "id": "d60fef05",
   "metadata": {
    "collapsed": true
   },
   "outputs": [
    {
     "data": {
      "text/plain": [
       "{'details': {'id': '5sLzyEzUbPo',\n",
       "  'channel_id': 'UCRI7hheejBbWS6etTNwMT0g',\n",
       "  'title': 'Anuel AA, Mambo Kingz, DJ Luian - Mas Rica Que Ayer (Video Oficial)',\n",
       "  'channel_title': 'Anuel AA',\n",
       "  'description': 'Anuel AA, Mambo Kingz, DJ Luian - Mas Rica Que Ayer (Video Oficial)\\n\\nSuscríbete a mi canal ➡️   https://radi.al/AnuelAA \\n\\n🎵 Stream/Download: https://orcd.co/masricaqueayer\\n\\nRedes Sociales\\nhttps://www.facebook.com/Anuel2bleAofficial/\\nhttps://twitter.com/_anuel_aa\\nhttps://www.instagram.com/anuel/\\n\\nhttps://www.anuelaa.com\\n\\n#anuelaa  #MasRicaQueAyer  #nuevamusica',\n",
       "  'tags': ['Anuel AA',\n",
       "   'anuel',\n",
       "   'Free anuel',\n",
       "   'Emmanuel',\n",
       "   'Real hasta la muerte',\n",
       "   'New Music',\n",
       "   'Reggaeton',\n",
       "   'Trap',\n",
       "   'Latin Trap',\n",
       "   '2022',\n",
       "   'Las Leyendas Nunca Mueren',\n",
       "   'Las Leyendas Nunca Mueren 2',\n",
       "   'LLNM',\n",
       "   'LLNM2',\n",
       "   'anuel aa',\n",
       "   'ANUEL',\n",
       "   'new album',\n",
       "   'nuevo album',\n",
       "   'Mambo kingz',\n",
       "   'dj luian',\n",
       "   'maluma'],\n",
       "  'duration': 'PT3M47S',\n",
       "  'licensed_content': True},\n",
       " 'statistics': {'view_count': 29591038,\n",
       "  'like_count': 687450,\n",
       "  'comment_count': 37545}}"
      ]
     },
     "execution_count": 115,
     "metadata": {},
     "output_type": "execute_result"
    }
   ],
   "source": [
    "movies[-1].get_video_stats_details()"
   ]
  },
  {
   "cell_type": "code",
   "execution_count": 18,
   "id": "ebd37f27",
   "metadata": {},
   "outputs": [],
   "source": [
    "youtube = YouTube(credentials_file='/home/lyle/Downloads/client_secret.json', \n",
    "                  token_path='')\n",
    "youtube_client = youtube.get_youtube()"
   ]
  },
  {
   "cell_type": "code",
   "execution_count": 143,
   "id": "a160f52b",
   "metadata": {},
   "outputs": [],
   "source": [
    "class PlaylistItem:\n",
    "    def __init__(self, id, publishedAt, channelId, title, description, thumbnails, \n",
    "                channelTitle, position, videoId, videoOwnerChannelTitle, \n",
    "                videoOwnerChannelId):\n",
    "        self.__id = id\n",
    "        self.__publishedAt = publishedAt\n",
    "        self.__channelId = channelId\n",
    "        self.__title = title\n",
    "        self.__description = description\n",
    "        self.__thumbnails = thumbnails\n",
    "        self.__channelTitle = channelTitle\n",
    "        self.__position = int(position)\n",
    "        self.__videoId = videoId\n",
    "        self.__videoOwnerChannelTitle = videoOwnerChannelTitle\n",
    "        self.__videoOwnerChannelId = videoOwnerChannelId\n",
    "        self.__video = None\n",
    "        \n",
    "    def get_video(self, youtube_client):\n",
    "        if not self.__video:\n",
    "            self.__video = FindVideo(self.__videoId).find_video(youtube_client)\n",
    "        return self.__video"
   ]
  },
  {
   "cell_type": "code",
   "execution_count": 171,
   "id": "3adfdcff",
   "metadata": {},
   "outputs": [],
   "source": [
    "class PlayList:\n",
    "    def __init__(self, id, channelId, title, description, thumbnails, channelTitle, \n",
    "                itemCount, player):\n",
    "        self.__id = id\n",
    "        self.__channelId = channelId\n",
    "        self.__title = title\n",
    "        self.__description = description\n",
    "        self.__thumbnails = thumbnails\n",
    "        self.__channelTitle = channelTitle\n",
    "        self.__itemCount = itemCount\n",
    "        self.__player = player\n",
    "        self.__playlist_items = []\n",
    "        self.__videos = []\n",
    "        \n",
    "    def get_playlist_items(self, youtube_client):\n",
    "        if not self.__playlist_items:\n",
    "            basic_info_params = self.__generate_basic_info_params()\n",
    "            search_request = youtube_client.playlistItems().list(\n",
    "                **basic_info_params\n",
    "            )\n",
    "            search_response = search_request.execute()\n",
    "            parsed_response = self.__parse_playlist_items(search_response)\n",
    "            self.__playlist_items = [PlaylistItem(**item) for item in parsed_response]\n",
    "        return self.__playlist_items\n",
    "    \n",
    "    def get_videos(self, youtube_client):\n",
    "        if not self.__videos:\n",
    "            play_list_items = self.get_playlist_items(youtube_client)\n",
    "            for playlist_item in play_list_items:\n",
    "                self.__videos.append(playlist_item.get_video(youtube_client))\n",
    "        return self.__videos\n",
    "    \n",
    "    def __generate_basic_info_params(self):\n",
    "        basic_info_params = dict(\n",
    "            part='id,snippet,contentDetails',\n",
    "            playlistId=self.__id\n",
    "        ) \n",
    "        return basic_info_params\n",
    "    \n",
    "    def __parse_playlist_items(self, search_response):\n",
    "        playlist_items = []\n",
    "        items = search_response['items']\n",
    "        for item in items:\n",
    "            playlist_item = dict()\n",
    "            playlist_item['id'] = item['id']\n",
    "            playlist_item['publishedAt'] = item['snippet']['publishedAt']\n",
    "            playlist_item['channelId'] = item['snippet']['channelId']\n",
    "            playlist_item['title'] = item['snippet']['title']\n",
    "            playlist_item['description'] = item['snippet']['description']\n",
    "            playlist_item['thumbnails'] = item['snippet']['thumbnails']\n",
    "            playlist_item['channelTitle'] = item['snippet']['channelTitle']\n",
    "            playlist_item['position'] = item['snippet']['position']\n",
    "            playlist_item['videoId'] = item['snippet']['resourceId']['videoId']\n",
    "            playlist_item['videoOwnerChannelTitle'] = item['snippet']['videoOwnerChannelTitle']\n",
    "            playlist_item['videoOwnerChannelId'] = item['snippet']['videoOwnerChannelId']\n",
    "            playlist_items.append(playlist_item)\n",
    "        return playlist_items\n",
    "    \n",
    "    def get_playlist_thumbnail(self):\n",
    "        return self.__thumbnails['standard']['url']\n",
    "    \n",
    "    def get_playlist_title(self):\n",
    "        return self.__title\n",
    "    \n",
    "    def get_playlist_channel_title(self):\n",
    "        pass"
   ]
  },
  {
   "cell_type": "code",
   "execution_count": 174,
   "id": "0bb61345",
   "metadata": {},
   "outputs": [],
   "source": [
    "class FindPlaylist:\n",
    "    def __init__(self, playlist_id: str):\n",
    "        \"\"\"Find the video with the given id.\"\"\"\n",
    "        self.__playlist_id = playlist_id\n",
    "        \n",
    "    def __generate_basic_info_params(self):\n",
    "        basic_info_params = dict(\n",
    "            id=self.__playlist_id,\n",
    "            part='id,snippet,contentDetails,player',\n",
    "        ) \n",
    "        return basic_info_params\n",
    "    \n",
    "    def find_playlist(self, youtube_client):\n",
    "        \"\"\"Find the video.\"\"\"\n",
    "        basic_info_params = self.__generate_basic_info_params()\n",
    "        search_request = youtube_client.playlists().list(\n",
    "                **basic_info_params\n",
    "            )\n",
    "        search_response = search_request.execute()\n",
    "        parsed_response = self.__parse_playlist(search_response)\n",
    "        youtube_playlist = PlayList(**parsed_response)\n",
    "        return youtube_playlist\n",
    "    \n",
    "    def __parse_playlist(self, search_response):\n",
    "        playlist_details = dict()\n",
    "        items = search_response['items'][0]\n",
    "        playlist_details['id'] = items['id']\n",
    "        playlist_details['channelId'] = items['snippet']['channelId']\n",
    "        playlist_details['title'] = items['snippet']['title']\n",
    "        playlist_details['description'] = items['snippet']['description']\n",
    "        playlist_details['thumbnails'] = items['snippet']['thumbnails']\n",
    "        playlist_details['channelTitle'] = items['snippet']['channelTitle']\n",
    "        playlist_details['itemCount'] = items['contentDetails']['itemCount']\n",
    "        playlist_details['player'] = items['player']['embedHtml']\n",
    "        return playlist_details"
   ]
  },
  {
   "cell_type": "code",
   "execution_count": 175,
   "id": "a9019f3d",
   "metadata": {},
   "outputs": [],
   "source": [
    "playlist = FindPlaylist('PLsyeobzWxl7poL9JTVyndKe62ieoN-MZ3').find_playlist(youtube_client)"
   ]
  },
  {
   "cell_type": "code",
   "execution_count": 176,
   "id": "3d60bcec",
   "metadata": {},
   "outputs": [
    {
     "data": {
      "text/plain": [
       "'https://i.ytimg.com/vi/QXeEoD0pB3E/sddefault.jpg'"
      ]
     },
     "execution_count": 176,
     "metadata": {},
     "output_type": "execute_result"
    }
   ],
   "source": [
    "playlist.get_playlist_thumbnail()"
   ]
  },
  {
   "cell_type": "code",
   "execution_count": 167,
   "id": "ea27bc5d",
   "metadata": {},
   "outputs": [
    {
     "data": {
      "text/plain": [
       "{'id': 'PLsyeobzWxl7poL9JTVyndKe62ieoN-MZ3',\n",
       " 'channelId': 'UC59K-uG2A5ogwIrHw4bmlEg',\n",
       " 'title': 'Python for Beginners (Full Course) | Programming Tutorial',\n",
       " 'description': 'Python Tutorial, Easy Python tutorial for beginner, learn Python Programming, learn python programming with example and syntax. Download python, install python, using python IDE, IDLE, Pycharm IDE, notepad,  getting started with python, variables, functions, object, list in python, set in python, help in python, data types, operators, math function, run, debug python code, conditional statement, array, matrix in python, python by navin reddy',\n",
       " 'thumbnails': {'default': {'url': 'https://i.ytimg.com/vi/QXeEoD0pB3E/default.jpg',\n",
       "   'width': 120,\n",
       "   'height': 90},\n",
       "  'medium': {'url': 'https://i.ytimg.com/vi/QXeEoD0pB3E/mqdefault.jpg',\n",
       "   'width': 320,\n",
       "   'height': 180},\n",
       "  'high': {'url': 'https://i.ytimg.com/vi/QXeEoD0pB3E/hqdefault.jpg',\n",
       "   'width': 480,\n",
       "   'height': 360},\n",
       "  'standard': {'url': 'https://i.ytimg.com/vi/QXeEoD0pB3E/sddefault.jpg',\n",
       "   'width': 640,\n",
       "   'height': 480},\n",
       "  'maxres': {'url': 'https://i.ytimg.com/vi/QXeEoD0pB3E/maxresdefault.jpg',\n",
       "   'width': 1280,\n",
       "   'height': 720}},\n",
       " 'channelTitle': 'Telusko',\n",
       " 'itemCount': 112,\n",
       " 'player': '<iframe width=\"640\" height=\"360\" src=\"http://www.youtube.com/embed/videoseries?list=PLsyeobzWxl7poL9JTVyndKe62ieoN-MZ3\" frameborder=\"0\" allow=\"accelerometer; autoplay; clipboard-write; encrypted-media; gyroscope; picture-in-picture; web-share\" allowfullscreen></iframe>'}"
      ]
     },
     "execution_count": 167,
     "metadata": {},
     "output_type": "execute_result"
    }
   ],
   "source": [
    "playlist"
   ]
  },
  {
   "cell_type": "code",
   "execution_count": 170,
   "id": "b80708f1",
   "metadata": {},
   "outputs": [
    {
     "data": {
      "text/plain": [
       "'https://i.ytimg.com/vi/QXeEoD0pB3E/sddefault.jpg'"
      ]
     },
     "execution_count": 170,
     "metadata": {},
     "output_type": "execute_result"
    }
   ],
   "source": [
    "playlist['thumbnails']['standard']['url']"
   ]
  },
  {
   "cell_type": "code",
   "execution_count": 146,
   "id": "aed4031f",
   "metadata": {},
   "outputs": [],
   "source": [
    "class PlaylistSearch(YouTubeSearch):\n",
    "    __MAX_RESULTS = 10\n",
    "    __REGION_CODE = 'US'\n",
    "    \n",
    "    def __init__(self, query_string: str):\n",
    "        self.__type = YouTubeSearchType.PLAYLIST\n",
    "        self.__query = YouTubeSearchQuery(query_string)\n",
    "        \n",
    "    def __get_query(self):\n",
    "        return self.__query.query_string\n",
    "        \n",
    "    def basic_info(self):\n",
    "        basic_info_params = self.__generate_basic_info_params()\n",
    "        return basic_info_params\n",
    "    \n",
    "    def advanced_info(self):\n",
    "        pass\n",
    "    \n",
    "    def all_info(self):\n",
    "        pass\n",
    "    \n",
    "    def __generate_basic_info_params(self):\n",
    "        basic_info_params = dict(\n",
    "            part='id',\n",
    "            type=self.__type,\n",
    "            q=self.__get_query(),\n",
    "            maxResults=self.__MAX_RESULTS,\n",
    "        ) \n",
    "        return basic_info_params\n",
    "    \n",
    "    def search_playlist(self, youtube_client, search_type='basic'):\n",
    "        search_response = None\n",
    "        if search_type == 'basic':\n",
    "            basic_info_params = self.__generate_basic_info_params()\n",
    "            search_request = youtube_client.search().list(\n",
    "                **basic_info_params\n",
    "            )\n",
    "            search_response = search_request.execute()\n",
    "            playlist_ids = self.__parse_playlists(search_response)\n",
    "            play_lists = [FindPlaylist(playlist_id).find_playlist(youtube_client)\n",
    "                         for playlist_id in playlist_ids]\n",
    "        return play_lists\n",
    "    \n",
    "    def __parse_playlists(self, search_response):\n",
    "        playlists_ids = []\n",
    "        items = search_response['items']\n",
    "        for item in items:\n",
    "            playlists_ids.append(item['id']['playlistId'])\n",
    "        return playlists_ids\n",
    "        "
   ]
  },
  {
   "cell_type": "code",
   "execution_count": 44,
   "id": "9d486549",
   "metadata": {},
   "outputs": [],
   "source": [
    "playlists = PlaylistSearch('python programming').search_playlist(youtube_client)"
   ]
  },
  {
   "cell_type": "code",
   "execution_count": 147,
   "id": "2bd8a922",
   "metadata": {},
   "outputs": [],
   "source": [
    "class Channel:\n",
    "    def __init__(self, id, title, description, customUrl, publishedAt, thumbnails, statistics):\n",
    "        self.__id = id\n",
    "        self.__title = title\n",
    "        self.__description = description\n",
    "        self.__customUrl = customUrl\n",
    "        self.__publishedAt = publishedAt\n",
    "        self.__thumbnails = thumbnails\n",
    "        self.__statistics = statistics"
   ]
  },
  {
   "cell_type": "code",
   "execution_count": 153,
   "id": "26cc947f",
   "metadata": {},
   "outputs": [],
   "source": [
    "class FindChannel:       \n",
    "    def __generate_basic_info_params(self, channel_id):\n",
    "        basic_info_params = dict(\n",
    "            id=channel_id,\n",
    "            part='id,snippet,contentDetails,contentOwnerDetails,statistics,topicDetails',\n",
    "        ) \n",
    "        return basic_info_params\n",
    "    \n",
    "    def find_channel_by_name(self, youtube_client):\n",
    "        pass\n",
    "    \n",
    "    def find_channel_by_id(self, channel_id, youtube_client):\n",
    "        \"\"\"Find the video.\"\"\"\n",
    "        basic_info_params = self.__generate_basic_info_params(channel_id)\n",
    "        search_request = youtube_client.channels().list(\n",
    "                **basic_info_params\n",
    "            )\n",
    "        search_response = search_request.execute()\n",
    "        parsed_response = self.__parse_channel(search_response)\n",
    "        youtube_channel = Channel(**parsed_response)\n",
    "        return youtube_channel\n",
    "    \n",
    "    def __parse_channel(self, search_response):\n",
    "        channel_details = {}\n",
    "        items = search_response['items'][0]\n",
    "        channel_details['id'] = items['id']\n",
    "        channel_details['title'] = items['snippet']['title']\n",
    "        channel_details['description'] = items['snippet']['description']\n",
    "        channel_details['customUrl'] = items['snippet']['customUrl']\n",
    "        channel_details['publishedAt'] = items['snippet']['publishedAt']\n",
    "        channel_details['thumbnails'] = items['snippet']['thumbnails']\n",
    "        channel_details['statistics'] = dict()\n",
    "        channel_details['statistics']['viewCount'] = items['statistics']['viewCount']\n",
    "        channel_details['statistics']['subscriberCount'] = items['statistics']['subscriberCount']\n",
    "        channel_details['statistics']['videoCount'] = items['statistics']['videoCount']\n",
    "        return channel_details"
   ]
  },
  {
   "cell_type": "code",
   "execution_count": 154,
   "id": "5db71749",
   "metadata": {},
   "outputs": [],
   "source": [
    "channel = FindChannel().find_channel_by_id('UC_q1lWD0uKH8tMsX8w_u94g', youtube_client)"
   ]
  },
  {
   "cell_type": "code",
   "execution_count": 155,
   "id": "70e12299",
   "metadata": {},
   "outputs": [
    {
     "data": {
      "text/plain": [
       "<__main__.Channel at 0x7fbf9f725c60>"
      ]
     },
     "execution_count": 155,
     "metadata": {},
     "output_type": "execute_result"
    }
   ],
   "source": [
    "channel"
   ]
  },
  {
   "cell_type": "code",
   "execution_count": 160,
   "id": "ab4f776d",
   "metadata": {},
   "outputs": [],
   "source": [
    "class ChannelSearch(YouTubeSearch):\n",
    "    __MAX_RESULTS = 10\n",
    "    __REGION_CODE = 'US'\n",
    "    \n",
    "    def __init__(self, query_string: str):\n",
    "        self.__type = YouTubeSearchType.CHANNEL\n",
    "        self.__query = YouTubeSearchQuery(query_string)\n",
    "        \n",
    "    def __get_query(self):\n",
    "        return self.__query.query_string\n",
    "        \n",
    "    def basic_info(self):\n",
    "        basic_info_params = self.__generate_basic_info_params()\n",
    "        return basic_info_params\n",
    "    \n",
    "    def advanced_info(self):\n",
    "        pass\n",
    "    \n",
    "    def all_info(self):\n",
    "        pass\n",
    "    \n",
    "    def __generate_basic_info_params(self):\n",
    "        basic_info_params = dict(\n",
    "            part='id',\n",
    "            type=self.__type,\n",
    "            q=self.__get_query(),\n",
    "            maxResults=self.__MAX_RESULTS,\n",
    "        ) \n",
    "        return basic_info_params\n",
    "    \n",
    "    def search_channels(self, youtube_client, search_type='basic'):\n",
    "        search_response = None\n",
    "        if search_type == 'basic':\n",
    "            basic_info_params = self.__generate_basic_info_params()\n",
    "            search_request = youtube_client.search().list(\n",
    "                **basic_info_params\n",
    "            )\n",
    "            search_response = search_request.execute()\n",
    "            channel_ids = self.__parse_channels(search_response)\n",
    "            channels = [FindChannel().find_channel_by_id(channel_id, youtube_client)\n",
    "                         for channel_id in channel_ids]\n",
    "        return channels\n",
    "    \n",
    "    def __parse_channels(self, search_response):\n",
    "        channels_ids = []\n",
    "        items = search_response['items']\n",
    "        for item in items:\n",
    "            channels_ids.append(item['id']['channelId'])\n",
    "        return channels_ids\n",
    "        "
   ]
  },
  {
   "cell_type": "code",
   "execution_count": 161,
   "id": "a8ccff82",
   "metadata": {},
   "outputs": [],
   "source": [
    "channels = ChannelSearch('python programming').search_channels(youtube_client)"
   ]
  },
  {
   "cell_type": "code",
   "execution_count": 162,
   "id": "79fd6ce6",
   "metadata": {},
   "outputs": [
    {
     "data": {
      "text/plain": [
       "[<__main__.Channel at 0x7fbfb809d240>,\n",
       " <__main__.Channel at 0x7fbfb809cd30>,\n",
       " <__main__.Channel at 0x7fbf9f7020b0>,\n",
       " <__main__.Channel at 0x7fbf9f703d30>,\n",
       " <__main__.Channel at 0x7fbf9f702d40>,\n",
       " <__main__.Channel at 0x7fbf9f70c310>,\n",
       " <__main__.Channel at 0x7fbf9f7004f0>,\n",
       " <__main__.Channel at 0x7fbf9f703b80>,\n",
       " <__main__.Channel at 0x7fbfb8090400>,\n",
       " <__main__.Channel at 0x7fbfb809e4a0>]"
      ]
     },
     "execution_count": 162,
     "metadata": {},
     "output_type": "execute_result"
    }
   ],
   "source": [
    "channels"
   ]
  },
  {
   "cell_type": "code",
   "execution_count": null,
   "id": "a1e64776",
   "metadata": {},
   "outputs": [],
   "source": []
  }
 ],
 "metadata": {
  "kernelspec": {
   "display_name": "Python 3 (ipykernel)",
   "language": "python",
   "name": "python3"
  },
  "language_info": {
   "codemirror_mode": {
    "name": "ipython",
    "version": 3
   },
   "file_extension": ".py",
   "mimetype": "text/x-python",
   "name": "python",
   "nbconvert_exporter": "python",
   "pygments_lexer": "ipython3",
   "version": "3.10.6"
  }
 },
 "nbformat": 4,
 "nbformat_minor": 5
}
